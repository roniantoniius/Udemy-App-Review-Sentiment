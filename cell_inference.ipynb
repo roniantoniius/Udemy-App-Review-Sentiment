{
 "cells": [
  {
   "cell_type": "markdown",
   "metadata": {
    "id": "vaHVVz2Neeyh"
   },
   "source": [
    "# Cell Inference Sentimen Terhadap Aplikasi Udemy"
   ]
  },
  {
   "cell_type": "markdown",
   "metadata": {
    "id": "b9q4fAwQelVh"
   },
   "source": [
    "**Submission Proyek Analisis Sentimen**\n",
    "\n",
    "**DBS Foundation Coding Camp**\n",
    "\n",
    "\n",
    "*   **Nama**            : Roni Antonius Sinabutar\n",
    "*   **Username**   : aantoniusron\n",
    "*   **Domisili**  : Cianjur, Jawa Barat\n",
    "*   **email**      : aantoniusron@gmail.com\n",
    "*   **Kelas**      : Belajar Pengembangan Machine Learning"
   ]
  },
  {
   "cell_type": "code",
   "execution_count": 2,
   "metadata": {
    "id": "NNazGZROe0I4"
   },
   "outputs": [],
   "source": [
    "import warnings\n",
    "warnings.filterwarnings(action='ignore')"
   ]
  },
  {
   "cell_type": "code",
   "execution_count": 3,
   "metadata": {
    "id": "PDtT8XM5i6eh"
   },
   "outputs": [],
   "source": [
    "import nltk\n",
    "import torch\n",
    "import random\n",
    "import pickle\n",
    "import inflect\n",
    "import re, string\n",
    "import unicodedata\n",
    "import contractions"
   ]
  },
  {
   "cell_type": "code",
   "execution_count": 4,
   "metadata": {
    "id": "7E_T3FRaenkO"
   },
   "outputs": [],
   "source": [
    "from pyforest                          import *\n",
    "from wordcloud                         import WordCloud\n",
    "from nltk.corpus                       import stopwords\n",
    "from keras.models                      import Sequential\n",
    "from nltk.stem.porter                  import PorterStemmer\n",
    "from bs4                               import BeautifulSoup\n",
    "from sklearn.feature_extraction.text   import TfidfVectorizer\n",
    "from sklearn.model_selection           import train_test_split\n",
    "from nltk.sentiment.vader              import SentimentIntensityAnalyzer\n",
    "from sklearn.metrics.pairwise          import cosine_similarity, linear_kernel\n",
    "from sklearn.metrics                   import classification_report, accuracy_score\n",
    "from keras.layers                      import Embedding, GRU, Dense, Dropout, Flatten\n",
    "from sklearn.metrics                   import precision_score, recall_score, f1_score\n",
    "from nltk.tokenize                     import word_tokenize, sent_tokenize, regexp_tokenize\n",
    "from nltk.stem                         import LancasterStemmer, WordNetLemmatizer, SnowballStemmer\n",
    "\n",
    "from transformers                      import (Trainer,\n",
    "                                               AutoTokenizer,\n",
    "                                               RobertaTokenizer,\n",
    "                                               TrainingArguments,\n",
    "                                               DistilBertTokenizer,\n",
    "                                               RobertaForSequenceClassification,\n",
    "                                               AutoModelForSequenceClassification,\n",
    "                                               DistilBertForSequenceClassification)"
   ]
  },
  {
   "cell_type": "code",
   "execution_count": 5,
   "metadata": {
    "colab": {
     "base_uri": "https://localhost:8080/"
    },
    "id": "Iw8at4qlenpX",
    "outputId": "a2390527-1fd5-4bb9-f602-9f7e89c7c056"
   },
   "outputs": [
    {
     "name": "stdout",
     "output_type": "stream",
     "text": [
      "Drive already mounted at /content/drive; to attempt to forcibly remount, call drive.mount(\"/content/drive\", force_remount=True).\n"
     ]
    }
   ],
   "source": [
    "from google.colab import drive\n",
    "drive.mount('/content/drive')"
   ]
  },
  {
   "cell_type": "code",
   "execution_count": 6,
   "metadata": {
    "id": "tpp4kajSlulI"
   },
   "outputs": [],
   "source": [
    "twitter_roberta_tokenizer = torch.load('/content/drive/MyDrive/Colab Notebooks/dataset/twitter_roberta_tokenizer.pth')"
   ]
  },
  {
   "cell_type": "code",
   "execution_count": 7,
   "metadata": {
    "colab": {
     "base_uri": "https://localhost:8080/"
    },
    "id": "uv96Gf7vj5LX",
    "outputId": "376e6e38-6bd2-4521-cf44-e1bf26b14f92"
   },
   "outputs": [
    {
     "data": {
      "text/plain": [
       "<All keys matched successfully>"
      ]
     },
     "execution_count": 7,
     "metadata": {},
     "output_type": "execute_result"
    }
   ],
   "source": [
    "twitter_roberta_model     = AutoModelForSequenceClassification.from_pretrained(\n",
    "    'cardiffnlp/twitter-roberta-base-sentiment',\n",
    "     num_labels=3)\n",
    "\n",
    "\n",
    "model_state_dict = torch.load('/content/drive/MyDrive/Colab Notebooks/dataset/twitter_roberta_model.pth',\n",
    "                              map_location=torch.device('cpu'))\n",
    "\n",
    "twitter_roberta_model.load_state_dict(model_state_dict)"
   ]
  },
  {
   "cell_type": "code",
   "execution_count": 8,
   "metadata": {
    "id": "IgZKcBj1j5Ns"
   },
   "outputs": [],
   "source": [
    "def cleaningText(text):\n",
    "    text = re.sub(r'@[A-Za-z0-9]+', '', text)\n",
    "    text = re.sub(r'#[A-Za-z0-9]+', '', text)\n",
    "    text = re.sub(r'RT[\\s]', '', text)\n",
    "    text = re.sub(r\"http\\S+\", '', text)\n",
    "    text = re.sub(r'[0-9]+', '', text)\n",
    "    text = re.sub(r'[^\\w\\s]', '', text)\n",
    "    text = text.replace('\\n', ' ')\n",
    "    text = text.translate(str.maketrans('', '', string.punctuation))\n",
    "    text = text.strip()\n",
    "    return text\n",
    "\n",
    "def casefoldingText(text):\n",
    "    text = text.lower()\n",
    "    return text\n",
    "\n",
    "def tokenizingText(text):\n",
    "    text = word_tokenize(text)\n",
    "    return text\n",
    "\n",
    "def filteringText(text):\n",
    "    stop_words_eng = set(stopwords.words('english'))\n",
    "    filtered_text  = [word for word in text if word.lower() not in stop_words_eng]\n",
    "    return filtered_text\n",
    "\n",
    "def stemmingTextSnowball(text):\n",
    "    snowball = SnowballStemmer('english')\n",
    "    stemmed_words = [snowball.stem(word) for word in text]\n",
    "    stemmed_text = ' '.join(stemmed_words)\n",
    "    return stemmed_text\n",
    "\n",
    "class TwitterRobertaSentimentDataset(torch.utils.data.Dataset):\n",
    "    def __init__(self, encodings):\n",
    "        self.encodings = encodings\n",
    "\n",
    "    def __getitem__(self, idx):\n",
    "        item = {key: torch.tensor(val[idx]) for key, val in self.encodings.items()}\n",
    "        return item\n",
    "\n",
    "    def __len__(self):\n",
    "        return 1\n"
   ]
  },
  {
   "cell_type": "code",
   "execution_count": 9,
   "metadata": {
    "id": "nHccZjXej5QO"
   },
   "outputs": [],
   "source": [
    "def sentimen_udemy(teks):\n",
    "\n",
    "    kalimat_baru_cleaned     = cleaningText(teks)\n",
    "    kalimat_baru_casefolded  = casefoldingText(kalimat_baru_cleaned)\n",
    "    kalimat_baru_tokenized   = tokenizingText(kalimat_baru_casefolded)\n",
    "    kalimat_baru_filtered    = filteringText(kalimat_baru_tokenized)\n",
    "    kalimat_baru_final       = stemmingTextSnowball(kalimat_baru_filtered)\n",
    "\n",
    "    inputs = twitter_roberta_tokenizer(kalimat_baru_final, return_tensors='pt', truncation=True, padding=True)\n",
    "\n",
    "    with torch.no_grad():\n",
    "        outputs = twitter_roberta_model(**inputs)\n",
    "\n",
    "    logits             = outputs.logits\n",
    "    prediksi_sentimen  = torch.argmax(logits, dim=1)\n",
    "    label_map          = {2: 'positive', 0: 'negative', 1: 'neutral'}\n",
    "    predicted_label    = label_map[prediksi_sentimen.item()]\n",
    "\n",
    "    return predicted_label"
   ]
  },
  {
   "cell_type": "code",
   "execution_count": 10,
   "metadata": {
    "colab": {
     "base_uri": "https://localhost:8080/",
     "height": 73
    },
    "id": "IRfJBqISjof3",
    "outputId": "15e6194e-78a8-40b0-d324-e78d6f70da75"
   },
   "outputs": [
    {
     "name": "stdout",
     "output_type": "stream",
     "text": [
      "Masukkan kalimat baru: Udemy has helped me to upskill and reskill in a way that's convenient and affordable. I highly recommend it to anyone looking to improve their career prospects.\n"
     ]
    },
    {
     "data": {
      "application/javascript": [
       "\n",
       "        if (window._pyforest_update_imports_cell) { window._pyforest_update_imports_cell('import re'); }\n",
       "    "
      ],
      "text/plain": [
       "<IPython.core.display.Javascript object>"
      ]
     },
     "metadata": {},
     "output_type": "display_data"
    },
    {
     "data": {
      "application/javascript": [
       "\n",
       "        if (window._pyforest_update_imports_cell) { window._pyforest_update_imports_cell('import re'); }\n",
       "    "
      ],
      "text/plain": [
       "<IPython.core.display.Javascript object>"
      ]
     },
     "metadata": {},
     "output_type": "display_data"
    },
    {
     "data": {
      "application/javascript": [
       "\n",
       "        if (window._pyforest_update_imports_cell) { window._pyforest_update_imports_cell('import re'); }\n",
       "    "
      ],
      "text/plain": [
       "<IPython.core.display.Javascript object>"
      ]
     },
     "metadata": {},
     "output_type": "display_data"
    },
    {
     "data": {
      "application/javascript": [
       "\n",
       "        if (window._pyforest_update_imports_cell) { window._pyforest_update_imports_cell('import re'); }\n",
       "    "
      ],
      "text/plain": [
       "<IPython.core.display.Javascript object>"
      ]
     },
     "metadata": {},
     "output_type": "display_data"
    },
    {
     "data": {
      "application/javascript": [
       "\n",
       "        if (window._pyforest_update_imports_cell) { window._pyforest_update_imports_cell('import re'); }\n",
       "    "
      ],
      "text/plain": [
       "<IPython.core.display.Javascript object>"
      ]
     },
     "metadata": {},
     "output_type": "display_data"
    },
    {
     "data": {
      "application/javascript": [
       "\n",
       "        if (window._pyforest_update_imports_cell) { window._pyforest_update_imports_cell('import re'); }\n",
       "    "
      ],
      "text/plain": [
       "<IPython.core.display.Javascript object>"
      ]
     },
     "metadata": {},
     "output_type": "display_data"
    },
    {
     "name": "stdout",
     "output_type": "stream",
     "text": [
      "Sentimen kalimat baru adalah positive.\n"
     ]
    }
   ],
   "source": [
    "teks1     = input(\"Masukkan kalimat baru: \")\n",
    "sentimen1 = sentimen_udemy(teks1)\n",
    "print(f\"Sentimen kalimat baru adalah {sentimen1}.\")"
   ]
  },
  {
   "cell_type": "code",
   "execution_count": 11,
   "metadata": {
    "colab": {
     "base_uri": "https://localhost:8080/",
     "height": 53
    },
    "id": "s3twH70wjoiV",
    "outputId": "ab680a6c-752b-41e0-de5c-a5cf6a68991a"
   },
   "outputs": [
    {
     "name": "stdout",
     "output_type": "stream",
     "text": [
      "Masukkan kalimat baru: Udemy is a total waste of time. The courses are poorly made and the instructors are unengaging\n"
     ]
    },
    {
     "data": {
      "application/javascript": [
       "\n",
       "        if (window._pyforest_update_imports_cell) { window._pyforest_update_imports_cell('import re'); }\n",
       "    "
      ],
      "text/plain": [
       "<IPython.core.display.Javascript object>"
      ]
     },
     "metadata": {},
     "output_type": "display_data"
    },
    {
     "data": {
      "application/javascript": [
       "\n",
       "        if (window._pyforest_update_imports_cell) { window._pyforest_update_imports_cell('import re'); }\n",
       "    "
      ],
      "text/plain": [
       "<IPython.core.display.Javascript object>"
      ]
     },
     "metadata": {},
     "output_type": "display_data"
    },
    {
     "data": {
      "application/javascript": [
       "\n",
       "        if (window._pyforest_update_imports_cell) { window._pyforest_update_imports_cell('import re'); }\n",
       "    "
      ],
      "text/plain": [
       "<IPython.core.display.Javascript object>"
      ]
     },
     "metadata": {},
     "output_type": "display_data"
    },
    {
     "data": {
      "application/javascript": [
       "\n",
       "        if (window._pyforest_update_imports_cell) { window._pyforest_update_imports_cell('import re'); }\n",
       "    "
      ],
      "text/plain": [
       "<IPython.core.display.Javascript object>"
      ]
     },
     "metadata": {},
     "output_type": "display_data"
    },
    {
     "data": {
      "application/javascript": [
       "\n",
       "        if (window._pyforest_update_imports_cell) { window._pyforest_update_imports_cell('import re'); }\n",
       "    "
      ],
      "text/plain": [
       "<IPython.core.display.Javascript object>"
      ]
     },
     "metadata": {},
     "output_type": "display_data"
    },
    {
     "data": {
      "application/javascript": [
       "\n",
       "        if (window._pyforest_update_imports_cell) { window._pyforest_update_imports_cell('import re'); }\n",
       "    "
      ],
      "text/plain": [
       "<IPython.core.display.Javascript object>"
      ]
     },
     "metadata": {},
     "output_type": "display_data"
    },
    {
     "name": "stdout",
     "output_type": "stream",
     "text": [
      "Sentimen kalimat baru adalah negative.\n"
     ]
    }
   ],
   "source": [
    "teks2     = input(\"Masukkan kalimat baru: \")\n",
    "sentimen2 = sentimen_udemy(teks2)\n",
    "print(f\"Sentimen kalimat baru adalah {sentimen2}.\")"
   ]
  },
  {
   "cell_type": "code",
   "execution_count": 12,
   "metadata": {
    "colab": {
     "base_uri": "https://localhost:8080/",
     "height": 53
    },
    "id": "JJgoHvzZj5Sf",
    "outputId": "29a336f5-20f6-4126-c6ed-82142c01c8c7"
   },
   "outputs": [
    {
     "name": "stdout",
     "output_type": "stream",
     "text": [
      "Masukkan kalimat baru: I've been using Udemy for a bit now, and it's been a mixed bag\n"
     ]
    },
    {
     "data": {
      "application/javascript": [
       "\n",
       "        if (window._pyforest_update_imports_cell) { window._pyforest_update_imports_cell('import re'); }\n",
       "    "
      ],
      "text/plain": [
       "<IPython.core.display.Javascript object>"
      ]
     },
     "metadata": {},
     "output_type": "display_data"
    },
    {
     "data": {
      "application/javascript": [
       "\n",
       "        if (window._pyforest_update_imports_cell) { window._pyforest_update_imports_cell('import re'); }\n",
       "    "
      ],
      "text/plain": [
       "<IPython.core.display.Javascript object>"
      ]
     },
     "metadata": {},
     "output_type": "display_data"
    },
    {
     "data": {
      "application/javascript": [
       "\n",
       "        if (window._pyforest_update_imports_cell) { window._pyforest_update_imports_cell('import re'); }\n",
       "    "
      ],
      "text/plain": [
       "<IPython.core.display.Javascript object>"
      ]
     },
     "metadata": {},
     "output_type": "display_data"
    },
    {
     "data": {
      "application/javascript": [
       "\n",
       "        if (window._pyforest_update_imports_cell) { window._pyforest_update_imports_cell('import re'); }\n",
       "    "
      ],
      "text/plain": [
       "<IPython.core.display.Javascript object>"
      ]
     },
     "metadata": {},
     "output_type": "display_data"
    },
    {
     "data": {
      "application/javascript": [
       "\n",
       "        if (window._pyforest_update_imports_cell) { window._pyforest_update_imports_cell('import re'); }\n",
       "    "
      ],
      "text/plain": [
       "<IPython.core.display.Javascript object>"
      ]
     },
     "metadata": {},
     "output_type": "display_data"
    },
    {
     "data": {
      "application/javascript": [
       "\n",
       "        if (window._pyforest_update_imports_cell) { window._pyforest_update_imports_cell('import re'); }\n",
       "    "
      ],
      "text/plain": [
       "<IPython.core.display.Javascript object>"
      ]
     },
     "metadata": {},
     "output_type": "display_data"
    },
    {
     "name": "stdout",
     "output_type": "stream",
     "text": [
      "Sentimen kalimat baru adalah neutral.\n"
     ]
    }
   ],
   "source": [
    "teks3     = input(\"Masukkan kalimat baru: \")\n",
    "sentimen3 = sentimen_udemy(teks3)\n",
    "print(f\"Sentimen kalimat baru adalah {sentimen3}.\")"
   ]
  }
 ],
 "metadata": {
  "colab": {
   "provenance": []
  },
  "kernelspec": {
   "display_name": "Python 3 (ipykernel)",
   "language": "python",
   "name": "python3"
  },
  "language_info": {
   "codemirror_mode": {
    "name": "ipython",
    "version": 3
   },
   "file_extension": ".py",
   "mimetype": "text/x-python",
   "name": "python",
   "nbconvert_exporter": "python",
   "pygments_lexer": "ipython3",
   "version": "3.11.5"
  }
 },
 "nbformat": 4,
 "nbformat_minor": 1
}
