{
 "cells": [
  {
   "cell_type": "code",
   "execution_count": 1,
   "id": "f8a253e1",
   "metadata": {},
   "outputs": [],
   "source": [
    "import csv\n",
    "import warnings\n",
    "warnings.filterwarnings(\"ignore\")"
   ]
  },
  {
   "cell_type": "code",
   "execution_count": 8,
   "id": "b88da88a",
   "metadata": {},
   "outputs": [],
   "source": [
    "from   pyforest            import *\n",
    "from   google_play_scraper import app\n",
    "from   google_play_scraper import reviews, reviews_all\n",
    "from   google_play_scraper import Sort"
   ]
  },
  {
   "cell_type": "code",
   "execution_count": 2,
   "id": "141320f5",
   "metadata": {},
   "outputs": [],
   "source": [
    "udemy_scrap = reviews_all('com.udemy.android',\n",
    "                              lang    = 'en',\n",
    "                              country = 'us',\n",
    "                              sort    = Sort.MOST_RELEVANT,\n",
    "                              count   = 1)"
   ]
  },
  {
   "cell_type": "code",
   "execution_count": 3,
   "id": "787d4958",
   "metadata": {},
   "outputs": [],
   "source": [
    "udemy_scrap = udemy_scrap[:20001]"
   ]
  },
  {
   "cell_type": "code",
   "execution_count": 4,
   "id": "10050822",
   "metadata": {},
   "outputs": [],
   "source": [
    "with open('udemy_review_app20rb.csv',\n",
    "          mode='w',\n",
    "          newline='',\n",
    "          encoding='utf-8') as dataset:\n",
    "    \n",
    "    writer = csv.writer(dataset)\n",
    "    writer.writerow(['Review'])\n",
    "    \n",
    "    for review in udemy_scrap:\n",
    "        writer.writerow([review['content']])"
   ]
  },
  {
   "cell_type": "code",
   "execution_count": 5,
   "id": "c1d3df42",
   "metadata": {},
   "outputs": [
    {
     "data": {
      "application/javascript": [
       "\n",
       "        if (window._pyforest_update_imports_cell) { window._pyforest_update_imports_cell('import pandas as pd'); }\n",
       "    "
      ],
      "text/plain": [
       "<IPython.core.display.Javascript object>"
      ]
     },
     "metadata": {},
     "output_type": "display_data"
    },
    {
     "name": "stdout",
     "output_type": "stream",
     "text": [
      "Shape dari DataFrame: (20001, 11)\n",
      "                               reviewId       userName  \\\n",
      "0  897cc849-c477-4e60-a245-ff95b6c91c04  A Google user   \n",
      "1  28accf44-d191-4e14-a0de-3fa89b5cb376  A Google user   \n",
      "2  c1fd0153-8eb8-4e8a-83c7-69ee15d1ec2c  A Google user   \n",
      "3  bd8fec96-245a-431a-897d-ea2b4c2666c3  A Google user   \n",
      "4  594a173a-52f0-4130-956f-2594c517c404  A Google user   \n",
      "\n",
      "                                           userImage  \\\n",
      "0  https://play-lh.googleusercontent.com/EGemoI2N...   \n",
      "1  https://play-lh.googleusercontent.com/EGemoI2N...   \n",
      "2  https://play-lh.googleusercontent.com/EGemoI2N...   \n",
      "3  https://play-lh.googleusercontent.com/EGemoI2N...   \n",
      "4  https://play-lh.googleusercontent.com/EGemoI2N...   \n",
      "\n",
      "                                             content  score  thumbsUpCount  \\\n",
      "0  Thought I'd try their subscription plan so I s...      1              3   \n",
      "1  4/5 stars. The courses are awesome. I feel lik...      4             21   \n",
      "2  Frequent failures. Have to reload this thing e...      1              7   \n",
      "3  Terrible terrible player that freezes and refu...      1             10   \n",
      "4  This app is ABSOLUTE JUNK!! I'd give it ZERO S...      1              0   \n",
      "\n",
      "  reviewCreatedVersion                  at  \\\n",
      "0               9.35.0 2024-06-19 03:00:47   \n",
      "1               9.33.1 2024-05-24 12:40:45   \n",
      "2               9.33.1 2024-06-11 21:04:01   \n",
      "3               9.33.1 2024-06-13 18:52:01   \n",
      "4               9.33.1 2024-07-05 03:10:30   \n",
      "\n",
      "                                        replyContent           repliedAt  \\\n",
      "0  Hi Dustin.\\n\\nThanks for reaching out.\\n\\nStep... 2024-06-19 03:52:31   \n",
      "1                                               None                 NaT   \n",
      "2  Hi Andrew,\\n\\nThanks for your reply.\\n\\nTo pro... 2024-06-11 21:08:34   \n",
      "3  Hi there, thanks for reaching out and I’m sorr... 2024-06-13 19:00:50   \n",
      "4  Hi. Thanks for reaching out. Please visit our ... 2024-07-04 02:37:32   \n",
      "\n",
      "  appVersion  \n",
      "0     9.35.0  \n",
      "1     9.33.1  \n",
      "2     9.33.1  \n",
      "3     9.33.1  \n",
      "4     9.33.1  \n"
     ]
    }
   ],
   "source": [
    "dataframe      = pd.DataFrame(udemy_scrap)\n",
    "csv_path       = 'C:/Users/ASUS/kode/projek/20. Sentiment Analysis/udemy_review_app20rb.csv'\n",
    "\n",
    "dataframe.to_csv(csv_path, index=False)\n",
    "\n",
    "print(f\"Shape dari DataFrame: {dataframe.shape}\")\n",
    "print(dataframes.head())"
   ]
  },
  {
   "cell_type": "code",
   "execution_count": 6,
   "id": "0be5f7c6",
   "metadata": {},
   "outputs": [
    {
     "data": {
      "text/plain": [
       "0"
      ]
     },
     "execution_count": 6,
     "metadata": {},
     "output_type": "execute_result"
    }
   ],
   "source": [
    "dataframe.duplicated().sum()"
   ]
  },
  {
   "cell_type": "code",
   "execution_count": 7,
   "id": "c21e25a4",
   "metadata": {},
   "outputs": [
    {
     "data": {
      "text/plain": [
       "reviewId                    0\n",
       "userName                    0\n",
       "userImage                   0\n",
       "content                     0\n",
       "score                       0\n",
       "thumbsUpCount               0\n",
       "reviewCreatedVersion     1884\n",
       "at                          0\n",
       "replyContent            10113\n",
       "repliedAt               10113\n",
       "appVersion               1884\n",
       "dtype: int64"
      ]
     },
     "execution_count": 7,
     "metadata": {},
     "output_type": "execute_result"
    }
   ],
   "source": [
    "dataframe.isna().sum()"
   ]
  },
  {
   "cell_type": "markdown",
   "id": "06028d83",
   "metadata": {},
   "source": [
    "#### Variabel `content` merupakan data primer yang akan digunakan nantinya."
   ]
  }
 ],
 "metadata": {
  "kernelspec": {
   "display_name": "Python 3 (ipykernel)",
   "language": "python",
   "name": "python3"
  },
  "language_info": {
   "codemirror_mode": {
    "name": "ipython",
    "version": 3
   },
   "file_extension": ".py",
   "mimetype": "text/x-python",
   "name": "python",
   "nbconvert_exporter": "python",
   "pygments_lexer": "ipython3",
   "version": "3.11.5"
  }
 },
 "nbformat": 4,
 "nbformat_minor": 5
}
