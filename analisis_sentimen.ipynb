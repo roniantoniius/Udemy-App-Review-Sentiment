{
 "cells": [
  {
   "cell_type": "markdown",
   "metadata": {
    "id": "b59l3kQJU4jq"
   },
   "source": [
    "# Analysis Sentimen Terhadap Aplikasi Udemy"
   ]
  },
  {
   "cell_type": "markdown",
   "metadata": {
    "id": "35xSqG_yU4jt"
   },
   "source": [
    "**Submission Proyek Analisis Sentimen**\n",
    "\n",
    "**DBS Foundation Coding Camp**\n",
    "\n",
    "\n",
    "*   **Nama**            : Roni Antonius Sinabutar\n",
    "*   **Username**   : aantoniusron\n",
    "*   **Domisili**  : Cianjur, Jawa Barat\n",
    "*   **email**      : aantoniusron@gmail.com\n",
    "*   **Kelas**      : Belajar Pengembangan Machine Learning"
   ]
  },
  {
   "cell_type": "markdown",
   "metadata": {
    "id": "6qZ3-x7xU4jv"
   },
   "source": [
    "**📃 Data:**\n",
    "\n",
    "\n",
    "| Kolom                | Deskripsi Singkat                                     |\n",
    "|----------------------|-------------------------------------------------------|\n",
    "| reviewId             | ID unik review                           |\n",
    "| userName             | Nama pengguna                  |\n",
    "| userImage            | URL gambar profil                            |\n",
    "| content              | Isi atau teks ulasan                  |\n",
    "| score                | Skor ulasan (misalnya 1-5)|\n",
    "| thumbsUpCount        | Jumlah suka         |\n",
    "| reviewCreatedVersion | Versi aplikasi                     |\n",
    "| at                   | Tanggal dan waktu                      |\n",
    "| replyContent         | Isi balasan dari pengembang aplikasi                  |\n",
    "| repliedAt            | Tanggal dan waktu balasan diberikan                   |\n",
    "| appVersion           | Versi aplikasi yang digunakan  |\n"
   ]
  },
  {
   "cell_type": "code",
   "execution_count": 1,
   "metadata": {
    "colab": {
     "base_uri": "https://localhost:8080/"
    },
    "execution": {
     "iopub.execute_input": "2024-07-08T11:45:33.440100Z",
     "iopub.status.busy": "2024-07-08T11:45:33.439570Z",
     "iopub.status.idle": "2024-07-08T11:46:56.250124Z",
     "shell.execute_reply": "2024-07-08T11:46:56.249012Z",
     "shell.execute_reply.started": "2024-07-08T11:45:33.440072Z"
    },
    "id": "KKdfZ0S_U4jz",
    "outputId": "badca8c3-d8b5-46d2-c98d-fcdba1048dd6"
   },
   "outputs": [],
   "source": [
    "# !pip install accelerate==0.22.0\n",
    "# !pip install pyforest\n",
    "# !pip install inflect\n",
    "# !pip install contractions\n",
    "# !pip install beautifulsoup4\n",
    "# !pip install transformers==4.41.2 accelerate==0.30.1\n",
    "# !pip install nltk\n",
    "# !python -m nltk.downloader punkt\n",
    "# !python -m nltk.downloader stopwords\n",
    "# !python -m nltk.downloader wordnet\n",
    "# !python -m nltk.downloader omw-1.4\n",
    "# !python -m nltk.downloader vader_lexicon\n",
    "# !pip install transformers[torch]"
   ]
  },
  {
   "cell_type": "code",
   "execution_count": 1,
   "metadata": {
    "execution": {
     "iopub.execute_input": "2024-07-08T11:45:10.233576Z",
     "iopub.status.busy": "2024-07-08T11:45:10.232933Z",
     "iopub.status.idle": "2024-07-08T11:45:10.244034Z",
     "shell.execute_reply": "2024-07-08T11:45:10.243085Z",
     "shell.execute_reply.started": "2024-07-08T11:45:10.233542Z"
    },
    "id": "yZF551BLU4jw"
   },
   "outputs": [],
   "source": [
    "import   warnings\n",
    "warnings.filterwarnings(action='ignore')"
   ]
  },
  {
   "cell_type": "code",
   "execution_count": null,
   "metadata": {},
   "outputs": [],
   "source": [
    "import   gc\n",
    "import   nltk\n",
    "import   torch\n",
    "import   random\n",
    "import   pickle\n",
    "import   inflect\n",
    "import   re, string\n",
    "import   unicodedata\n",
    "import   contractions\n",
    "import   tensorflow.keras.backend as K"
   ]
  },
  {
   "cell_type": "code",
   "execution_count": null,
   "metadata": {},
   "outputs": [],
   "source": [
    "from pyforest                          import *\n",
    "from keras.optimizers                  import AdamW\n",
    "from wordcloud                         import WordCloud\n",
    "from nltk.corpus                       import stopwords\n",
    "from keras.models                      import Sequential\n",
    "from nltk.stem.porter                  import PorterStemmer\n",
    "from bs4                               import BeautifulSoup\n",
    "from sklearn.feature_extraction.text   import TfidfVectorizer\n",
    "from sklearn.model_selection           import train_test_split\n",
    "from nltk.sentiment.vader              import SentimentIntensityAnalyzer\n",
    "from sklearn.metrics.pairwise          import cosine_similarity, linear_kernel\n",
    "from sklearn.metrics                   import classification_report, accuracy_score\n",
    "from keras.layers                      import Embedding, GRU, Dense, Dropout, Flatten\n",
    "from sklearn.metrics                   import precision_score, recall_score, f1_score\n",
    "from nltk.tokenize                     import word_tokenize, sent_tokenize, regexp_tokenize\n",
    "from nltk.stem                         import LancasterStemmer, WordNetLemmatizer, SnowballStemmer\n",
    "from transformers                      import (DistilBertTokenizer,\n",
    "                                               DistilBertForSequenceClassification,\n",
    "                                               Trainer,\n",
    "                                               TrainingArguments,\n",
    "                                               RobertaTokenizer,\n",
    "                                               RobertaForSequenceClassification,\n",
    "                                               AutoModelForSequenceClassification,\n",
    "                                               AutoTokenizer)"
   ]
  },
  {
   "cell_type": "code",
   "execution_count": 2,
   "metadata": {
    "colab": {
     "base_uri": "https://localhost:8080/"
    },
    "execution": {
     "iopub.execute_input": "2024-07-08T11:47:00.597846Z",
     "iopub.status.busy": "2024-07-08T11:47:00.597040Z",
     "iopub.status.idle": "2024-07-08T11:47:00.831737Z",
     "shell.execute_reply": "2024-07-08T11:47:00.830805Z",
     "shell.execute_reply.started": "2024-07-08T11:47:00.597803Z"
    },
    "id": "oYtXyRw3U4j2",
    "outputId": "4e88fd22-c38a-4e33-90fa-b14b4e54a7f0"
   },
   "outputs": [],
   "source": [
    "# nltk.download('punkt')\n",
    "# nltk.download('stopwords')\n",
    "# nltk.download('wordnet')\n",
    "# nltk.download('omw-1.4')\n",
    "# nltk.download('vader_lexicon')\n",
    "# nltk.download('sentiwordnet')"
   ]
  },
  {
   "cell_type": "code",
   "execution_count": null,
   "metadata": {},
   "outputs": [],
   "source": [
    "from google.colab import drive\n",
    "drive.mount('/content/drive')"
   ]
  },
  {
   "cell_type": "code",
   "execution_count": 5,
   "metadata": {
    "colab": {
     "base_uri": "https://localhost:8080/",
     "height": 362
    },
    "execution": {
     "iopub.execute_input": "2024-07-08T11:47:02.111047Z",
     "iopub.status.busy": "2024-07-08T11:47:02.110501Z",
     "iopub.status.idle": "2024-07-08T11:47:02.533946Z",
     "shell.execute_reply": "2024-07-08T11:47:02.532932Z",
     "shell.execute_reply.started": "2024-07-08T11:47:02.111020Z"
    },
    "id": "N-SCNdsPU4j3",
    "outputId": "0e7e3cd3-40b4-4029-c559-b744aa67cae4"
   },
   "outputs": [
    {
     "name": "stdout",
     "output_type": "stream",
     "text": [
      "Drive already mounted at /content/drive; to attempt to forcibly remount, call drive.mount(\"/content/drive\", force_remount=True).\n"
     ]
    },
    {
     "data": {
      "application/javascript": [
       "\n",
       "        if (window._pyforest_update_imports_cell) { window._pyforest_update_imports_cell('import pandas as pd'); }\n",
       "    "
      ],
      "text/plain": [
       "<IPython.core.display.Javascript object>"
      ]
     },
     "metadata": {},
     "output_type": "display_data"
    },
    {
     "name": "stdout",
     "output_type": "stream",
     "text": [
      "<class 'pandas.core.frame.DataFrame'>\n",
      "RangeIndex: 20001 entries, 0 to 20000\n",
      "Data columns (total 11 columns):\n",
      " #   Column                Non-Null Count  Dtype \n",
      "---  ------                --------------  ----- \n",
      " 0   reviewId              20001 non-null  object\n",
      " 1   userName              20001 non-null  object\n",
      " 2   userImage             20001 non-null  object\n",
      " 3   content               20001 non-null  object\n",
      " 4   score                 20001 non-null  int64 \n",
      " 5   thumbsUpCount         20001 non-null  int64 \n",
      " 6   reviewCreatedVersion  18117 non-null  object\n",
      " 7   at                    20001 non-null  object\n",
      " 8   replyContent          9888 non-null   object\n",
      " 9   repliedAt             9888 non-null   object\n",
      " 10  appVersion            18117 non-null  object\n",
      "dtypes: int64(2), object(9)\n",
      "memory usage: 1.7+ MB\n"
     ]
    }
   ],
   "source": [
    "df = pd.read_csv('/kaggle/input/20rbudemy/udemy_review_app20rb.csv')\n",
    "df.info()"
   ]
  },
  {
   "cell_type": "code",
   "execution_count": 6,
   "metadata": {
    "colab": {
     "base_uri": "https://localhost:8080/",
     "height": 36
    },
    "execution": {
     "iopub.execute_input": "2024-07-08T11:47:19.446810Z",
     "iopub.status.busy": "2024-07-08T11:47:19.446419Z",
     "iopub.status.idle": "2024-07-08T11:47:19.452919Z",
     "shell.execute_reply": "2024-07-08T11:47:19.451953Z",
     "shell.execute_reply.started": "2024-07-08T11:47:19.446779Z"
    },
    "id": "zbZJ9slaU4j4",
    "outputId": "a8a413af-5781-4d9a-e022-4539efd61991"
   },
   "outputs": [
    {
     "data": {
      "application/vnd.google.colaboratory.intrinsic+json": {
       "type": "string"
      },
      "text/plain": [
       "\"Too much bad support My account has hacked and support didn't respond me. Even after 72 hours after send inquire I have 2 paid course in my udemy account\""
      ]
     },
     "execution_count": 6,
     "metadata": {},
     "output_type": "execute_result"
    }
   ],
   "source": [
    "df['content'][20000]"
   ]
  },
  {
   "cell_type": "code",
   "execution_count": 7,
   "metadata": {
    "colab": {
     "base_uri": "https://localhost:8080/",
     "height": 501
    },
    "execution": {
     "iopub.execute_input": "2024-07-08T11:47:30.983427Z",
     "iopub.status.busy": "2024-07-08T11:47:30.982664Z",
     "iopub.status.idle": "2024-07-08T11:47:31.005538Z",
     "shell.execute_reply": "2024-07-08T11:47:31.004523Z",
     "shell.execute_reply.started": "2024-07-08T11:47:30.983393Z"
    },
    "id": "dbl-5UcBU4j4",
    "outputId": "28c4cab9-85e1-4e57-ef34-8772cd19d929"
   },
   "outputs": [
    {
     "data": {
      "application/vnd.google.colaboratory.intrinsic+json": {
       "repr_error": "0",
       "type": "dataframe"
      },
      "text/html": [
       "\n",
       "  <div id=\"df-47312a9f-e1a8-43f4-9b25-805131a7e773\" class=\"colab-df-container\">\n",
       "    <div>\n",
       "<style scoped>\n",
       "    .dataframe tbody tr th:only-of-type {\n",
       "        vertical-align: middle;\n",
       "    }\n",
       "\n",
       "    .dataframe tbody tr th {\n",
       "        vertical-align: top;\n",
       "    }\n",
       "\n",
       "    .dataframe thead th {\n",
       "        text-align: right;\n",
       "    }\n",
       "</style>\n",
       "<table border=\"1\" class=\"dataframe\">\n",
       "  <thead>\n",
       "    <tr style=\"text-align: right;\">\n",
       "      <th></th>\n",
       "      <th>reviewId</th>\n",
       "      <th>userName</th>\n",
       "      <th>userImage</th>\n",
       "      <th>content</th>\n",
       "      <th>score</th>\n",
       "      <th>thumbsUpCount</th>\n",
       "      <th>reviewCreatedVersion</th>\n",
       "      <th>at</th>\n",
       "      <th>replyContent</th>\n",
       "      <th>repliedAt</th>\n",
       "      <th>appVersion</th>\n",
       "    </tr>\n",
       "  </thead>\n",
       "  <tbody>\n",
       "    <tr>\n",
       "      <th>19996</th>\n",
       "      <td>e277685c-38f8-4087-b18a-8a8905130e1e</td>\n",
       "      <td>A Google user</td>\n",
       "      <td>https://play-lh.googleusercontent.com/EGemoI2N...</td>\n",
       "      <td>Can't open this app. It's crashing.</td>\n",
       "      <td>1</td>\n",
       "      <td>0</td>\n",
       "      <td>5.13.3</td>\n",
       "      <td>2020-02-22 22:45:57</td>\n",
       "      <td>Hi Atul,\\n\\nI'm sorry that you had issues with...</td>\n",
       "      <td>2020-02-23 02:25:07</td>\n",
       "      <td>5.13.3</td>\n",
       "    </tr>\n",
       "    <tr>\n",
       "      <th>19997</th>\n",
       "      <td>71a2b2c0-d4c7-4829-8c04-c821890f4a0b</td>\n",
       "      <td>A Google user</td>\n",
       "      <td>https://play-lh.googleusercontent.com/EGemoI2N...</td>\n",
       "      <td>Best in UI and features</td>\n",
       "      <td>5</td>\n",
       "      <td>0</td>\n",
       "      <td>9.23.0</td>\n",
       "      <td>2024-01-11 01:08:03</td>\n",
       "      <td>NaN</td>\n",
       "      <td>NaN</td>\n",
       "      <td>9.23.0</td>\n",
       "    </tr>\n",
       "    <tr>\n",
       "      <th>19998</th>\n",
       "      <td>1c81b972-7cba-46da-b6ad-58b40f289a0f</td>\n",
       "      <td>A Google user</td>\n",
       "      <td>https://play-lh.googleusercontent.com/EGemoI2N...</td>\n",
       "      <td>Nice and wonderfull app, I would really recome...</td>\n",
       "      <td>5</td>\n",
       "      <td>0</td>\n",
       "      <td>8.0.1</td>\n",
       "      <td>2022-07-19 06:27:07</td>\n",
       "      <td>NaN</td>\n",
       "      <td>NaN</td>\n",
       "      <td>8.0.1</td>\n",
       "    </tr>\n",
       "    <tr>\n",
       "      <th>19999</th>\n",
       "      <td>6563f17b-9dbe-4a9f-9c1c-e70819bc1c3a</td>\n",
       "      <td>A Google user</td>\n",
       "      <td>https://play-lh.googleusercontent.com/EGemoI2N...</td>\n",
       "      <td>Helpful and consolidated content.</td>\n",
       "      <td>5</td>\n",
       "      <td>0</td>\n",
       "      <td>5.2.3</td>\n",
       "      <td>2018-11-21 18:20:20</td>\n",
       "      <td>NaN</td>\n",
       "      <td>NaN</td>\n",
       "      <td>5.2.3</td>\n",
       "    </tr>\n",
       "    <tr>\n",
       "      <th>20000</th>\n",
       "      <td>301cc673-34c9-4fd8-b9a0-b2da94ca5179</td>\n",
       "      <td>A Google user</td>\n",
       "      <td>https://play-lh.googleusercontent.com/EGemoI2N...</td>\n",
       "      <td>Too much bad support My account has hacked and...</td>\n",
       "      <td>1</td>\n",
       "      <td>0</td>\n",
       "      <td>9.13.0</td>\n",
       "      <td>2023-09-04 23:06:07</td>\n",
       "      <td>Hi there.\\n\\nThanks for reaching out.\\n\\nPleas...</td>\n",
       "      <td>2023-09-04 23:11:00</td>\n",
       "      <td>9.13.0</td>\n",
       "    </tr>\n",
       "  </tbody>\n",
       "</table>\n",
       "</div>\n",
       "    <div class=\"colab-df-buttons\">\n",
       "\n",
       "  <div class=\"colab-df-container\">\n",
       "    <button class=\"colab-df-convert\" onclick=\"convertToInteractive('df-47312a9f-e1a8-43f4-9b25-805131a7e773')\"\n",
       "            title=\"Convert this dataframe to an interactive table.\"\n",
       "            style=\"display:none;\">\n",
       "\n",
       "  <svg xmlns=\"http://www.w3.org/2000/svg\" height=\"24px\" viewBox=\"0 -960 960 960\">\n",
       "    <path d=\"M120-120v-720h720v720H120Zm60-500h600v-160H180v160Zm220 220h160v-160H400v160Zm0 220h160v-160H400v160ZM180-400h160v-160H180v160Zm440 0h160v-160H620v160ZM180-180h160v-160H180v160Zm440 0h160v-160H620v160Z\"/>\n",
       "  </svg>\n",
       "    </button>\n",
       "\n",
       "  <style>\n",
       "    .colab-df-container {\n",
       "      display:flex;\n",
       "      gap: 12px;\n",
       "    }\n",
       "\n",
       "    .colab-df-convert {\n",
       "      background-color: #E8F0FE;\n",
       "      border: none;\n",
       "      border-radius: 50%;\n",
       "      cursor: pointer;\n",
       "      display: none;\n",
       "      fill: #1967D2;\n",
       "      height: 32px;\n",
       "      padding: 0 0 0 0;\n",
       "      width: 32px;\n",
       "    }\n",
       "\n",
       "    .colab-df-convert:hover {\n",
       "      background-color: #E2EBFA;\n",
       "      box-shadow: 0px 1px 2px rgba(60, 64, 67, 0.3), 0px 1px 3px 1px rgba(60, 64, 67, 0.15);\n",
       "      fill: #174EA6;\n",
       "    }\n",
       "\n",
       "    .colab-df-buttons div {\n",
       "      margin-bottom: 4px;\n",
       "    }\n",
       "\n",
       "    [theme=dark] .colab-df-convert {\n",
       "      background-color: #3B4455;\n",
       "      fill: #D2E3FC;\n",
       "    }\n",
       "\n",
       "    [theme=dark] .colab-df-convert:hover {\n",
       "      background-color: #434B5C;\n",
       "      box-shadow: 0px 1px 3px 1px rgba(0, 0, 0, 0.15);\n",
       "      filter: drop-shadow(0px 1px 2px rgba(0, 0, 0, 0.3));\n",
       "      fill: #FFFFFF;\n",
       "    }\n",
       "  </style>\n",
       "\n",
       "    <script>\n",
       "      const buttonEl =\n",
       "        document.querySelector('#df-47312a9f-e1a8-43f4-9b25-805131a7e773 button.colab-df-convert');\n",
       "      buttonEl.style.display =\n",
       "        google.colab.kernel.accessAllowed ? 'block' : 'none';\n",
       "\n",
       "      async function convertToInteractive(key) {\n",
       "        const element = document.querySelector('#df-47312a9f-e1a8-43f4-9b25-805131a7e773');\n",
       "        const dataTable =\n",
       "          await google.colab.kernel.invokeFunction('convertToInteractive',\n",
       "                                                    [key], {});\n",
       "        if (!dataTable) return;\n",
       "\n",
       "        const docLinkHtml = 'Like what you see? Visit the ' +\n",
       "          '<a target=\"_blank\" href=https://colab.research.google.com/notebooks/data_table.ipynb>data table notebook</a>'\n",
       "          + ' to learn more about interactive tables.';\n",
       "        element.innerHTML = '';\n",
       "        dataTable['output_type'] = 'display_data';\n",
       "        await google.colab.output.renderOutput(dataTable, element);\n",
       "        const docLink = document.createElement('div');\n",
       "        docLink.innerHTML = docLinkHtml;\n",
       "        element.appendChild(docLink);\n",
       "      }\n",
       "    </script>\n",
       "  </div>\n",
       "\n",
       "\n",
       "<div id=\"df-4713d4b2-6696-4171-b226-0d7e6856bf14\">\n",
       "  <button class=\"colab-df-quickchart\" onclick=\"quickchart('df-4713d4b2-6696-4171-b226-0d7e6856bf14')\"\n",
       "            title=\"Suggest charts\"\n",
       "            style=\"display:none;\">\n",
       "\n",
       "<svg xmlns=\"http://www.w3.org/2000/svg\" height=\"24px\"viewBox=\"0 0 24 24\"\n",
       "     width=\"24px\">\n",
       "    <g>\n",
       "        <path d=\"M19 3H5c-1.1 0-2 .9-2 2v14c0 1.1.9 2 2 2h14c1.1 0 2-.9 2-2V5c0-1.1-.9-2-2-2zM9 17H7v-7h2v7zm4 0h-2V7h2v10zm4 0h-2v-4h2v4z\"/>\n",
       "    </g>\n",
       "</svg>\n",
       "  </button>\n",
       "\n",
       "<style>\n",
       "  .colab-df-quickchart {\n",
       "      --bg-color: #E8F0FE;\n",
       "      --fill-color: #1967D2;\n",
       "      --hover-bg-color: #E2EBFA;\n",
       "      --hover-fill-color: #174EA6;\n",
       "      --disabled-fill-color: #AAA;\n",
       "      --disabled-bg-color: #DDD;\n",
       "  }\n",
       "\n",
       "  [theme=dark] .colab-df-quickchart {\n",
       "      --bg-color: #3B4455;\n",
       "      --fill-color: #D2E3FC;\n",
       "      --hover-bg-color: #434B5C;\n",
       "      --hover-fill-color: #FFFFFF;\n",
       "      --disabled-bg-color: #3B4455;\n",
       "      --disabled-fill-color: #666;\n",
       "  }\n",
       "\n",
       "  .colab-df-quickchart {\n",
       "    background-color: var(--bg-color);\n",
       "    border: none;\n",
       "    border-radius: 50%;\n",
       "    cursor: pointer;\n",
       "    display: none;\n",
       "    fill: var(--fill-color);\n",
       "    height: 32px;\n",
       "    padding: 0;\n",
       "    width: 32px;\n",
       "  }\n",
       "\n",
       "  .colab-df-quickchart:hover {\n",
       "    background-color: var(--hover-bg-color);\n",
       "    box-shadow: 0 1px 2px rgba(60, 64, 67, 0.3), 0 1px 3px 1px rgba(60, 64, 67, 0.15);\n",
       "    fill: var(--button-hover-fill-color);\n",
       "  }\n",
       "\n",
       "  .colab-df-quickchart-complete:disabled,\n",
       "  .colab-df-quickchart-complete:disabled:hover {\n",
       "    background-color: var(--disabled-bg-color);\n",
       "    fill: var(--disabled-fill-color);\n",
       "    box-shadow: none;\n",
       "  }\n",
       "\n",
       "  .colab-df-spinner {\n",
       "    border: 2px solid var(--fill-color);\n",
       "    border-color: transparent;\n",
       "    border-bottom-color: var(--fill-color);\n",
       "    animation:\n",
       "      spin 1s steps(1) infinite;\n",
       "  }\n",
       "\n",
       "  @keyframes spin {\n",
       "    0% {\n",
       "      border-color: transparent;\n",
       "      border-bottom-color: var(--fill-color);\n",
       "      border-left-color: var(--fill-color);\n",
       "    }\n",
       "    20% {\n",
       "      border-color: transparent;\n",
       "      border-left-color: var(--fill-color);\n",
       "      border-top-color: var(--fill-color);\n",
       "    }\n",
       "    30% {\n",
       "      border-color: transparent;\n",
       "      border-left-color: var(--fill-color);\n",
       "      border-top-color: var(--fill-color);\n",
       "      border-right-color: var(--fill-color);\n",
       "    }\n",
       "    40% {\n",
       "      border-color: transparent;\n",
       "      border-right-color: var(--fill-color);\n",
       "      border-top-color: var(--fill-color);\n",
       "    }\n",
       "    60% {\n",
       "      border-color: transparent;\n",
       "      border-right-color: var(--fill-color);\n",
       "    }\n",
       "    80% {\n",
       "      border-color: transparent;\n",
       "      border-right-color: var(--fill-color);\n",
       "      border-bottom-color: var(--fill-color);\n",
       "    }\n",
       "    90% {\n",
       "      border-color: transparent;\n",
       "      border-bottom-color: var(--fill-color);\n",
       "    }\n",
       "  }\n",
       "</style>\n",
       "\n",
       "  <script>\n",
       "    async function quickchart(key) {\n",
       "      const quickchartButtonEl =\n",
       "        document.querySelector('#' + key + ' button');\n",
       "      quickchartButtonEl.disabled = true;  // To prevent multiple clicks.\n",
       "      quickchartButtonEl.classList.add('colab-df-spinner');\n",
       "      try {\n",
       "        const charts = await google.colab.kernel.invokeFunction(\n",
       "            'suggestCharts', [key], {});\n",
       "      } catch (error) {\n",
       "        console.error('Error during call to suggestCharts:', error);\n",
       "      }\n",
       "      quickchartButtonEl.classList.remove('colab-df-spinner');\n",
       "      quickchartButtonEl.classList.add('colab-df-quickchart-complete');\n",
       "    }\n",
       "    (() => {\n",
       "      let quickchartButtonEl =\n",
       "        document.querySelector('#df-4713d4b2-6696-4171-b226-0d7e6856bf14 button');\n",
       "      quickchartButtonEl.style.display =\n",
       "        google.colab.kernel.accessAllowed ? 'block' : 'none';\n",
       "    })();\n",
       "  </script>\n",
       "</div>\n",
       "\n",
       "    </div>\n",
       "  </div>\n"
      ],
      "text/plain": [
       "                                   reviewId       userName  \\\n",
       "19996  e277685c-38f8-4087-b18a-8a8905130e1e  A Google user   \n",
       "19997  71a2b2c0-d4c7-4829-8c04-c821890f4a0b  A Google user   \n",
       "19998  1c81b972-7cba-46da-b6ad-58b40f289a0f  A Google user   \n",
       "19999  6563f17b-9dbe-4a9f-9c1c-e70819bc1c3a  A Google user   \n",
       "20000  301cc673-34c9-4fd8-b9a0-b2da94ca5179  A Google user   \n",
       "\n",
       "                                               userImage  \\\n",
       "19996  https://play-lh.googleusercontent.com/EGemoI2N...   \n",
       "19997  https://play-lh.googleusercontent.com/EGemoI2N...   \n",
       "19998  https://play-lh.googleusercontent.com/EGemoI2N...   \n",
       "19999  https://play-lh.googleusercontent.com/EGemoI2N...   \n",
       "20000  https://play-lh.googleusercontent.com/EGemoI2N...   \n",
       "\n",
       "                                                 content  score  \\\n",
       "19996                Can't open this app. It's crashing.      1   \n",
       "19997                            Best in UI and features      5   \n",
       "19998  Nice and wonderfull app, I would really recome...      5   \n",
       "19999                  Helpful and consolidated content.      5   \n",
       "20000  Too much bad support My account has hacked and...      1   \n",
       "\n",
       "       thumbsUpCount reviewCreatedVersion                   at  \\\n",
       "19996              0               5.13.3  2020-02-22 22:45:57   \n",
       "19997              0               9.23.0  2024-01-11 01:08:03   \n",
       "19998              0                8.0.1  2022-07-19 06:27:07   \n",
       "19999              0                5.2.3  2018-11-21 18:20:20   \n",
       "20000              0               9.13.0  2023-09-04 23:06:07   \n",
       "\n",
       "                                            replyContent            repliedAt  \\\n",
       "19996  Hi Atul,\\n\\nI'm sorry that you had issues with...  2020-02-23 02:25:07   \n",
       "19997                                                NaN                  NaN   \n",
       "19998                                                NaN                  NaN   \n",
       "19999                                                NaN                  NaN   \n",
       "20000  Hi there.\\n\\nThanks for reaching out.\\n\\nPleas...  2023-09-04 23:11:00   \n",
       "\n",
       "      appVersion  \n",
       "19996     5.13.3  \n",
       "19997     9.23.0  \n",
       "19998      8.0.1  \n",
       "19999      5.2.3  \n",
       "20000     9.13.0  "
      ]
     },
     "execution_count": 7,
     "metadata": {},
     "output_type": "execute_result"
    }
   ],
   "source": [
    "df.tail()"
   ]
  },
  {
   "cell_type": "code",
   "execution_count": 8,
   "metadata": {
    "colab": {
     "base_uri": "https://localhost:8080/"
    },
    "execution": {
     "iopub.execute_input": "2024-07-08T11:47:32.629246Z",
     "iopub.status.busy": "2024-07-08T11:47:32.628431Z",
     "iopub.status.idle": "2024-07-08T11:47:32.656250Z",
     "shell.execute_reply": "2024-07-08T11:47:32.654876Z",
     "shell.execute_reply.started": "2024-07-08T11:47:32.629198Z"
    },
    "id": "hwBmcgq7U4j5",
    "outputId": "988d3b43-c220-4598-b973-68866cbadc63"
   },
   "outputs": [
    {
     "data": {
      "text/plain": [
       "reviewId                    0\n",
       "userName                    0\n",
       "userImage                   0\n",
       "content                     0\n",
       "score                       0\n",
       "thumbsUpCount               0\n",
       "reviewCreatedVersion     1884\n",
       "at                          0\n",
       "replyContent            10113\n",
       "repliedAt               10113\n",
       "appVersion               1884\n",
       "dtype: int64"
      ]
     },
     "execution_count": 8,
     "metadata": {},
     "output_type": "execute_result"
    }
   ],
   "source": [
    "df.isnull().sum()"
   ]
  },
  {
   "cell_type": "code",
   "execution_count": 9,
   "metadata": {
    "colab": {
     "base_uri": "https://localhost:8080/"
    },
    "execution": {
     "iopub.execute_input": "2024-07-08T11:47:34.343968Z",
     "iopub.status.busy": "2024-07-08T11:47:34.343270Z",
     "iopub.status.idle": "2024-07-08T11:47:34.391256Z",
     "shell.execute_reply": "2024-07-08T11:47:34.390462Z",
     "shell.execute_reply.started": "2024-07-08T11:47:34.343933Z"
    },
    "id": "AtPI2b6IU4j5",
    "outputId": "73b8b063-d325-4889-98a2-fc8089be9e19"
   },
   "outputs": [
    {
     "data": {
      "text/plain": [
       "0"
      ]
     },
     "execution_count": 9,
     "metadata": {},
     "output_type": "execute_result"
    }
   ],
   "source": [
    "df.duplicated().sum()"
   ]
  },
  {
   "cell_type": "code",
   "execution_count": 10,
   "metadata": {
    "execution": {
     "iopub.execute_input": "2024-07-08T11:47:36.430806Z",
     "iopub.status.busy": "2024-07-08T11:47:36.430403Z",
     "iopub.status.idle": "2024-07-08T11:47:36.438721Z",
     "shell.execute_reply": "2024-07-08T11:47:36.437758Z",
     "shell.execute_reply.started": "2024-07-08T11:47:36.430773Z"
    },
    "id": "oyJCGmAoU4j6"
   },
   "outputs": [],
   "source": [
    "df2 = df[['content']]"
   ]
  },
  {
   "cell_type": "code",
   "execution_count": 11,
   "metadata": {
    "colab": {
     "base_uri": "https://localhost:8080/"
    },
    "execution": {
     "iopub.execute_input": "2024-07-08T11:47:39.237887Z",
     "iopub.status.busy": "2024-07-08T11:47:39.237526Z",
     "iopub.status.idle": "2024-07-08T11:47:39.246469Z",
     "shell.execute_reply": "2024-07-08T11:47:39.245593Z",
     "shell.execute_reply.started": "2024-07-08T11:47:39.237858Z"
    },
    "id": "oKbN5pLuU4j6",
    "outputId": "2307c51c-0456-45ea-e090-6c8872d80461"
   },
   "outputs": [
    {
     "data": {
      "text/plain": [
       "Index(['content'], dtype='object')"
      ]
     },
     "execution_count": 11,
     "metadata": {},
     "output_type": "execute_result"
    }
   ],
   "source": [
    "df2.columns"
   ]
  },
  {
   "cell_type": "code",
   "execution_count": 12,
   "metadata": {
    "colab": {
     "base_uri": "https://localhost:8080/",
     "height": 36
    },
    "execution": {
     "iopub.execute_input": "2024-07-08T11:47:40.825069Z",
     "iopub.status.busy": "2024-07-08T11:47:40.824412Z",
     "iopub.status.idle": "2024-07-08T11:47:40.831393Z",
     "shell.execute_reply": "2024-07-08T11:47:40.830424Z",
     "shell.execute_reply.started": "2024-07-08T11:47:40.825038Z"
    },
    "id": "sPyMwHUuU4j6",
    "outputId": "1a48178a-4426-43bf-8e32-c39dbb0c900f"
   },
   "outputs": [
    {
     "data": {
      "application/vnd.google.colaboratory.intrinsic+json": {
       "type": "string"
      },
      "text/plain": [
       "'I have opted for the course but im unable to login to the app also when im browsing the website, there is a pop to continue in the app. Please help'"
      ]
     },
     "execution_count": 12,
     "metadata": {},
     "output_type": "execute_result"
    }
   ],
   "source": [
    "df2['content'][10000]"
   ]
  },
  {
   "cell_type": "code",
   "execution_count": 13,
   "metadata": {
    "execution": {
     "iopub.execute_input": "2024-07-08T11:47:48.684901Z",
     "iopub.status.busy": "2024-07-08T11:47:48.684515Z",
     "iopub.status.idle": "2024-07-08T11:47:48.694964Z",
     "shell.execute_reply": "2024-07-08T11:47:48.694016Z",
     "shell.execute_reply.started": "2024-07-08T11:47:48.684869Z"
    },
    "id": "LTmo_M-aU4j6"
   },
   "outputs": [],
   "source": [
    "def cleaningText(text):\n",
    "    text = re.sub(r'@[A-Za-z0-9]+', '', text)                         # hapus mentions\n",
    "    text = re.sub(r'#[A-Za-z0-9]+', '', text)                         # hapus hashtag\n",
    "    text = re.sub(r'RT[\\s]', '', text)                                # hapus RT\n",
    "    text = re.sub(r\"http\\S+\", '', text)                               # hapus link\n",
    "    text = re.sub(r'[0-9]+', '', text)                                # hapus angka\n",
    "    text = re.sub(r'[^\\w\\s]', '', text)                               # hapus special karakter\n",
    "    text = text.replace('\\n', ' ')                                    # hapus enter\n",
    "    text = text.translate(str.maketrans('', '', string.punctuation))  # hapus punctuations\n",
    "    text = text.strip()                                               # hapus teks kosong\n",
    "    return text\n",
    "\n",
    "def casefoldingText(text):\n",
    "    text = text.lower() \n",
    "    return text\n",
    "\n",
    "def tokenizingText(text):\n",
    "    text = word_tokenize(text)\n",
    "    return text\n",
    "\n",
    "def filteringText(text):\n",
    "    stop_words_eng = set(stopwords.words('english'))\n",
    "    filtered_text = [word for word in text if word.lower() not in stop_words_eng]  \n",
    "    return filtered_text\n",
    "\n",
    "def stemmingTextSnowball(text):\n",
    "    snowball = SnowballStemmer('english')\n",
    "    stemmed_words = [snowball.stem(word) for word in text]\n",
    "    stemmed_text = ' '.join(stemmed_words)\n",
    "    return stemmed_text"
   ]
  },
  {
   "cell_type": "code",
   "execution_count": 14,
   "metadata": {
    "execution": {
     "iopub.execute_input": "2024-07-08T11:47:52.633009Z",
     "iopub.status.busy": "2024-07-08T11:47:52.632158Z",
     "iopub.status.idle": "2024-07-08T11:47:52.636824Z",
     "shell.execute_reply": "2024-07-08T11:47:52.635932Z",
     "shell.execute_reply.started": "2024-07-08T11:47:52.632976Z"
    },
    "id": "bi0b4m8HU4j7"
   },
   "outputs": [],
   "source": [
    "# membutuhkan waktu sekitar 30 menit\n",
    "df2['text_clean']           = df2['content'].apply(cleaningText)"
   ]
  },
  {
   "cell_type": "code",
   "execution_count": 15,
   "metadata": {
    "execution": {
     "iopub.execute_input": "2024-07-08T11:47:53.539026Z",
     "iopub.status.busy": "2024-07-08T11:47:53.538131Z",
     "iopub.status.idle": "2024-07-08T11:47:53.542657Z",
     "shell.execute_reply": "2024-07-08T11:47:53.541910Z",
     "shell.execute_reply.started": "2024-07-08T11:47:53.538994Z"
    },
    "id": "e2dNM2zVU4j7"
   },
   "outputs": [],
   "source": [
    "df2['text_casefoldingText'] = df2['text_clean'].apply(casefoldingText)"
   ]
  },
  {
   "cell_type": "code",
   "execution_count": 16,
   "metadata": {
    "execution": {
     "iopub.execute_input": "2024-07-08T11:47:54.817950Z",
     "iopub.status.busy": "2024-07-08T11:47:54.817570Z",
     "iopub.status.idle": "2024-07-08T11:47:54.822163Z",
     "shell.execute_reply": "2024-07-08T11:47:54.821185Z",
     "shell.execute_reply.started": "2024-07-08T11:47:54.817920Z"
    },
    "id": "sHKx43M0U4j7"
   },
   "outputs": [],
   "source": [
    "df2['text_tokenizingText']  = df2['text_casefoldingText'].apply(tokenizingText)"
   ]
  },
  {
   "cell_type": "code",
   "execution_count": 17,
   "metadata": {
    "execution": {
     "iopub.execute_input": "2024-07-08T11:47:56.042543Z",
     "iopub.status.busy": "2024-07-08T11:47:56.042189Z",
     "iopub.status.idle": "2024-07-08T11:47:56.046505Z",
     "shell.execute_reply": "2024-07-08T11:47:56.045662Z",
     "shell.execute_reply.started": "2024-07-08T11:47:56.042513Z"
    },
    "id": "E6W-c8P8U4j7"
   },
   "outputs": [],
   "source": [
    "df2['text_stopword']        = df2['text_tokenizingText'].apply(filteringText)"
   ]
  },
  {
   "cell_type": "code",
   "execution_count": 18,
   "metadata": {
    "execution": {
     "iopub.execute_input": "2024-07-08T11:47:57.332356Z",
     "iopub.status.busy": "2024-07-08T11:47:57.331471Z",
     "iopub.status.idle": "2024-07-08T11:47:57.336129Z",
     "shell.execute_reply": "2024-07-08T11:47:57.335178Z",
     "shell.execute_reply.started": "2024-07-08T11:47:57.332324Z"
    },
    "id": "_I_wCLmlU4j7"
   },
   "outputs": [],
   "source": [
    "df2['text_stem_snow']       = df2['text_stopword'].apply(stemmingTextSnowball)"
   ]
  },
  {
   "cell_type": "code",
   "execution_count": 19,
   "metadata": {
    "colab": {
     "base_uri": "https://localhost:8080/",
     "height": 36
    },
    "execution": {
     "iopub.execute_input": "2024-07-08T11:47:58.659454Z",
     "iopub.status.busy": "2024-07-08T11:47:58.658755Z",
     "iopub.status.idle": "2024-07-08T11:47:58.664870Z",
     "shell.execute_reply": "2024-07-08T11:47:58.664092Z",
     "shell.execute_reply.started": "2024-07-08T11:47:58.659422Z"
    },
    "id": "6fAREpq2U4j8",
    "outputId": "c6e285bc-8640-4e8d-9bbd-d5c8e5cd776d"
   },
   "outputs": [
    {
     "data": {
      "application/vnd.google.colaboratory.intrinsic+json": {
       "type": "string"
      },
      "text/plain": [
       "'Great app. Full access to courses including download and watch offline. Works well so far!'"
      ]
     },
     "execution_count": 19,
     "metadata": {},
     "output_type": "execute_result"
    }
   ],
   "source": [
    "df2['content'][9413]"
   ]
  },
  {
   "cell_type": "code",
   "execution_count": 21,
   "metadata": {
    "execution": {
     "iopub.execute_input": "2024-07-08T11:48:00.961848Z",
     "iopub.status.busy": "2024-07-08T11:48:00.961450Z",
     "iopub.status.idle": "2024-07-08T11:48:00.965945Z",
     "shell.execute_reply": "2024-07-08T11:48:00.964902Z",
     "shell.execute_reply.started": "2024-07-08T11:48:00.961815Z"
    },
    "id": "-3tntdqGU4j8"
   },
   "outputs": [],
   "source": [
    "df4 = df2[['text_stem_snow']]\n",
    "# df4 = pd.read_csv('/kaggle/input/20rbudemy/preprocess_text_20.csv')"
   ]
  },
  {
   "cell_type": "code",
   "execution_count": 24,
   "metadata": {
    "colab": {
     "base_uri": "https://localhost:8080/",
     "height": 423
    },
    "execution": {
     "iopub.execute_input": "2024-07-08T11:48:06.088495Z",
     "iopub.status.busy": "2024-07-08T11:48:06.087875Z",
     "iopub.status.idle": "2024-07-08T11:48:06.098137Z",
     "shell.execute_reply": "2024-07-08T11:48:06.097121Z",
     "shell.execute_reply.started": "2024-07-08T11:48:06.088464Z"
    },
    "id": "pqzpSC_4U4j8",
    "outputId": "24829381-a8e4-41e8-b4b7-060d3f94bcb5"
   },
   "outputs": [
    {
     "data": {
      "application/vnd.google.colaboratory.intrinsic+json": {
       "summary": "{\n  \"name\": \"df4\",\n  \"rows\": 20001,\n  \"fields\": [\n    {\n      \"column\": \"text_stem_snow\",\n      \"properties\": {\n        \"dtype\": \"string\",\n        \"num_unique_values\": 19982,\n        \"samples\": [\n          \"use app anymor latest updat result error make app crash immedi tri log log email address\",\n          \"app work proper instal applic uninstal app multipl time crash dont what wrong app work well previous face issu quit lot past week could peopl pleas look resolv\",\n          \"well explor get interest topic learn growgood job udemi\"\n        ],\n        \"semantic_type\": \"\",\n        \"description\": \"\"\n      }\n    }\n  ]\n}",
       "type": "dataframe",
       "variable_name": "df4"
      },
      "text/html": [
       "\n",
       "  <div id=\"df-d145ce86-b54d-464c-beb5-927e7d5d4320\" class=\"colab-df-container\">\n",
       "    <div>\n",
       "<style scoped>\n",
       "    .dataframe tbody tr th:only-of-type {\n",
       "        vertical-align: middle;\n",
       "    }\n",
       "\n",
       "    .dataframe tbody tr th {\n",
       "        vertical-align: top;\n",
       "    }\n",
       "\n",
       "    .dataframe thead th {\n",
       "        text-align: right;\n",
       "    }\n",
       "</style>\n",
       "<table border=\"1\" class=\"dataframe\">\n",
       "  <thead>\n",
       "    <tr style=\"text-align: right;\">\n",
       "      <th></th>\n",
       "      <th>text_stem_snow</th>\n",
       "    </tr>\n",
       "  </thead>\n",
       "  <tbody>\n",
       "    <tr>\n",
       "      <th>0</th>\n",
       "      <td>thought id tri subscript plan sign month free ...</td>\n",
       "    </tr>\n",
       "    <tr>\n",
       "      <th>1</th>\n",
       "      <td>star cours awesom feel like ticket get promot ...</td>\n",
       "    </tr>\n",
       "    <tr>\n",
       "      <th>2</th>\n",
       "      <td>frequent failur reload thing everi week reques...</td>\n",
       "    </tr>\n",
       "    <tr>\n",
       "      <th>3</th>\n",
       "      <td>terribl terribl player freez refus play past c...</td>\n",
       "    </tr>\n",
       "    <tr>\n",
       "      <th>4</th>\n",
       "      <td>app absolut junk id give zero star could conte...</td>\n",
       "    </tr>\n",
       "    <tr>\n",
       "      <th>...</th>\n",
       "      <td>...</td>\n",
       "    </tr>\n",
       "    <tr>\n",
       "      <th>19996</th>\n",
       "      <td>cant open app crash</td>\n",
       "    </tr>\n",
       "    <tr>\n",
       "      <th>19997</th>\n",
       "      <td>best ui featur</td>\n",
       "    </tr>\n",
       "    <tr>\n",
       "      <th>19998</th>\n",
       "      <td>nice wonderful app would realli recomend anyon...</td>\n",
       "    </tr>\n",
       "    <tr>\n",
       "      <th>19999</th>\n",
       "      <td>help consolid content</td>\n",
       "    </tr>\n",
       "    <tr>\n",
       "      <th>20000</th>\n",
       "      <td>much bad support account hack support didnt re...</td>\n",
       "    </tr>\n",
       "  </tbody>\n",
       "</table>\n",
       "<p>20001 rows × 1 columns</p>\n",
       "</div>\n",
       "    <div class=\"colab-df-buttons\">\n",
       "\n",
       "  <div class=\"colab-df-container\">\n",
       "    <button class=\"colab-df-convert\" onclick=\"convertToInteractive('df-d145ce86-b54d-464c-beb5-927e7d5d4320')\"\n",
       "            title=\"Convert this dataframe to an interactive table.\"\n",
       "            style=\"display:none;\">\n",
       "\n",
       "  <svg xmlns=\"http://www.w3.org/2000/svg\" height=\"24px\" viewBox=\"0 -960 960 960\">\n",
       "    <path d=\"M120-120v-720h720v720H120Zm60-500h600v-160H180v160Zm220 220h160v-160H400v160Zm0 220h160v-160H400v160ZM180-400h160v-160H180v160Zm440 0h160v-160H620v160ZM180-180h160v-160H180v160Zm440 0h160v-160H620v160Z\"/>\n",
       "  </svg>\n",
       "    </button>\n",
       "\n",
       "  <style>\n",
       "    .colab-df-container {\n",
       "      display:flex;\n",
       "      gap: 12px;\n",
       "    }\n",
       "\n",
       "    .colab-df-convert {\n",
       "      background-color: #E8F0FE;\n",
       "      border: none;\n",
       "      border-radius: 50%;\n",
       "      cursor: pointer;\n",
       "      display: none;\n",
       "      fill: #1967D2;\n",
       "      height: 32px;\n",
       "      padding: 0 0 0 0;\n",
       "      width: 32px;\n",
       "    }\n",
       "\n",
       "    .colab-df-convert:hover {\n",
       "      background-color: #E2EBFA;\n",
       "      box-shadow: 0px 1px 2px rgba(60, 64, 67, 0.3), 0px 1px 3px 1px rgba(60, 64, 67, 0.15);\n",
       "      fill: #174EA6;\n",
       "    }\n",
       "\n",
       "    .colab-df-buttons div {\n",
       "      margin-bottom: 4px;\n",
       "    }\n",
       "\n",
       "    [theme=dark] .colab-df-convert {\n",
       "      background-color: #3B4455;\n",
       "      fill: #D2E3FC;\n",
       "    }\n",
       "\n",
       "    [theme=dark] .colab-df-convert:hover {\n",
       "      background-color: #434B5C;\n",
       "      box-shadow: 0px 1px 3px 1px rgba(0, 0, 0, 0.15);\n",
       "      filter: drop-shadow(0px 1px 2px rgba(0, 0, 0, 0.3));\n",
       "      fill: #FFFFFF;\n",
       "    }\n",
       "  </style>\n",
       "\n",
       "    <script>\n",
       "      const buttonEl =\n",
       "        document.querySelector('#df-d145ce86-b54d-464c-beb5-927e7d5d4320 button.colab-df-convert');\n",
       "      buttonEl.style.display =\n",
       "        google.colab.kernel.accessAllowed ? 'block' : 'none';\n",
       "\n",
       "      async function convertToInteractive(key) {\n",
       "        const element = document.querySelector('#df-d145ce86-b54d-464c-beb5-927e7d5d4320');\n",
       "        const dataTable =\n",
       "          await google.colab.kernel.invokeFunction('convertToInteractive',\n",
       "                                                    [key], {});\n",
       "        if (!dataTable) return;\n",
       "\n",
       "        const docLinkHtml = 'Like what you see? Visit the ' +\n",
       "          '<a target=\"_blank\" href=https://colab.research.google.com/notebooks/data_table.ipynb>data table notebook</a>'\n",
       "          + ' to learn more about interactive tables.';\n",
       "        element.innerHTML = '';\n",
       "        dataTable['output_type'] = 'display_data';\n",
       "        await google.colab.output.renderOutput(dataTable, element);\n",
       "        const docLink = document.createElement('div');\n",
       "        docLink.innerHTML = docLinkHtml;\n",
       "        element.appendChild(docLink);\n",
       "      }\n",
       "    </script>\n",
       "  </div>\n",
       "\n",
       "\n",
       "<div id=\"df-491897d1-3e00-4908-8694-9495f8602d1b\">\n",
       "  <button class=\"colab-df-quickchart\" onclick=\"quickchart('df-491897d1-3e00-4908-8694-9495f8602d1b')\"\n",
       "            title=\"Suggest charts\"\n",
       "            style=\"display:none;\">\n",
       "\n",
       "<svg xmlns=\"http://www.w3.org/2000/svg\" height=\"24px\"viewBox=\"0 0 24 24\"\n",
       "     width=\"24px\">\n",
       "    <g>\n",
       "        <path d=\"M19 3H5c-1.1 0-2 .9-2 2v14c0 1.1.9 2 2 2h14c1.1 0 2-.9 2-2V5c0-1.1-.9-2-2-2zM9 17H7v-7h2v7zm4 0h-2V7h2v10zm4 0h-2v-4h2v4z\"/>\n",
       "    </g>\n",
       "</svg>\n",
       "  </button>\n",
       "\n",
       "<style>\n",
       "  .colab-df-quickchart {\n",
       "      --bg-color: #E8F0FE;\n",
       "      --fill-color: #1967D2;\n",
       "      --hover-bg-color: #E2EBFA;\n",
       "      --hover-fill-color: #174EA6;\n",
       "      --disabled-fill-color: #AAA;\n",
       "      --disabled-bg-color: #DDD;\n",
       "  }\n",
       "\n",
       "  [theme=dark] .colab-df-quickchart {\n",
       "      --bg-color: #3B4455;\n",
       "      --fill-color: #D2E3FC;\n",
       "      --hover-bg-color: #434B5C;\n",
       "      --hover-fill-color: #FFFFFF;\n",
       "      --disabled-bg-color: #3B4455;\n",
       "      --disabled-fill-color: #666;\n",
       "  }\n",
       "\n",
       "  .colab-df-quickchart {\n",
       "    background-color: var(--bg-color);\n",
       "    border: none;\n",
       "    border-radius: 50%;\n",
       "    cursor: pointer;\n",
       "    display: none;\n",
       "    fill: var(--fill-color);\n",
       "    height: 32px;\n",
       "    padding: 0;\n",
       "    width: 32px;\n",
       "  }\n",
       "\n",
       "  .colab-df-quickchart:hover {\n",
       "    background-color: var(--hover-bg-color);\n",
       "    box-shadow: 0 1px 2px rgba(60, 64, 67, 0.3), 0 1px 3px 1px rgba(60, 64, 67, 0.15);\n",
       "    fill: var(--button-hover-fill-color);\n",
       "  }\n",
       "\n",
       "  .colab-df-quickchart-complete:disabled,\n",
       "  .colab-df-quickchart-complete:disabled:hover {\n",
       "    background-color: var(--disabled-bg-color);\n",
       "    fill: var(--disabled-fill-color);\n",
       "    box-shadow: none;\n",
       "  }\n",
       "\n",
       "  .colab-df-spinner {\n",
       "    border: 2px solid var(--fill-color);\n",
       "    border-color: transparent;\n",
       "    border-bottom-color: var(--fill-color);\n",
       "    animation:\n",
       "      spin 1s steps(1) infinite;\n",
       "  }\n",
       "\n",
       "  @keyframes spin {\n",
       "    0% {\n",
       "      border-color: transparent;\n",
       "      border-bottom-color: var(--fill-color);\n",
       "      border-left-color: var(--fill-color);\n",
       "    }\n",
       "    20% {\n",
       "      border-color: transparent;\n",
       "      border-left-color: var(--fill-color);\n",
       "      border-top-color: var(--fill-color);\n",
       "    }\n",
       "    30% {\n",
       "      border-color: transparent;\n",
       "      border-left-color: var(--fill-color);\n",
       "      border-top-color: var(--fill-color);\n",
       "      border-right-color: var(--fill-color);\n",
       "    }\n",
       "    40% {\n",
       "      border-color: transparent;\n",
       "      border-right-color: var(--fill-color);\n",
       "      border-top-color: var(--fill-color);\n",
       "    }\n",
       "    60% {\n",
       "      border-color: transparent;\n",
       "      border-right-color: var(--fill-color);\n",
       "    }\n",
       "    80% {\n",
       "      border-color: transparent;\n",
       "      border-right-color: var(--fill-color);\n",
       "      border-bottom-color: var(--fill-color);\n",
       "    }\n",
       "    90% {\n",
       "      border-color: transparent;\n",
       "      border-bottom-color: var(--fill-color);\n",
       "    }\n",
       "  }\n",
       "</style>\n",
       "\n",
       "  <script>\n",
       "    async function quickchart(key) {\n",
       "      const quickchartButtonEl =\n",
       "        document.querySelector('#' + key + ' button');\n",
       "      quickchartButtonEl.disabled = true;  // To prevent multiple clicks.\n",
       "      quickchartButtonEl.classList.add('colab-df-spinner');\n",
       "      try {\n",
       "        const charts = await google.colab.kernel.invokeFunction(\n",
       "            'suggestCharts', [key], {});\n",
       "      } catch (error) {\n",
       "        console.error('Error during call to suggestCharts:', error);\n",
       "      }\n",
       "      quickchartButtonEl.classList.remove('colab-df-spinner');\n",
       "      quickchartButtonEl.classList.add('colab-df-quickchart-complete');\n",
       "    }\n",
       "    (() => {\n",
       "      let quickchartButtonEl =\n",
       "        document.querySelector('#df-491897d1-3e00-4908-8694-9495f8602d1b button');\n",
       "      quickchartButtonEl.style.display =\n",
       "        google.colab.kernel.accessAllowed ? 'block' : 'none';\n",
       "    })();\n",
       "  </script>\n",
       "</div>\n",
       "\n",
       "  <div id=\"id_44664855-3548-4c48-8058-404be1d7983e\">\n",
       "    <style>\n",
       "      .colab-df-generate {\n",
       "        background-color: #E8F0FE;\n",
       "        border: none;\n",
       "        border-radius: 50%;\n",
       "        cursor: pointer;\n",
       "        display: none;\n",
       "        fill: #1967D2;\n",
       "        height: 32px;\n",
       "        padding: 0 0 0 0;\n",
       "        width: 32px;\n",
       "      }\n",
       "\n",
       "      .colab-df-generate:hover {\n",
       "        background-color: #E2EBFA;\n",
       "        box-shadow: 0px 1px 2px rgba(60, 64, 67, 0.3), 0px 1px 3px 1px rgba(60, 64, 67, 0.15);\n",
       "        fill: #174EA6;\n",
       "      }\n",
       "\n",
       "      [theme=dark] .colab-df-generate {\n",
       "        background-color: #3B4455;\n",
       "        fill: #D2E3FC;\n",
       "      }\n",
       "\n",
       "      [theme=dark] .colab-df-generate:hover {\n",
       "        background-color: #434B5C;\n",
       "        box-shadow: 0px 1px 3px 1px rgba(0, 0, 0, 0.15);\n",
       "        filter: drop-shadow(0px 1px 2px rgba(0, 0, 0, 0.3));\n",
       "        fill: #FFFFFF;\n",
       "      }\n",
       "    </style>\n",
       "    <button class=\"colab-df-generate\" onclick=\"generateWithVariable('df4')\"\n",
       "            title=\"Generate code using this dataframe.\"\n",
       "            style=\"display:none;\">\n",
       "\n",
       "  <svg xmlns=\"http://www.w3.org/2000/svg\" height=\"24px\"viewBox=\"0 0 24 24\"\n",
       "       width=\"24px\">\n",
       "    <path d=\"M7,19H8.4L18.45,9,17,7.55,7,17.6ZM5,21V16.75L18.45,3.32a2,2,0,0,1,2.83,0l1.4,1.43a1.91,1.91,0,0,1,.58,1.4,1.91,1.91,0,0,1-.58,1.4L9.25,21ZM18.45,9,17,7.55Zm-12,3A5.31,5.31,0,0,0,4.9,8.1,5.31,5.31,0,0,0,1,6.5,5.31,5.31,0,0,0,4.9,4.9,5.31,5.31,0,0,0,6.5,1,5.31,5.31,0,0,0,8.1,4.9,5.31,5.31,0,0,0,12,6.5,5.46,5.46,0,0,0,6.5,12Z\"/>\n",
       "  </svg>\n",
       "    </button>\n",
       "    <script>\n",
       "      (() => {\n",
       "      const buttonEl =\n",
       "        document.querySelector('#id_44664855-3548-4c48-8058-404be1d7983e button.colab-df-generate');\n",
       "      buttonEl.style.display =\n",
       "        google.colab.kernel.accessAllowed ? 'block' : 'none';\n",
       "\n",
       "      buttonEl.onclick = () => {\n",
       "        google.colab.notebook.generateWithVariable('df4');\n",
       "      }\n",
       "      })();\n",
       "    </script>\n",
       "  </div>\n",
       "\n",
       "    </div>\n",
       "  </div>\n"
      ],
      "text/plain": [
       "                                          text_stem_snow\n",
       "0      thought id tri subscript plan sign month free ...\n",
       "1      star cours awesom feel like ticket get promot ...\n",
       "2      frequent failur reload thing everi week reques...\n",
       "3      terribl terribl player freez refus play past c...\n",
       "4      app absolut junk id give zero star could conte...\n",
       "...                                                  ...\n",
       "19996                                cant open app crash\n",
       "19997                                     best ui featur\n",
       "19998  nice wonderful app would realli recomend anyon...\n",
       "19999                              help consolid content\n",
       "20000  much bad support account hack support didnt re...\n",
       "\n",
       "[20001 rows x 1 columns]"
      ]
     },
     "execution_count": 24,
     "metadata": {},
     "output_type": "execute_result"
    }
   ],
   "source": [
    "df4"
   ]
  },
  {
   "cell_type": "markdown",
   "metadata": {
    "id": "_5xPc9PdU4j9"
   },
   "source": [
    "### Percobaan 1\n",
    "- Pelabelan: **Vander Sentiment**\n",
    "- Pembagian Data: 80% training, 20% testing\n",
    "- Ekstraksi Fitur: DistilBERT Tokenizer / WordPiece\n",
    "- Algoritma Pelatihan: DistilBERT (Distilled BERT)\n",
    "\n",
    "https://huggingface.co/docs/transformers/model_doc/distilbert"
   ]
  },
  {
   "cell_type": "code",
   "execution_count": 25,
   "metadata": {
    "execution": {
     "iopub.execute_input": "2024-07-08T11:48:14.561704Z",
     "iopub.status.busy": "2024-07-08T11:48:14.561324Z",
     "iopub.status.idle": "2024-07-08T11:48:14.567241Z",
     "shell.execute_reply": "2024-07-08T11:48:14.566274Z",
     "shell.execute_reply.started": "2024-07-08T11:48:14.561674Z"
    },
    "id": "2uzn32aUU4j9"
   },
   "outputs": [],
   "source": [
    "def get_sentiment_label(text):\n",
    "\n",
    "    analyzer          = SentimentIntensityAnalyzer()\n",
    "    scores            = analyzer.polarity_scores(text)\n",
    "    compound_score    = scores['compound']\n",
    "\n",
    "    if compound_score >= 0.05:\n",
    "        return 'positive'\n",
    "    elif compound_score <= -0.05:\n",
    "        return 'negative'\n",
    "    else:\n",
    "        return 'neutral'"
   ]
  },
  {
   "cell_type": "code",
   "execution_count": 26,
   "metadata": {
    "execution": {
     "iopub.execute_input": "2024-07-08T11:48:20.428194Z",
     "iopub.status.busy": "2024-07-08T11:48:20.427314Z",
     "iopub.status.idle": "2024-07-08T11:51:01.650678Z",
     "shell.execute_reply": "2024-07-08T11:51:01.649870Z",
     "shell.execute_reply.started": "2024-07-08T11:48:20.428158Z"
    },
    "id": "qlgYSxtOU4j9"
   },
   "outputs": [],
   "source": [
    "df4['kelas'] = df4['text_stem_snow'].apply(get_sentiment_label)"
   ]
  },
  {
   "cell_type": "code",
   "execution_count": 27,
   "metadata": {
    "colab": {
     "base_uri": "https://localhost:8080/"
    },
    "execution": {
     "iopub.execute_input": "2024-07-08T11:51:01.652677Z",
     "iopub.status.busy": "2024-07-08T11:51:01.652364Z",
     "iopub.status.idle": "2024-07-08T11:51:01.662495Z",
     "shell.execute_reply": "2024-07-08T11:51:01.661502Z",
     "shell.execute_reply.started": "2024-07-08T11:51:01.652647Z"
    },
    "id": "LAZCkYKoU4j9",
    "outputId": "8c2a25d2-d228-4dbf-cae6-c7b7e1b49f0b"
   },
   "outputs": [
    {
     "data": {
      "text/plain": [
       "kelas\n",
       "positive    12161\n",
       "negative     4616\n",
       "neutral      3224\n",
       "Name: count, dtype: int64"
      ]
     },
     "execution_count": 27,
     "metadata": {},
     "output_type": "execute_result"
    }
   ],
   "source": [
    "kelas_counts = df4['kelas'].value_counts()\n",
    "kelas_counts"
   ]
  },
  {
   "cell_type": "code",
   "execution_count": 28,
   "metadata": {
    "colab": {
     "base_uri": "https://localhost:8080/",
     "height": 17
    },
    "execution": {
     "iopub.execute_input": "2024-07-08T11:55:14.173304Z",
     "iopub.status.busy": "2024-07-08T11:55:14.172626Z",
     "iopub.status.idle": "2024-07-08T11:55:14.204149Z",
     "shell.execute_reply": "2024-07-08T11:55:14.203419Z",
     "shell.execute_reply.started": "2024-07-08T11:55:14.173270Z"
    },
    "id": "0s_RXqIGU4j9",
    "outputId": "339b807a-7ae6-4b4c-a382-036e3d79a998"
   },
   "outputs": [
    {
     "data": {
      "application/javascript": [
       "\n",
       "        if (window._pyforest_update_imports_cell) { window._pyforest_update_imports_cell('import numpy as np\\nimport pandas as pd'); }\n",
       "    "
      ],
      "text/plain": [
       "<IPython.core.display.Javascript object>"
      ]
     },
     "metadata": {},
     "output_type": "display_data"
    }
   ],
   "source": [
    "indeks_positif       = df4[df4['kelas'] == 'positive'].index\n",
    "jumlah_baris_dihapus = int(0.48 * 12161)\n",
    "indeks_dihapus       = np.random.choice(indeks_positif, size=jumlah_baris_dihapus, replace=False)\n",
    "\n",
    "df4.drop(indeks_dihapus, inplace=True)"
   ]
  },
  {
   "cell_type": "code",
   "execution_count": 29,
   "metadata": {
    "colab": {
     "base_uri": "https://localhost:8080/"
    },
    "execution": {
     "iopub.execute_input": "2024-07-08T11:55:23.632792Z",
     "iopub.status.busy": "2024-07-08T11:55:23.632119Z",
     "iopub.status.idle": "2024-07-08T11:55:23.642143Z",
     "shell.execute_reply": "2024-07-08T11:55:23.641252Z",
     "shell.execute_reply.started": "2024-07-08T11:55:23.632759Z"
    },
    "id": "02uWs1iXU4j-",
    "outputId": "2a8b057a-0363-4fc7-a84f-0c4dd97dc458"
   },
   "outputs": [
    {
     "data": {
      "text/plain": [
       "kelas\n",
       "positive    6324\n",
       "negative    4616\n",
       "neutral     3224\n",
       "Name: count, dtype: int64"
      ]
     },
     "execution_count": 29,
     "metadata": {},
     "output_type": "execute_result"
    }
   ],
   "source": [
    "kelas_counts2 = df4['kelas'].value_counts()\n",
    "kelas_counts2"
   ]
  },
  {
   "cell_type": "code",
   "execution_count": 30,
   "metadata": {
    "colab": {
     "base_uri": "https://localhost:8080/",
     "height": 521
    },
    "execution": {
     "iopub.execute_input": "2024-07-08T11:55:31.525972Z",
     "iopub.status.busy": "2024-07-08T11:55:31.525589Z",
     "iopub.status.idle": "2024-07-08T11:55:31.860772Z",
     "shell.execute_reply": "2024-07-08T11:55:31.859829Z",
     "shell.execute_reply.started": "2024-07-08T11:55:31.525942Z"
    },
    "id": "Fuzc2e7_U4j-",
    "outputId": "e0fbe98e-ad66-494f-a0ed-ecc8bbcbcad1"
   },
   "outputs": [
    {
     "data": {
      "application/javascript": [
       "\n",
       "        if (window._pyforest_update_imports_cell) { window._pyforest_update_imports_cell('import numpy as np\\nimport pandas as pd\\nimport matplotlib.pyplot as plt'); }\n",
       "    "
      ],
      "text/plain": [
       "<IPython.core.display.Javascript object>"
      ]
     },
     "metadata": {},
     "output_type": "display_data"
    },
    {
     "data": {
      "application/javascript": [
       "\n",
       "        if (window._pyforest_update_imports_cell) { window._pyforest_update_imports_cell('import numpy as np\\nimport pandas as pd\\nimport matplotlib.pyplot as plt'); }\n",
       "    "
      ],
      "text/plain": [
       "<IPython.core.display.Javascript object>"
      ]
     },
     "metadata": {},
     "output_type": "display_data"
    },
    {
     "data": {
      "application/javascript": [
       "\n",
       "        if (window._pyforest_update_imports_cell) { window._pyforest_update_imports_cell('import numpy as np\\nimport pandas as pd\\nimport matplotlib.pyplot as plt'); }\n",
       "    "
      ],
      "text/plain": [
       "<IPython.core.display.Javascript object>"
      ]
     },
     "metadata": {},
     "output_type": "display_data"
    },
    {
     "data": {
      "application/javascript": [
       "\n",
       "        if (window._pyforest_update_imports_cell) { window._pyforest_update_imports_cell('import numpy as np\\nimport pandas as pd\\nimport matplotlib.pyplot as plt'); }\n",
       "    "
      ],
      "text/plain": [
       "<IPython.core.display.Javascript object>"
      ]
     },
     "metadata": {},
     "output_type": "display_data"
    },
    {
     "data": {
      "application/javascript": [
       "\n",
       "        if (window._pyforest_update_imports_cell) { window._pyforest_update_imports_cell('import numpy as np\\nimport pandas as pd\\nimport matplotlib.pyplot as plt'); }\n",
       "    "
      ],
      "text/plain": [
       "<IPython.core.display.Javascript object>"
      ]
     },
     "metadata": {},
     "output_type": "display_data"
    },
    {
     "data": {
      "image/png": "[encoded data removed]",
      "text/plain": [
       "<Figure size 800x600 with 1 Axes>"
      ]
     },
     "metadata": {},
     "output_type": "display_data"
    }
   ],
   "source": [
    "labels   = kelas_counts2.index\n",
    "sizes    = kelas_counts2.values\n",
    "colors   = ['gold', 'yellowgreen', 'lightcoral']\n",
    "explode  = (0.1, 0, 0)\n",
    "\n",
    "plt.figure(figsize=(8, 6))\n",
    "plt.pie(sizes,\n",
    "        explode=explode,\n",
    "        labels=labels,\n",
    "        colors=colors,\n",
    "        autopct='%1.1f%%',\n",
    "        shadow=True,\n",
    "        startangle=140)\n",
    "\n",
    "plt.axis('equal')\n",
    "plt.title('Distribusi Sentimen Review')\n",
    "plt.show()"
   ]
  },
  {
   "cell_type": "code",
   "execution_count": 31,
   "metadata": {
    "execution": {
     "iopub.execute_input": "2024-07-08T11:55:46.008810Z",
     "iopub.status.busy": "2024-07-08T11:55:46.008436Z",
     "iopub.status.idle": "2024-07-08T11:55:46.015322Z",
     "shell.execute_reply": "2024-07-08T11:55:46.014432Z",
     "shell.execute_reply.started": "2024-07-08T11:55:46.008781Z"
    },
    "id": "W_1JT0rbU4j-"
   },
   "outputs": [],
   "source": [
    "def visualisasi_wordcloud(teks, judul):\n",
    "    wc = WordCloud(background_color='white').generate(teks)\n",
    "    plt.figure(figsize=(10, 6))\n",
    "    plt.imshow(wc, interpolation='bilinear')\n",
    "    plt.title(judul)\n",
    "    plt.axis('off')\n",
    "    plt.show()\n",
    "\n",
    "def buat_vis_wordcloud(df, text_column, sentiment_column, sentiment_class):\n",
    "    teks = ' '.join(df[df[sentiment_column] == sentiment_class][text_column])\n",
    "    visualisasi_wordcloud(teks, f'WordCloud Sentimen {sentiment_class.capitalize()}')"
   ]
  },
  {
   "cell_type": "code",
   "execution_count": 32,
   "metadata": {
    "colab": {
     "base_uri": "https://localhost:8080/",
     "height": 446
    },
    "execution": {
     "iopub.execute_input": "2024-07-08T11:55:49.815332Z",
     "iopub.status.busy": "2024-07-08T11:55:49.814997Z",
     "iopub.status.idle": "2024-07-08T11:55:51.318336Z",
     "shell.execute_reply": "2024-07-08T11:55:51.317528Z",
     "shell.execute_reply.started": "2024-07-08T11:55:49.815307Z"
    },
    "id": "OS2q6V24U4j-",
    "outputId": "a2fb2bde-269c-4278-d142-165ef9db9b69"
   },
   "outputs": [
    {
     "data": {
      "application/javascript": [
       "\n",
       "        if (window._pyforest_update_imports_cell) { window._pyforest_update_imports_cell('import numpy as np\\nimport pandas as pd\\nimport matplotlib.pyplot as plt'); }\n",
       "    "
      ],
      "text/plain": [
       "<IPython.core.display.Javascript object>"
      ]
     },
     "metadata": {},
     "output_type": "display_data"
    },
    {
     "data": {
      "application/javascript": [
       "\n",
       "        if (window._pyforest_update_imports_cell) { window._pyforest_update_imports_cell('import numpy as np\\nimport pandas as pd\\nimport matplotlib.pyplot as plt'); }\n",
       "    "
      ],
      "text/plain": [
       "<IPython.core.display.Javascript object>"
      ]
     },
     "metadata": {},
     "output_type": "display_data"
    },
    {
     "data": {
      "application/javascript": [
       "\n",
       "        if (window._pyforest_update_imports_cell) { window._pyforest_update_imports_cell('import numpy as np\\nimport pandas as pd\\nimport matplotlib.pyplot as plt'); }\n",
       "    "
      ],
      "text/plain": [
       "<IPython.core.display.Javascript object>"
      ]
     },
     "metadata": {},
     "output_type": "display_data"
    },
    {
     "data": {
      "application/javascript": [
       "\n",
       "        if (window._pyforest_update_imports_cell) { window._pyforest_update_imports_cell('import numpy as np\\nimport pandas as pd\\nimport matplotlib.pyplot as plt'); }\n",
       "    "
      ],
      "text/plain": [
       "<IPython.core.display.Javascript object>"
      ]
     },
     "metadata": {},
     "output_type": "display_data"
    },
    {
     "data": {
      "application/javascript": [
       "\n",
       "        if (window._pyforest_update_imports_cell) { window._pyforest_update_imports_cell('import numpy as np\\nimport pandas as pd\\nimport matplotlib.pyplot as plt'); }\n",
       "    "
      ],
      "text/plain": [
       "<IPython.core.display.Javascript object>"
      ]
     },
     "metadata": {},
     "output_type": "display_data"
    },
    {
     "data": {
      "image/png": "[encoded data removed]",
      "text/plain": [
       "<Figure size 1000x600 with 1 Axes>"
      ]
     },
     "metadata": {},
     "output_type": "display_data"
    }
   ],
   "source": [
    "buat_vis_wordcloud(df4, 'text_stem_snow', 'kelas', 'positive')"
   ]
  },
  {
   "cell_type": "code",
   "execution_count": 33,
   "metadata": {
    "colab": {
     "base_uri": "https://localhost:8080/",
     "height": 206
    },
    "execution": {
     "iopub.execute_input": "2024-07-08T11:55:56.959240Z",
     "iopub.status.busy": "2024-07-08T11:55:56.958880Z",
     "iopub.status.idle": "2024-07-08T11:55:56.968925Z",
     "shell.execute_reply": "2024-07-08T11:55:56.968019Z",
     "shell.execute_reply.started": "2024-07-08T11:55:56.959210Z"
    },
    "id": "fgewSHZVU4j_",
    "outputId": "a5d8f7c8-5239-4b34-b09b-a692b3d43abd"
   },
   "outputs": [
    {
     "data": {
      "application/vnd.google.colaboratory.intrinsic+json": {
       "summary": "{\n  \"name\": \"df4\",\n  \"rows\": 5,\n  \"fields\": [\n    {\n      \"column\": \"text_stem_snow\",\n      \"properties\": {\n        \"dtype\": \"string\",\n        \"num_unique_values\": 5,\n        \"samples\": [\n          \"best ui featur\",\n          \"much bad support account hack support didnt respond even hour send inquir paid cours udemi account\",\n          \"nice wonderful app would realli recomend anyon search learn new thing\"\n        ],\n        \"semantic_type\": \"\",\n        \"description\": \"\"\n      }\n    },\n    {\n      \"column\": \"kelas\",\n      \"properties\": {\n        \"dtype\": \"category\",\n        \"num_unique_values\": 1,\n        \"samples\": [\n          \"positive\"\n        ],\n        \"semantic_type\": \"\",\n        \"description\": \"\"\n      }\n    }\n  ]\n}",
       "type": "dataframe"
      },
      "text/html": [
       "\n",
       "  <div id=\"df-6b7e5af2-c030-4b60-9c3d-565618732211\" class=\"colab-df-container\">\n",
       "    <div>\n",
       "<style scoped>\n",
       "    .dataframe tbody tr th:only-of-type {\n",
       "        vertical-align: middle;\n",
       "    }\n",
       "\n",
       "    .dataframe tbody tr th {\n",
       "        vertical-align: top;\n",
       "    }\n",
       "\n",
       "    .dataframe thead th {\n",
       "        text-align: right;\n",
       "    }\n",
       "</style>\n",
       "<table border=\"1\" class=\"dataframe\">\n",
       "  <thead>\n",
       "    <tr style=\"text-align: right;\">\n",
       "      <th></th>\n",
       "      <th>text_stem_snow</th>\n",
       "      <th>kelas</th>\n",
       "    </tr>\n",
       "  </thead>\n",
       "  <tbody>\n",
       "    <tr>\n",
       "      <th>19996</th>\n",
       "      <td>cant open app crash</td>\n",
       "      <td>positive</td>\n",
       "    </tr>\n",
       "    <tr>\n",
       "      <th>19997</th>\n",
       "      <td>best ui featur</td>\n",
       "      <td>positive</td>\n",
       "    </tr>\n",
       "    <tr>\n",
       "      <th>19998</th>\n",
       "      <td>nice wonderful app would realli recomend anyon...</td>\n",
       "      <td>positive</td>\n",
       "    </tr>\n",
       "    <tr>\n",
       "      <th>19999</th>\n",
       "      <td>help consolid content</td>\n",
       "      <td>positive</td>\n",
       "    </tr>\n",
       "    <tr>\n",
       "      <th>20000</th>\n",
       "      <td>much bad support account hack support didnt re...</td>\n",
       "      <td>positive</td>\n",
       "    </tr>\n",
       "  </tbody>\n",
       "</table>\n",
       "</div>\n",
       "    <div class=\"colab-df-buttons\">\n",
       "\n",
       "  <div class=\"colab-df-container\">\n",
       "    <button class=\"colab-df-convert\" onclick=\"convertToInteractive('df-6b7e5af2-c030-4b60-9c3d-565618732211')\"\n",
       "            title=\"Convert this dataframe to an interactive table.\"\n",
       "            style=\"display:none;\">\n",
       "\n",
       "  <svg xmlns=\"http://www.w3.org/2000/svg\" height=\"24px\" viewBox=\"0 -960 960 960\">\n",
       "    <path d=\"M120-120v-720h720v720H120Zm60-500h600v-160H180v160Zm220 220h160v-160H400v160Zm0 220h160v-160H400v160ZM180-400h160v-160H180v160Zm440 0h160v-160H620v160ZM180-180h160v-160H180v160Zm440 0h160v-160H620v160Z\"/>\n",
       "  </svg>\n",
       "    </button>\n",
       "\n",
       "  <style>\n",
       "    .colab-df-container {\n",
       "      display:flex;\n",
       "      gap: 12px;\n",
       "    }\n",
       "\n",
       "    .colab-df-convert {\n",
       "      background-color: #E8F0FE;\n",
       "      border: none;\n",
       "      border-radius: 50%;\n",
       "      cursor: pointer;\n",
       "      display: none;\n",
       "      fill: #1967D2;\n",
       "      height: 32px;\n",
       "      padding: 0 0 0 0;\n",
       "      width: 32px;\n",
       "    }\n",
       "\n",
       "    .colab-df-convert:hover {\n",
       "      background-color: #E2EBFA;\n",
       "      box-shadow: 0px 1px 2px rgba(60, 64, 67, 0.3), 0px 1px 3px 1px rgba(60, 64, 67, 0.15);\n",
       "      fill: #174EA6;\n",
       "    }\n",
       "\n",
       "    .colab-df-buttons div {\n",
       "      margin-bottom: 4px;\n",
       "    }\n",
       "\n",
       "    [theme=dark] .colab-df-convert {\n",
       "      background-color: #3B4455;\n",
       "      fill: #D2E3FC;\n",
       "    }\n",
       "\n",
       "    [theme=dark] .colab-df-convert:hover {\n",
       "      background-color: #434B5C;\n",
       "      box-shadow: 0px 1px 3px 1px rgba(0, 0, 0, 0.15);\n",
       "      filter: drop-shadow(0px 1px 2px rgba(0, 0, 0, 0.3));\n",
       "      fill: #FFFFFF;\n",
       "    }\n",
       "  </style>\n",
       "\n",
       "    <script>\n",
       "      const buttonEl =\n",
       "        document.querySelector('#df-6b7e5af2-c030-4b60-9c3d-565618732211 button.colab-df-convert');\n",
       "      buttonEl.style.display =\n",
       "        google.colab.kernel.accessAllowed ? 'block' : 'none';\n",
       "\n",
       "      async function convertToInteractive(key) {\n",
       "        const element = document.querySelector('#df-6b7e5af2-c030-4b60-9c3d-565618732211');\n",
       "        const dataTable =\n",
       "          await google.colab.kernel.invokeFunction('convertToInteractive',\n",
       "                                                    [key], {});\n",
       "        if (!dataTable) return;\n",
       "\n",
       "        const docLinkHtml = 'Like what you see? Visit the ' +\n",
       "          '<a target=\"_blank\" href=https://colab.research.google.com/notebooks/data_table.ipynb>data table notebook</a>'\n",
       "          + ' to learn more about interactive tables.';\n",
       "        element.innerHTML = '';\n",
       "        dataTable['output_type'] = 'display_data';\n",
       "        await google.colab.output.renderOutput(dataTable, element);\n",
       "        const docLink = document.createElement('div');\n",
       "        docLink.innerHTML = docLinkHtml;\n",
       "        element.appendChild(docLink);\n",
       "      }\n",
       "    </script>\n",
       "  </div>\n",
       "\n",
       "\n",
       "<div id=\"df-06cf96f9-9abb-4a9f-a7df-8c873c6e046b\">\n",
       "  <button class=\"colab-df-quickchart\" onclick=\"quickchart('df-06cf96f9-9abb-4a9f-a7df-8c873c6e046b')\"\n",
       "            title=\"Suggest charts\"\n",
       "            style=\"display:none;\">\n",
       "\n",
       "<svg xmlns=\"http://www.w3.org/2000/svg\" height=\"24px\"viewBox=\"0 0 24 24\"\n",
       "     width=\"24px\">\n",
       "    <g>\n",
       "        <path d=\"M19 3H5c-1.1 0-2 .9-2 2v14c0 1.1.9 2 2 2h14c1.1 0 2-.9 2-2V5c0-1.1-.9-2-2-2zM9 17H7v-7h2v7zm4 0h-2V7h2v10zm4 0h-2v-4h2v4z\"/>\n",
       "    </g>\n",
       "</svg>\n",
       "  </button>\n",
       "\n",
       "<style>\n",
       "  .colab-df-quickchart {\n",
       "      --bg-color: #E8F0FE;\n",
       "      --fill-color: #1967D2;\n",
       "      --hover-bg-color: #E2EBFA;\n",
       "      --hover-fill-color: #174EA6;\n",
       "      --disabled-fill-color: #AAA;\n",
       "      --disabled-bg-color: #DDD;\n",
       "  }\n",
       "\n",
       "  [theme=dark] .colab-df-quickchart {\n",
       "      --bg-color: #3B4455;\n",
       "      --fill-color: #D2E3FC;\n",
       "      --hover-bg-color: #434B5C;\n",
       "      --hover-fill-color: #FFFFFF;\n",
       "      --disabled-bg-color: #3B4455;\n",
       "      --disabled-fill-color: #666;\n",
       "  }\n",
       "\n",
       "  .colab-df-quickchart {\n",
       "    background-color: var(--bg-color);\n",
       "    border: none;\n",
       "    border-radius: 50%;\n",
       "    cursor: pointer;\n",
       "    display: none;\n",
       "    fill: var(--fill-color);\n",
       "    height: 32px;\n",
       "    padding: 0;\n",
       "    width: 32px;\n",
       "  }\n",
       "\n",
       "  .colab-df-quickchart:hover {\n",
       "    background-color: var(--hover-bg-color);\n",
       "    box-shadow: 0 1px 2px rgba(60, 64, 67, 0.3), 0 1px 3px 1px rgba(60, 64, 67, 0.15);\n",
       "    fill: var(--button-hover-fill-color);\n",
       "  }\n",
       "\n",
       "  .colab-df-quickchart-complete:disabled,\n",
       "  .colab-df-quickchart-complete:disabled:hover {\n",
       "    background-color: var(--disabled-bg-color);\n",
       "    fill: var(--disabled-fill-color);\n",
       "    box-shadow: none;\n",
       "  }\n",
       "\n",
       "  .colab-df-spinner {\n",
       "    border: 2px solid var(--fill-color);\n",
       "    border-color: transparent;\n",
       "    border-bottom-color: var(--fill-color);\n",
       "    animation:\n",
       "      spin 1s steps(1) infinite;\n",
       "  }\n",
       "\n",
       "  @keyframes spin {\n",
       "    0% {\n",
       "      border-color: transparent;\n",
       "      border-bottom-color: var(--fill-color);\n",
       "      border-left-color: var(--fill-color);\n",
       "    }\n",
       "    20% {\n",
       "      border-color: transparent;\n",
       "      border-left-color: var(--fill-color);\n",
       "      border-top-color: var(--fill-color);\n",
       "    }\n",
       "    30% {\n",
       "      border-color: transparent;\n",
       "      border-left-color: var(--fill-color);\n",
       "      border-top-color: var(--fill-color);\n",
       "      border-right-color: var(--fill-color);\n",
       "    }\n",
       "    40% {\n",
       "      border-color: transparent;\n",
       "      border-right-color: var(--fill-color);\n",
       "      border-top-color: var(--fill-color);\n",
       "    }\n",
       "    60% {\n",
       "      border-color: transparent;\n",
       "      border-right-color: var(--fill-color);\n",
       "    }\n",
       "    80% {\n",
       "      border-color: transparent;\n",
       "      border-right-color: var(--fill-color);\n",
       "      border-bottom-color: var(--fill-color);\n",
       "    }\n",
       "    90% {\n",
       "      border-color: transparent;\n",
       "      border-bottom-color: var(--fill-color);\n",
       "    }\n",
       "  }\n",
       "</style>\n",
       "\n",
       "  <script>\n",
       "    async function quickchart(key) {\n",
       "      const quickchartButtonEl =\n",
       "        document.querySelector('#' + key + ' button');\n",
       "      quickchartButtonEl.disabled = true;  // To prevent multiple clicks.\n",
       "      quickchartButtonEl.classList.add('colab-df-spinner');\n",
       "      try {\n",
       "        const charts = await google.colab.kernel.invokeFunction(\n",
       "            'suggestCharts', [key], {});\n",
       "      } catch (error) {\n",
       "        console.error('Error during call to suggestCharts:', error);\n",
       "      }\n",
       "      quickchartButtonEl.classList.remove('colab-df-spinner');\n",
       "      quickchartButtonEl.classList.add('colab-df-quickchart-complete');\n",
       "    }\n",
       "    (() => {\n",
       "      let quickchartButtonEl =\n",
       "        document.querySelector('#df-06cf96f9-9abb-4a9f-a7df-8c873c6e046b button');\n",
       "      quickchartButtonEl.style.display =\n",
       "        google.colab.kernel.accessAllowed ? 'block' : 'none';\n",
       "    })();\n",
       "  </script>\n",
       "</div>\n",
       "\n",
       "    </div>\n",
       "  </div>\n"
      ],
      "text/plain": [
       "                                          text_stem_snow     kelas\n",
       "19996                                cant open app crash  positive\n",
       "19997                                     best ui featur  positive\n",
       "19998  nice wonderful app would realli recomend anyon...  positive\n",
       "19999                              help consolid content  positive\n",
       "20000  much bad support account hack support didnt re...  positive"
      ]
     },
     "execution_count": 33,
     "metadata": {},
     "output_type": "execute_result"
    }
   ],
   "source": [
    "df4.tail()"
   ]
  },
  {
   "cell_type": "code",
   "execution_count": 34,
   "metadata": {
    "execution": {
     "iopub.execute_input": "2024-07-08T11:56:00.217632Z",
     "iopub.status.busy": "2024-07-08T11:56:00.217252Z",
     "iopub.status.idle": "2024-07-08T11:56:00.222477Z",
     "shell.execute_reply": "2024-07-08T11:56:00.221485Z",
     "shell.execute_reply.started": "2024-07-08T11:56:00.217589Z"
    },
    "id": "sG_8OizHU4kF"
   },
   "outputs": [],
   "source": [
    "X = df4['text_stem_snow']\n",
    "y = df4['kelas']"
   ]
  },
  {
   "cell_type": "markdown",
   "metadata": {
    "id": "rMIUKulvU4kF"
   },
   "source": [
    "#### Berdasarkan observasi terhadap kata-kata yang muncul setiap kelasnya. Mungkin teknik ekstraksi fitur yang cocok adalah menggunakan TF-IDF, hal ini dikarenakan teknik tersebut mampu memberikan bobot pada kata yang jarang muncul pada suatu dokumen namun dianggap penting. Mungkin TF-IDF akan cocok untuk model Machine Learning seperti NB, RF, atau DT."
   ]
  },
  {
   "cell_type": "code",
   "execution_count": 35,
   "metadata": {
    "execution": {
     "iopub.execute_input": "2024-07-08T11:56:06.617098Z",
     "iopub.status.busy": "2024-07-08T11:56:06.615900Z",
     "iopub.status.idle": "2024-07-08T11:56:06.621189Z",
     "shell.execute_reply": "2024-07-08T11:56:06.620323Z",
     "shell.execute_reply.started": "2024-07-08T11:56:06.617061Z"
    },
    "id": "_bWtHwnqU4kG"
   },
   "outputs": [],
   "source": [
    "tf_idf   = TfidfVectorizer(max_features=500, min_df=10, max_df=0.8)"
   ]
  },
  {
   "cell_type": "code",
   "execution_count": 36,
   "metadata": {
    "execution": {
     "iopub.execute_input": "2024-07-08T11:56:09.827300Z",
     "iopub.status.busy": "2024-07-08T11:56:09.826659Z",
     "iopub.status.idle": "2024-07-08T11:56:10.171125Z",
     "shell.execute_reply": "2024-07-08T11:56:10.170332Z",
     "shell.execute_reply.started": "2024-07-08T11:56:09.827266Z"
    },
    "id": "tTLBJFvMU4kG"
   },
   "outputs": [],
   "source": [
    "X_tf_idf = tf_idf.fit_transform(X)"
   ]
  },
  {
   "cell_type": "code",
   "execution_count": 37,
   "metadata": {
    "colab": {
     "base_uri": "https://localhost:8080/"
    },
    "execution": {
     "iopub.execute_input": "2024-07-08T11:56:12.613454Z",
     "iopub.status.busy": "2024-07-08T11:56:12.613091Z",
     "iopub.status.idle": "2024-07-08T11:56:12.619306Z",
     "shell.execute_reply": "2024-07-08T11:56:12.618381Z",
     "shell.execute_reply.started": "2024-07-08T11:56:12.613423Z"
    },
    "id": "3vZ0k0e_U4kG",
    "outputId": "bb820446-3855-4608-f6ed-a07890c79644"
   },
   "outputs": [
    {
     "data": {
      "text/plain": [
       "(14164, 500)"
      ]
     },
     "execution_count": 37,
     "metadata": {},
     "output_type": "execute_result"
    }
   ],
   "source": [
    "X_tf_idf.shape"
   ]
  },
  {
   "cell_type": "code",
   "execution_count": 38,
   "metadata": {
    "colab": {
     "base_uri": "https://localhost:8080/",
     "height": 235
    },
    "execution": {
     "iopub.execute_input": "2024-07-08T11:56:16.052433Z",
     "iopub.status.busy": "2024-07-08T11:56:16.052097Z",
     "iopub.status.idle": "2024-07-08T11:56:16.152156Z",
     "shell.execute_reply": "2024-07-08T11:56:16.151221Z",
     "shell.execute_reply.started": "2024-07-08T11:56:16.052408Z"
    },
    "id": "5RzoDK-WU4kH",
    "outputId": "b9320371-3f84-487c-cd72-01dbfadb6e82"
   },
   "outputs": [
    {
     "data": {
      "application/javascript": [
       "\n",
       "        if (window._pyforest_update_imports_cell) { window._pyforest_update_imports_cell('import numpy as np\\nimport pandas as pd\\nimport matplotlib.pyplot as plt'); }\n",
       "    "
      ],
      "text/plain": [
       "<IPython.core.display.Javascript object>"
      ]
     },
     "metadata": {},
     "output_type": "display_data"
    },
    {
     "data": {
      "application/vnd.google.colaboratory.intrinsic+json": {
       "type": "dataframe",
       "variable_name": "features_df"
      },
      "text/html": [
       "\n",
       "  <div id=\"df-9b30858d-ea92-47e8-b98c-309a087af670\" class=\"colab-df-container\">\n",
       "    <div>\n",
       "<style scoped>\n",
       "    .dataframe tbody tr th:only-of-type {\n",
       "        vertical-align: middle;\n",
       "    }\n",
       "\n",
       "    .dataframe tbody tr th {\n",
       "        vertical-align: top;\n",
       "    }\n",
       "\n",
       "    .dataframe thead th {\n",
       "        text-align: right;\n",
       "    }\n",
       "</style>\n",
       "<table border=\"1\" class=\"dataframe\">\n",
       "  <thead>\n",
       "    <tr style=\"text-align: right;\">\n",
       "      <th></th>\n",
       "      <th>abl</th>\n",
       "      <th>absolut</th>\n",
       "      <th>access</th>\n",
       "      <th>account</th>\n",
       "      <th>actual</th>\n",
       "      <th>ad</th>\n",
       "      <th>add</th>\n",
       "      <th>address</th>\n",
       "      <th>afford</th>\n",
       "      <th>allow</th>\n",
       "      <th>...</th>\n",
       "      <th>work</th>\n",
       "      <th>worst</th>\n",
       "      <th>worth</th>\n",
       "      <th>would</th>\n",
       "      <th>wrong</th>\n",
       "      <th>year</th>\n",
       "      <th>yet</th>\n",
       "      <th>your</th>\n",
       "      <th>youtub</th>\n",
       "      <th>zoom</th>\n",
       "    </tr>\n",
       "  </thead>\n",
       "  <tbody>\n",
       "    <tr>\n",
       "      <th>0</th>\n",
       "      <td>0.0</td>\n",
       "      <td>0.0</td>\n",
       "      <td>0.0</td>\n",
       "      <td>0.0</td>\n",
       "      <td>0.235744</td>\n",
       "      <td>0.0</td>\n",
       "      <td>0.000000</td>\n",
       "      <td>0.0</td>\n",
       "      <td>0.0</td>\n",
       "      <td>0.0</td>\n",
       "      <td>...</td>\n",
       "      <td>0.000000</td>\n",
       "      <td>0.0</td>\n",
       "      <td>0.0</td>\n",
       "      <td>0.0</td>\n",
       "      <td>0.0</td>\n",
       "      <td>0.230071</td>\n",
       "      <td>0.0</td>\n",
       "      <td>0.0</td>\n",
       "      <td>0.0</td>\n",
       "      <td>0.0</td>\n",
       "    </tr>\n",
       "    <tr>\n",
       "      <th>1</th>\n",
       "      <td>0.0</td>\n",
       "      <td>0.0</td>\n",
       "      <td>0.0</td>\n",
       "      <td>0.0</td>\n",
       "      <td>0.000000</td>\n",
       "      <td>0.0</td>\n",
       "      <td>0.000000</td>\n",
       "      <td>0.0</td>\n",
       "      <td>0.0</td>\n",
       "      <td>0.0</td>\n",
       "      <td>...</td>\n",
       "      <td>0.000000</td>\n",
       "      <td>0.0</td>\n",
       "      <td>0.0</td>\n",
       "      <td>0.0</td>\n",
       "      <td>0.0</td>\n",
       "      <td>0.000000</td>\n",
       "      <td>0.0</td>\n",
       "      <td>0.0</td>\n",
       "      <td>0.0</td>\n",
       "      <td>0.0</td>\n",
       "    </tr>\n",
       "    <tr>\n",
       "      <th>2</th>\n",
       "      <td>0.0</td>\n",
       "      <td>0.0</td>\n",
       "      <td>0.0</td>\n",
       "      <td>0.0</td>\n",
       "      <td>0.000000</td>\n",
       "      <td>0.0</td>\n",
       "      <td>0.000000</td>\n",
       "      <td>0.0</td>\n",
       "      <td>0.0</td>\n",
       "      <td>0.0</td>\n",
       "      <td>...</td>\n",
       "      <td>0.199892</td>\n",
       "      <td>0.0</td>\n",
       "      <td>0.0</td>\n",
       "      <td>0.0</td>\n",
       "      <td>0.0</td>\n",
       "      <td>0.000000</td>\n",
       "      <td>0.0</td>\n",
       "      <td>0.0</td>\n",
       "      <td>0.0</td>\n",
       "      <td>0.0</td>\n",
       "    </tr>\n",
       "    <tr>\n",
       "      <th>3</th>\n",
       "      <td>0.0</td>\n",
       "      <td>0.0</td>\n",
       "      <td>0.0</td>\n",
       "      <td>0.0</td>\n",
       "      <td>0.000000</td>\n",
       "      <td>0.0</td>\n",
       "      <td>0.000000</td>\n",
       "      <td>0.0</td>\n",
       "      <td>0.0</td>\n",
       "      <td>0.0</td>\n",
       "      <td>...</td>\n",
       "      <td>0.000000</td>\n",
       "      <td>0.0</td>\n",
       "      <td>0.0</td>\n",
       "      <td>0.0</td>\n",
       "      <td>0.0</td>\n",
       "      <td>0.000000</td>\n",
       "      <td>0.0</td>\n",
       "      <td>0.0</td>\n",
       "      <td>0.0</td>\n",
       "      <td>0.0</td>\n",
       "    </tr>\n",
       "    <tr>\n",
       "      <th>4</th>\n",
       "      <td>0.0</td>\n",
       "      <td>0.0</td>\n",
       "      <td>0.0</td>\n",
       "      <td>0.0</td>\n",
       "      <td>0.000000</td>\n",
       "      <td>0.0</td>\n",
       "      <td>0.150677</td>\n",
       "      <td>0.0</td>\n",
       "      <td>0.0</td>\n",
       "      <td>0.0</td>\n",
       "      <td>...</td>\n",
       "      <td>0.000000</td>\n",
       "      <td>0.0</td>\n",
       "      <td>0.0</td>\n",
       "      <td>0.0</td>\n",
       "      <td>0.0</td>\n",
       "      <td>0.000000</td>\n",
       "      <td>0.0</td>\n",
       "      <td>0.0</td>\n",
       "      <td>0.0</td>\n",
       "      <td>0.0</td>\n",
       "    </tr>\n",
       "  </tbody>\n",
       "</table>\n",
       "<p>5 rows × 500 columns</p>\n",
       "</div>\n",
       "    <div class=\"colab-df-buttons\">\n",
       "\n",
       "  <div class=\"colab-df-container\">\n",
       "    <button class=\"colab-df-convert\" onclick=\"convertToInteractive('df-9b30858d-ea92-47e8-b98c-309a087af670')\"\n",
       "            title=\"Convert this dataframe to an interactive table.\"\n",
       "            style=\"display:none;\">\n",
       "\n",
       "  <svg xmlns=\"http://www.w3.org/2000/svg\" height=\"24px\" viewBox=\"0 -960 960 960\">\n",
       "    <path d=\"M120-120v-720h720v720H120Zm60-500h600v-160H180v160Zm220 220h160v-160H400v160Zm0 220h160v-160H400v160ZM180-400h160v-160H180v160Zm440 0h160v-160H620v160ZM180-180h160v-160H180v160Zm440 0h160v-160H620v160Z\"/>\n",
       "  </svg>\n",
       "    </button>\n",
       "\n",
       "  <style>\n",
       "    .colab-df-container {\n",
       "      display:flex;\n",
       "      gap: 12px;\n",
       "    }\n",
       "\n",
       "    .colab-df-convert {\n",
       "      background-color: #E8F0FE;\n",
       "      border: none;\n",
       "      border-radius: 50%;\n",
       "      cursor: pointer;\n",
       "      display: none;\n",
       "      fill: #1967D2;\n",
       "      height: 32px;\n",
       "      padding: 0 0 0 0;\n",
       "      width: 32px;\n",
       "    }\n",
       "\n",
       "    .colab-df-convert:hover {\n",
       "      background-color: #E2EBFA;\n",
       "      box-shadow: 0px 1px 2px rgba(60, 64, 67, 0.3), 0px 1px 3px 1px rgba(60, 64, 67, 0.15);\n",
       "      fill: #174EA6;\n",
       "    }\n",
       "\n",
       "    .colab-df-buttons div {\n",
       "      margin-bottom: 4px;\n",
       "    }\n",
       "\n",
       "    [theme=dark] .colab-df-convert {\n",
       "      background-color: #3B4455;\n",
       "      fill: #D2E3FC;\n",
       "    }\n",
       "\n",
       "    [theme=dark] .colab-df-convert:hover {\n",
       "      background-color: #434B5C;\n",
       "      box-shadow: 0px 1px 3px 1px rgba(0, 0, 0, 0.15);\n",
       "      filter: drop-shadow(0px 1px 2px rgba(0, 0, 0, 0.3));\n",
       "      fill: #FFFFFF;\n",
       "    }\n",
       "  </style>\n",
       "\n",
       "    <script>\n",
       "      const buttonEl =\n",
       "        document.querySelector('#df-9b30858d-ea92-47e8-b98c-309a087af670 button.colab-df-convert');\n",
       "      buttonEl.style.display =\n",
       "        google.colab.kernel.accessAllowed ? 'block' : 'none';\n",
       "\n",
       "      async function convertToInteractive(key) {\n",
       "        const element = document.querySelector('#df-9b30858d-ea92-47e8-b98c-309a087af670');\n",
       "        const dataTable =\n",
       "          await google.colab.kernel.invokeFunction('convertToInteractive',\n",
       "                                                    [key], {});\n",
       "        if (!dataTable) return;\n",
       "\n",
       "        const docLinkHtml = 'Like what you see? Visit the ' +\n",
       "          '<a target=\"_blank\" href=https://colab.research.google.com/notebooks/data_table.ipynb>data table notebook</a>'\n",
       "          + ' to learn more about interactive tables.';\n",
       "        element.innerHTML = '';\n",
       "        dataTable['output_type'] = 'display_data';\n",
       "        await google.colab.output.renderOutput(dataTable, element);\n",
       "        const docLink = document.createElement('div');\n",
       "        docLink.innerHTML = docLinkHtml;\n",
       "        element.appendChild(docLink);\n",
       "      }\n",
       "    </script>\n",
       "  </div>\n",
       "\n",
       "\n",
       "<div id=\"df-65e02dcb-5296-498c-a5ff-3ba35df6e3db\">\n",
       "  <button class=\"colab-df-quickchart\" onclick=\"quickchart('df-65e02dcb-5296-498c-a5ff-3ba35df6e3db')\"\n",
       "            title=\"Suggest charts\"\n",
       "            style=\"display:none;\">\n",
       "\n",
       "<svg xmlns=\"http://www.w3.org/2000/svg\" height=\"24px\"viewBox=\"0 0 24 24\"\n",
       "     width=\"24px\">\n",
       "    <g>\n",
       "        <path d=\"M19 3H5c-1.1 0-2 .9-2 2v14c0 1.1.9 2 2 2h14c1.1 0 2-.9 2-2V5c0-1.1-.9-2-2-2zM9 17H7v-7h2v7zm4 0h-2V7h2v10zm4 0h-2v-4h2v4z\"/>\n",
       "    </g>\n",
       "</svg>\n",
       "  </button>\n",
       "\n",
       "<style>\n",
       "  .colab-df-quickchart {\n",
       "      --bg-color: #E8F0FE;\n",
       "      --fill-color: #1967D2;\n",
       "      --hover-bg-color: #E2EBFA;\n",
       "      --hover-fill-color: #174EA6;\n",
       "      --disabled-fill-color: #AAA;\n",
       "      --disabled-bg-color: #DDD;\n",
       "  }\n",
       "\n",
       "  [theme=dark] .colab-df-quickchart {\n",
       "      --bg-color: #3B4455;\n",
       "      --fill-color: #D2E3FC;\n",
       "      --hover-bg-color: #434B5C;\n",
       "      --hover-fill-color: #FFFFFF;\n",
       "      --disabled-bg-color: #3B4455;\n",
       "      --disabled-fill-color: #666;\n",
       "  }\n",
       "\n",
       "  .colab-df-quickchart {\n",
       "    background-color: var(--bg-color);\n",
       "    border: none;\n",
       "    border-radius: 50%;\n",
       "    cursor: pointer;\n",
       "    display: none;\n",
       "    fill: var(--fill-color);\n",
       "    height: 32px;\n",
       "    padding: 0;\n",
       "    width: 32px;\n",
       "  }\n",
       "\n",
       "  .colab-df-quickchart:hover {\n",
       "    background-color: var(--hover-bg-color);\n",
       "    box-shadow: 0 1px 2px rgba(60, 64, 67, 0.3), 0 1px 3px 1px rgba(60, 64, 67, 0.15);\n",
       "    fill: var(--button-hover-fill-color);\n",
       "  }\n",
       "\n",
       "  .colab-df-quickchart-complete:disabled,\n",
       "  .colab-df-quickchart-complete:disabled:hover {\n",
       "    background-color: var(--disabled-bg-color);\n",
       "    fill: var(--disabled-fill-color);\n",
       "    box-shadow: none;\n",
       "  }\n",
       "\n",
       "  .colab-df-spinner {\n",
       "    border: 2px solid var(--fill-color);\n",
       "    border-color: transparent;\n",
       "    border-bottom-color: var(--fill-color);\n",
       "    animation:\n",
       "      spin 1s steps(1) infinite;\n",
       "  }\n",
       "\n",
       "  @keyframes spin {\n",
       "    0% {\n",
       "      border-color: transparent;\n",
       "      border-bottom-color: var(--fill-color);\n",
       "      border-left-color: var(--fill-color);\n",
       "    }\n",
       "    20% {\n",
       "      border-color: transparent;\n",
       "      border-left-color: var(--fill-color);\n",
       "      border-top-color: var(--fill-color);\n",
       "    }\n",
       "    30% {\n",
       "      border-color: transparent;\n",
       "      border-left-color: var(--fill-color);\n",
       "      border-top-color: var(--fill-color);\n",
       "      border-right-color: var(--fill-color);\n",
       "    }\n",
       "    40% {\n",
       "      border-color: transparent;\n",
       "      border-right-color: var(--fill-color);\n",
       "      border-top-color: var(--fill-color);\n",
       "    }\n",
       "    60% {\n",
       "      border-color: transparent;\n",
       "      border-right-color: var(--fill-color);\n",
       "    }\n",
       "    80% {\n",
       "      border-color: transparent;\n",
       "      border-right-color: var(--fill-color);\n",
       "      border-bottom-color: var(--fill-color);\n",
       "    }\n",
       "    90% {\n",
       "      border-color: transparent;\n",
       "      border-bottom-color: var(--fill-color);\n",
       "    }\n",
       "  }\n",
       "</style>\n",
       "\n",
       "  <script>\n",
       "    async function quickchart(key) {\n",
       "      const quickchartButtonEl =\n",
       "        document.querySelector('#' + key + ' button');\n",
       "      quickchartButtonEl.disabled = true;  // To prevent multiple clicks.\n",
       "      quickchartButtonEl.classList.add('colab-df-spinner');\n",
       "      try {\n",
       "        const charts = await google.colab.kernel.invokeFunction(\n",
       "            'suggestCharts', [key], {});\n",
       "      } catch (error) {\n",
       "        console.error('Error during call to suggestCharts:', error);\n",
       "      }\n",
       "      quickchartButtonEl.classList.remove('colab-df-spinner');\n",
       "      quickchartButtonEl.classList.add('colab-df-quickchart-complete');\n",
       "    }\n",
       "    (() => {\n",
       "      let quickchartButtonEl =\n",
       "        document.querySelector('#df-65e02dcb-5296-498c-a5ff-3ba35df6e3db button');\n",
       "      quickchartButtonEl.style.display =\n",
       "        google.colab.kernel.accessAllowed ? 'block' : 'none';\n",
       "    })();\n",
       "  </script>\n",
       "</div>\n",
       "\n",
       "    </div>\n",
       "  </div>\n"
      ],
      "text/plain": [
       "   abl  absolut  access  account    actual   ad       add  address  afford  \\\n",
       "0  0.0      0.0     0.0      0.0  0.235744  0.0  0.000000      0.0     0.0   \n",
       "1  0.0      0.0     0.0      0.0  0.000000  0.0  0.000000      0.0     0.0   \n",
       "2  0.0      0.0     0.0      0.0  0.000000  0.0  0.000000      0.0     0.0   \n",
       "3  0.0      0.0     0.0      0.0  0.000000  0.0  0.000000      0.0     0.0   \n",
       "4  0.0      0.0     0.0      0.0  0.000000  0.0  0.150677      0.0     0.0   \n",
       "\n",
       "   allow  ...      work  worst  worth  would  wrong      year  yet  your  \\\n",
       "0    0.0  ...  0.000000    0.0    0.0    0.0    0.0  0.230071  0.0   0.0   \n",
       "1    0.0  ...  0.000000    0.0    0.0    0.0    0.0  0.000000  0.0   0.0   \n",
       "2    0.0  ...  0.199892    0.0    0.0    0.0    0.0  0.000000  0.0   0.0   \n",
       "3    0.0  ...  0.000000    0.0    0.0    0.0    0.0  0.000000  0.0   0.0   \n",
       "4    0.0  ...  0.000000    0.0    0.0    0.0    0.0  0.000000  0.0   0.0   \n",
       "\n",
       "   youtub  zoom  \n",
       "0     0.0   0.0  \n",
       "1     0.0   0.0  \n",
       "2     0.0   0.0  \n",
       "3     0.0   0.0  \n",
       "4     0.0   0.0  \n",
       "\n",
       "[5 rows x 500 columns]"
      ]
     },
     "execution_count": 38,
     "metadata": {},
     "output_type": "execute_result"
    }
   ],
   "source": [
    "features_df = pd.DataFrame(X_tf_idf.toarray(), columns=tf_idf.get_feature_names_out())\n",
    "\n",
    "features_df.head()"
   ]
  },
  {
   "cell_type": "code",
   "execution_count": 39,
   "metadata": {
    "colab": {
     "base_uri": "https://localhost:8080/",
     "height": 17
    },
    "execution": {
     "iopub.execute_input": "2024-07-08T11:56:21.829104Z",
     "iopub.status.busy": "2024-07-08T11:56:21.828356Z",
     "iopub.status.idle": "2024-07-08T11:56:21.839403Z",
     "shell.execute_reply": "2024-07-08T11:56:21.838533Z",
     "shell.execute_reply.started": "2024-07-08T11:56:21.829069Z"
    },
    "id": "6lb4XablU4kH",
    "outputId": "c8a75289-909e-4b39-ccc5-0a8ccb26b27e"
   },
   "outputs": [
    {
     "data": {
      "application/javascript": [
       "\n",
       "        if (window._pyforest_update_imports_cell) { window._pyforest_update_imports_cell('from sklearn.model_selection import train_test_split\\nimport numpy as np\\nimport pandas as pd\\nimport matplotlib.pyplot as plt'); }\n",
       "    "
      ],
      "text/plain": [
       "<IPython.core.display.Javascript object>"
      ]
     },
     "metadata": {},
     "output_type": "display_data"
    }
   ],
   "source": [
    "X_train, X_test, y_train, y_test = train_test_split(X,\n",
    "                                                    y,\n",
    "                                                    test_size=0.2,\n",
    "                                                    random_state=42)"
   ]
  },
  {
   "cell_type": "code",
   "execution_count": 41,
   "metadata": {
    "colab": {
     "base_uri": "https://localhost:8080/"
    },
    "execution": {
     "iopub.execute_input": "2024-07-08T11:56:43.449985Z",
     "iopub.status.busy": "2024-07-08T11:56:43.448789Z",
     "iopub.status.idle": "2024-07-08T11:56:43.460856Z",
     "shell.execute_reply": "2024-07-08T11:56:43.459887Z",
     "shell.execute_reply.started": "2024-07-08T11:56:43.449952Z"
    },
    "id": "gDyPEwm6U4kH",
    "outputId": "6ac448d1-7955-492f-c8d0-408560421450"
   },
   "outputs": [
    {
     "data": {
      "text/plain": [
       "kelas\n",
       "positive    5065\n",
       "negative    3673\n",
       "neutral     2593\n",
       "Name: count, dtype: int64"
      ]
     },
     "execution_count": 41,
     "metadata": {},
     "output_type": "execute_result"
    }
   ],
   "source": [
    "y_train.value_counts()"
   ]
  },
  {
   "cell_type": "code",
   "execution_count": 42,
   "metadata": {
    "execution": {
     "iopub.execute_input": "2024-07-08T11:56:50.047203Z",
     "iopub.status.busy": "2024-07-08T11:56:50.046809Z",
     "iopub.status.idle": "2024-07-08T11:56:50.056253Z",
     "shell.execute_reply": "2024-07-08T11:56:50.055017Z",
     "shell.execute_reply.started": "2024-07-08T11:56:50.047175Z"
    },
    "id": "0ox7g2jnU4kH"
   },
   "outputs": [],
   "source": [
    "label_map                 = {'positive': 2, 'negative': 0, 'neutral': 1}\n",
    "y_train_encoded           = y_train.map(label_map)\n",
    "y_test_encoded            = y_test.map(label_map)"
   ]
  },
  {
   "cell_type": "code",
   "execution_count": 43,
   "metadata": {
    "execution": {
     "iopub.execute_input": "2024-07-08T12:05:22.488844Z",
     "iopub.status.busy": "2024-07-08T12:05:22.488065Z",
     "iopub.status.idle": "2024-07-08T12:05:34.605785Z",
     "shell.execute_reply": "2024-07-08T12:05:34.604761Z",
     "shell.execute_reply.started": "2024-07-08T12:05:22.488811Z"
    },
    "id": "oXSyfYzSU4kH"
   },
   "outputs": [],
   "source": [
    "distilbert_tokenizer      = DistilBertTokenizer.from_pretrained('distilbert-base-uncased-distilled-squad')\n",
    "\n",
    "def preprocess_distilbert_data(examples):\n",
    "    return distilbert_tokenizer(examples.tolist(), truncation=True, padding=True)\n",
    "\n",
    "train_distilbert_encodings = preprocess_distilbert_data(X_train)\n",
    "test_distilbert_encodings  = preprocess_distilbert_data(X_test)"
   ]
  },
  {
   "cell_type": "code",
   "execution_count": 44,
   "metadata": {
    "execution": {
     "iopub.execute_input": "2024-07-08T12:05:36.672462Z",
     "iopub.status.busy": "2024-07-08T12:05:36.671627Z",
     "iopub.status.idle": "2024-07-08T12:05:36.678405Z",
     "shell.execute_reply": "2024-07-08T12:05:36.677486Z",
     "shell.execute_reply.started": "2024-07-08T12:05:36.672425Z"
    },
    "id": "aiqzFIBKU4kH"
   },
   "outputs": [],
   "source": [
    "# ubah data latih dan test menjadi tipe data torch yang diterima oleh model DistilBERT\n",
    "\n",
    "class DistilBertSentimentDataset(torch.utils.data.Dataset):\n",
    "    \n",
    "    def __init__(self, encodings, labels):\n",
    "        self.encodings  = encodings\n",
    "        self.labels     = labels\n",
    "\n",
    "    def __getitem__(self, idx):\n",
    "        item            = {key: torch.tensor(val[idx]) for key, val in self.encodings.items()}\n",
    "        item['labels']  = torch.tensor(self.labels[idx])\n",
    "        return item\n",
    "\n",
    "    def __len__(self):\n",
    "        return len(self.labels)"
   ]
  },
  {
   "cell_type": "code",
   "execution_count": 45,
   "metadata": {
    "execution": {
     "iopub.execute_input": "2024-07-08T12:05:41.338541Z",
     "iopub.status.busy": "2024-07-08T12:05:41.337836Z",
     "iopub.status.idle": "2024-07-08T12:05:41.342934Z",
     "shell.execute_reply": "2024-07-08T12:05:41.342021Z",
     "shell.execute_reply.started": "2024-07-08T12:05:41.338510Z"
    },
    "id": "fFya2yTGU4kI"
   },
   "outputs": [],
   "source": [
    "train_distilbert_dataset = DistilBertSentimentDataset(train_distilbert_encodings, y_train_encoded.values)\n",
    "test_distilbert_dataset  = DistilBertSentimentDataset(test_distilbert_encodings, y_test_encoded.values)"
   ]
  },
  {
   "cell_type": "code",
   "execution_count": 46,
   "metadata": {
    "colab": {
     "base_uri": "https://localhost:8080/"
    },
    "execution": {
     "iopub.execute_input": "2024-07-08T12:05:44.563347Z",
     "iopub.status.busy": "2024-07-08T12:05:44.562706Z",
     "iopub.status.idle": "2024-07-08T12:05:46.724370Z",
     "shell.execute_reply": "2024-07-08T12:05:46.723544Z",
     "shell.execute_reply.started": "2024-07-08T12:05:44.563312Z"
    },
    "id": "x2759ICpU4kI",
    "outputId": "cc58abe9-09e1-4057-a0b8-df7c97b9c6cf"
   },
   "outputs": [
    {
     "name": "stderr",
     "output_type": "stream",
     "text": [
      "Some weights of DistilBertForSequenceClassification were not initialized from the model checkpoint at distilbert-base-uncased-distilled-squad and are newly initialized: ['classifier.bias', 'classifier.weight', 'pre_classifier.bias', 'pre_classifier.weight']\n",
      "You should probably TRAIN this model on a down-stream task to be able to use it for predictions and inference.\n"
     ]
    }
   ],
   "source": [
    "distilbert_model         = DistilBertForSequenceClassification.from_pretrained('distilbert-base-uncased-distilled-squad',\n",
    "                                                                               num_labels=3)"
   ]
  },
  {
   "cell_type": "code",
   "execution_count": 48,
   "metadata": {
    "execution": {
     "iopub.execute_input": "2024-07-08T12:05:50.752438Z",
     "iopub.status.busy": "2024-07-08T12:05:50.751546Z",
     "iopub.status.idle": "2024-07-08T12:05:52.451642Z",
     "shell.execute_reply": "2024-07-08T12:05:52.450477Z",
     "shell.execute_reply.started": "2024-07-08T12:05:50.752404Z"
    },
    "id": "Zd3jtiNDU4kI"
   },
   "outputs": [],
   "source": [
    "# latih\n",
    "distilbert_training_config = TrainingArguments(output_dir='./results',\n",
    "                                               per_device_train_batch_size=19,\n",
    "                                               per_device_eval_batch_size=19,\n",
    "                                               num_train_epochs=3,\n",
    "                                               logging_dir='./logs',\n",
    "                                               logging_steps=10,\n",
    "                                               evaluation_strategy='epoch',\n",
    "                                               save_strategy='epoch')\n",
    "\n",
    "distilbert_trainer = Trainer(model = distilbert_model,\n",
    "                             args  = distilbert_training_config,\n",
    "                             train_dataset = train_distilbert_dataset,\n",
    "                             eval_dataset  = test_distilbert_dataset)"
   ]
  },
  {
   "cell_type": "code",
   "execution_count": 49,
   "metadata": {
    "colab": {
     "base_uri": "https://localhost:8080/",
     "height": 206
    },
    "execution": {
     "iopub.execute_input": "2024-07-08T12:05:57.527851Z",
     "iopub.status.busy": "2024-07-08T12:05:57.527326Z",
     "iopub.status.idle": "2024-07-08T12:17:01.305047Z",
     "shell.execute_reply": "2024-07-08T12:17:01.303906Z",
     "shell.execute_reply.started": "2024-07-08T12:05:57.527813Z"
    },
    "id": "aZEaOs1nU4kI",
    "outputId": "2de1c981-5b70-4946-aad5-d12c0d8923b9"
   },
   "outputs": [
    {
     "data": {
      "text/html": [
       "\n",
       "    <div>\n",
       "      \n",
       "      <progress value='1791' max='1791' style='width:300px; height:20px; vertical-align: middle;'></progress>\n",
       "      [1791/1791 09:40, Epoch 3/3]\n",
       "    </div>\n",
       "    <table border=\"1\" class=\"dataframe\">\n",
       "  <thead>\n",
       " <tr style=\"text-align: left;\">\n",
       "      <th>Epoch</th>\n",
       "      <th>Training Loss</th>\n",
       "      <th>Validation Loss</th>\n",
       "    </tr>\n",
       "  </thead>\n",
       "  <tbody>\n",
       "    <tr>\n",
       "      <td>1</td>\n",
       "      <td>0.191800</td>\n",
       "      <td>0.274474</td>\n",
       "    </tr>\n",
       "    <tr>\n",
       "      <td>2</td>\n",
       "      <td>0.146400</td>\n",
       "      <td>0.253825</td>\n",
       "    </tr>\n",
       "    <tr>\n",
       "      <td>3</td>\n",
       "      <td>0.087000</td>\n",
       "      <td>0.248339</td>\n",
       "    </tr>\n",
       "  </tbody>\n",
       "</table><p>"
      ],
      "text/plain": [
       "<IPython.core.display.HTML object>"
      ]
     },
     "metadata": {},
     "output_type": "display_data"
    },
    {
     "data": {
      "text/plain": [
       "TrainOutput(global_step=1791, training_loss=0.253590343063484, metrics={'train_runtime': 583.4437, 'train_samples_per_second': 58.263, 'train_steps_per_second': 3.07, 'total_flos': 1609486639311438.0, 'train_loss': 0.253590343063484, 'epoch': 3.0})"
      ]
     },
     "execution_count": 49,
     "metadata": {},
     "output_type": "execute_result"
    }
   ],
   "source": [
    "distilbert_trainer.train()"
   ]
  },
  {
   "cell_type": "code",
   "execution_count": 50,
   "metadata": {
    "colab": {
     "base_uri": "https://localhost:8080/",
     "height": 217
    },
    "execution": {
     "iopub.execute_input": "2024-07-08T12:17:14.522312Z",
     "iopub.status.busy": "2024-07-08T12:17:14.521930Z",
     "iopub.status.idle": "2024-07-08T12:18:27.152192Z",
     "shell.execute_reply": "2024-07-08T12:18:27.151238Z",
     "shell.execute_reply.started": "2024-07-08T12:17:14.522281Z"
    },
    "id": "_Lblyz1RU4kI",
    "outputId": "b40b6502-5c43-41c5-fca7-9d4720f07b6d"
   },
   "outputs": [
    {
     "data": {
      "text/html": [],
      "text/plain": [
       "<IPython.core.display.HTML object>"
      ]
     },
     "metadata": {},
     "output_type": "display_data"
    },
    {
     "data": {
      "application/javascript": [
       "\n",
       "        if (window._pyforest_update_imports_cell) { window._pyforest_update_imports_cell('from sklearn.model_selection import train_test_split\\nimport numpy as np\\nimport pandas as pd\\nimport matplotlib.pyplot as plt'); }\n",
       "    "
      ],
      "text/plain": [
       "<IPython.core.display.Javascript object>"
      ]
     },
     "metadata": {},
     "output_type": "display_data"
    },
    {
     "name": "stdout",
     "output_type": "stream",
     "text": [
      "Training Report:\n",
      "              precision    recall  f1-score   support\n",
      "\n",
      "    positive       0.97      0.99      0.98      3673\n",
      "    negative       0.98      0.93      0.96      2593\n",
      "     neutral       0.98      0.99      0.98      5065\n",
      "\n",
      "    accuracy                           0.98     11331\n",
      "   macro avg       0.98      0.97      0.97     11331\n",
      "weighted avg       0.98      0.98      0.98     11331\n",
      "\n"
     ]
    }
   ],
   "source": [
    "# Evaluasi data latih\n",
    "train_distilbert_predictions = distilbert_trainer.predict(train_distilbert_dataset)\n",
    "train_distilbert_preds       = np.argmax(train_distilbert_predictions.predictions, axis=-1)\n",
    "\n",
    "train_distilbert_report      = classification_report(y_train_encoded,\n",
    "                                                     train_distilbert_preds,\n",
    "                                                     target_names=label_map.keys())\n",
    "\n",
    "print(\"Training Report:\")\n",
    "print(train_distilbert_report)"
   ]
  },
  {
   "cell_type": "code",
   "execution_count": 51,
   "metadata": {
    "colab": {
     "base_uri": "https://localhost:8080/",
     "height": 217
    },
    "execution": {
     "iopub.execute_input": "2024-07-08T12:18:31.388326Z",
     "iopub.status.busy": "2024-07-08T12:18:31.387436Z",
     "iopub.status.idle": "2024-07-08T12:18:39.604483Z",
     "shell.execute_reply": "2024-07-08T12:18:39.603529Z",
     "shell.execute_reply.started": "2024-07-08T12:18:31.388291Z"
    },
    "id": "R8tAR6hQU4kJ",
    "outputId": "c368accc-a857-4666-e65e-d025c3da54e9"
   },
   "outputs": [
    {
     "data": {
      "text/html": [],
      "text/plain": [
       "<IPython.core.display.HTML object>"
      ]
     },
     "metadata": {},
     "output_type": "display_data"
    },
    {
     "data": {
      "application/javascript": [
       "\n",
       "        if (window._pyforest_update_imports_cell) { window._pyforest_update_imports_cell('from sklearn.model_selection import train_test_split\\nimport numpy as np\\nimport pandas as pd\\nimport matplotlib.pyplot as plt'); }\n",
       "    "
      ],
      "text/plain": [
       "<IPython.core.display.Javascript object>"
      ]
     },
     "metadata": {},
     "output_type": "display_data"
    },
    {
     "name": "stdout",
     "output_type": "stream",
     "text": [
      "Test Report:\n",
      "              precision    recall  f1-score   support\n",
      "\n",
      "    positive       0.92      0.94      0.93       943\n",
      "    negative       0.94      0.89      0.91       631\n",
      "     neutral       0.95      0.96      0.95      1259\n",
      "\n",
      "    accuracy                           0.94      2833\n",
      "   macro avg       0.94      0.93      0.93      2833\n",
      "weighted avg       0.94      0.94      0.94      2833\n",
      "\n"
     ]
    }
   ],
   "source": [
    "# Evaluasi Data Uji\n",
    "test_distilbert_predictions = distilbert_trainer.predict(test_distilbert_dataset)\n",
    "test_distilbert_preds       = np.argmax(test_distilbert_predictions.predictions, axis=-1)\n",
    "\n",
    "test_distilbert_report      = classification_report(y_test_encoded,\n",
    "                                                    test_distilbert_preds,\n",
    "                                                    target_names=label_map.keys())\n",
    "\n",
    "print(\"Test Report:\")\n",
    "print(test_distilbert_report)"
   ]
  },
  {
   "cell_type": "code",
   "execution_count": 53,
   "metadata": {
    "colab": {
     "base_uri": "https://localhost:8080/",
     "height": 17
    },
    "execution": {
     "iopub.execute_input": "2024-07-08T12:23:04.967569Z",
     "iopub.status.busy": "2024-07-08T12:23:04.967209Z",
     "iopub.status.idle": "2024-07-08T12:23:04.992017Z",
     "shell.execute_reply": "2024-07-08T12:23:04.991108Z",
     "shell.execute_reply.started": "2024-07-08T12:23:04.967537Z"
    },
    "id": "phqkE0RqU4kJ",
    "outputId": "29aa07d6-5c3a-4b7d-b587-4395d0e31cdb"
   },
   "outputs": [
    {
     "data": {
      "application/javascript": [
       "\n",
       "        if (window._pyforest_update_imports_cell) { window._pyforest_update_imports_cell('from sklearn.model_selection import train_test_split\\nimport matplotlib.pyplot as plt\\nimport numpy as np\\nimport pandas as pd\\nimport pickle'); }\n",
       "    "
      ],
      "text/plain": [
       "<IPython.core.display.Javascript object>"
      ]
     },
     "metadata": {},
     "output_type": "display_data"
    }
   ],
   "source": [
    "torch.save(distilbert_tokenizer, '/kaggle/working/distilbert_tokenizer.pth')\n",
    "\n",
    "model_state_dict2 = distilbert_model.state_dict()\n",
    "torch.save(model_state_dict, '/kaggle/working/distilbert_model.pth')\n",
    "\n",
    "optimizer_state_dict2 = distilbert_trainer.optimizer.state_dict()\n",
    "torch.save(optimizer_state_dict2, '/kaggle/working/distilbert_trainer_optimizer.pth')"
   ]
  },
  {
   "cell_type": "code",
   "execution_count": 54,
   "metadata": {
    "colab": {
     "base_uri": "https://localhost:8080/"
    },
    "execution": {
     "iopub.execute_input": "2024-07-08T10:29:04.297426Z",
     "iopub.status.busy": "2024-07-08T10:29:04.296950Z",
     "iopub.status.idle": "2024-07-08T10:29:05.169354Z",
     "shell.execute_reply": "2024-07-08T10:29:05.168298Z",
     "shell.execute_reply.started": "2024-07-08T10:29:04.297390Z"
    },
    "id": "l2hHokMkU4kK",
    "outputId": "9dea9095-9272-4057-cc0f-0f96d001f763"
   },
   "outputs": [
    {
     "data": {
      "text/plain": [
       "30"
      ]
     },
     "execution_count": 54,
     "metadata": {},
     "output_type": "execute_result"
    }
   ],
   "source": [
    "# hapus memori gpu\n",
    "del distilbert_model\n",
    "del distilbert_trainer\n",
    "del train_distilbert_predictions\n",
    "del test_distilbert_predictions\n",
    "del train_distilbert_dataset\n",
    "del test_distilbert_dataset\n",
    "del train_distilbert_encodings\n",
    "del test_distilbert_encodings\n",
    "del train_distilbert_preds\n",
    "del test_distilbert_preds\n",
    "del distilbert_tokenizer\n",
    "\n",
    "K.clear_session()\n",
    "torch.cuda.empty_cache()\n",
    "gc.collect()"
   ]
  },
  {
   "cell_type": "markdown",
   "metadata": {
    "id": "e4H6jyt-U4kK"
   },
   "source": [
    "#### Percobaan Ke-2 dengan TF-IDF dan GRU"
   ]
  },
  {
   "cell_type": "code",
   "execution_count": 56,
   "metadata": {
    "colab": {
     "base_uri": "https://localhost:8080/"
    },
    "execution": {
     "iopub.execute_input": "2024-07-08T12:24:35.421430Z",
     "iopub.status.busy": "2024-07-08T12:24:35.421057Z",
     "iopub.status.idle": "2024-07-08T12:24:35.429043Z",
     "shell.execute_reply": "2024-07-08T12:24:35.427973Z",
     "shell.execute_reply.started": "2024-07-08T12:24:35.421400Z"
    },
    "id": "8bSBI8tcU4kK",
    "outputId": "ce0cb4eb-650a-4a70-caeb-ed4eb1c8a87d"
   },
   "outputs": [
    {
     "data": {
      "text/plain": [
       "(14164, 500)"
      ]
     },
     "execution_count": 56,
     "metadata": {},
     "output_type": "execute_result"
    }
   ],
   "source": [
    "X_tf_idf.shape"
   ]
  },
  {
   "cell_type": "code",
   "execution_count": 57,
   "metadata": {
    "execution": {
     "iopub.execute_input": "2024-07-08T12:24:37.100992Z",
     "iopub.status.busy": "2024-07-08T12:24:37.100295Z",
     "iopub.status.idle": "2024-07-08T12:24:37.114367Z",
     "shell.execute_reply": "2024-07-08T12:24:37.112911Z",
     "shell.execute_reply.started": "2024-07-08T12:24:37.100956Z"
    },
    "id": "VlU1p5P0U4kL"
   },
   "outputs": [],
   "source": [
    "y_encoded = y.map(label_map)\n",
    "\n",
    "X_train_idf, X_test_idf, y_train_idf, y_test_idf = train_test_split(X_tf_idf,\n",
    "                                                                    y_encoded,\n",
    "                                                                    test_size=0.2,\n",
    "                                                                    random_state=42)"
   ]
  },
  {
   "cell_type": "code",
   "execution_count": 58,
   "metadata": {
    "colab": {
     "base_uri": "https://localhost:8080/"
    },
    "execution": {
     "iopub.execute_input": "2024-07-08T12:24:39.452656Z",
     "iopub.status.busy": "2024-07-08T12:24:39.451989Z",
     "iopub.status.idle": "2024-07-08T12:24:39.460211Z",
     "shell.execute_reply": "2024-07-08T12:24:39.458923Z",
     "shell.execute_reply.started": "2024-07-08T12:24:39.452607Z"
    },
    "id": "gEX9K4epU4kL",
    "outputId": "43670e9c-d004-4d18-8ef7-d9e865c26137"
   },
   "outputs": [
    {
     "data": {
      "text/plain": [
       "(11331, 500)"
      ]
     },
     "execution_count": 58,
     "metadata": {},
     "output_type": "execute_result"
    }
   ],
   "source": [
    "X_train_idf.shape"
   ]
  },
  {
   "cell_type": "code",
   "execution_count": 59,
   "metadata": {
    "colab": {
     "base_uri": "https://localhost:8080/"
    },
    "execution": {
     "iopub.execute_input": "2024-07-08T12:24:41.231979Z",
     "iopub.status.busy": "2024-07-08T12:24:41.231567Z",
     "iopub.status.idle": "2024-07-08T12:24:41.239911Z",
     "shell.execute_reply": "2024-07-08T12:24:41.238603Z",
     "shell.execute_reply.started": "2024-07-08T12:24:41.231947Z"
    },
    "id": "6HzxcyUXU4kL",
    "outputId": "2a58fb9f-8841-4b07-87a2-20b201b6aeef"
   },
   "outputs": [
    {
     "data": {
      "text/plain": [
       "(11331,)"
      ]
     },
     "execution_count": 59,
     "metadata": {},
     "output_type": "execute_result"
    }
   ],
   "source": [
    "y_train_idf.shape"
   ]
  },
  {
   "cell_type": "code",
   "execution_count": 60,
   "metadata": {
    "execution": {
     "iopub.execute_input": "2024-07-08T12:24:45.412130Z",
     "iopub.status.busy": "2024-07-08T12:24:45.411494Z",
     "iopub.status.idle": "2024-07-08T12:24:45.488883Z",
     "shell.execute_reply": "2024-07-08T12:24:45.487924Z",
     "shell.execute_reply.started": "2024-07-08T12:24:45.412096Z"
    },
    "id": "YNL2bhJ0U4kL"
   },
   "outputs": [],
   "source": [
    "# siapkan data untuk GRU\n",
    "\n",
    "X_train_idf = X_train_idf.toarray().reshape((X_train_idf.shape[0], X_train_idf.shape[1], 1))\n",
    "X_test_idf  = X_test_idf.toarray().reshape((X_test_idf.shape[0], X_test_idf.shape[1], 1))"
   ]
  },
  {
   "cell_type": "code",
   "execution_count": 61,
   "metadata": {
    "execution": {
     "iopub.execute_input": "2024-07-08T12:24:48.780944Z",
     "iopub.status.busy": "2024-07-08T12:24:48.780534Z",
     "iopub.status.idle": "2024-07-08T12:24:50.249791Z",
     "shell.execute_reply": "2024-07-08T12:24:50.248698Z",
     "shell.execute_reply.started": "2024-07-08T12:24:48.780914Z"
    },
    "id": "OLqi4SprU4kM"
   },
   "outputs": [],
   "source": [
    "gru_model5  = Sequential()\n",
    "gru_model5.add(GRU(units=128, return_sequences=True, input_shape=(X_train_idf.shape[1], 1)))\n",
    "gru_model5.add(Dropout(0.2))\n",
    "gru_model5.add(Flatten())\n",
    "gru_model5.add(Dense(3, activation='softmax'))\n",
    "\n",
    "gru_model5.compile(loss='sparse_categorical_crossentropy', optimizer='adam', metrics=['accuracy'])"
   ]
  },
  {
   "cell_type": "code",
   "execution_count": 62,
   "metadata": {
    "colab": {
     "base_uri": "https://localhost:8080/"
    },
    "execution": {
     "iopub.execute_input": "2024-07-08T12:24:55.242406Z",
     "iopub.status.busy": "2024-07-08T12:24:55.241545Z",
     "iopub.status.idle": "2024-07-08T12:25:50.854648Z",
     "shell.execute_reply": "2024-07-08T12:25:50.853685Z",
     "shell.execute_reply.started": "2024-07-08T12:24:55.242371Z"
    },
    "id": "1ujS5zeVU4kM",
    "outputId": "d672a4e0-71f2-4683-c2df-b5ac89c3114e"
   },
   "outputs": [
    {
     "name": "stdout",
     "output_type": "stream",
     "text": [
      "Epoch 1/5\n",
      "597/597 [==============================] - 17s 20ms/step - loss: 0.7125 - accuracy: 0.6953 - val_loss: 0.5491 - val_accuracy: 0.7956\n",
      "Epoch 2/5\n",
      "597/597 [==============================] - 11s 18ms/step - loss: 0.5104 - accuracy: 0.8140 - val_loss: 0.5287 - val_accuracy: 0.8129\n",
      "Epoch 3/5\n",
      "597/597 [==============================] - 12s 19ms/step - loss: 0.4850 - accuracy: 0.8292 - val_loss: 0.5278 - val_accuracy: 0.8203\n",
      "Epoch 4/5\n",
      "597/597 [==============================] - 11s 19ms/step - loss: 0.4731 - accuracy: 0.8385 - val_loss: 0.5403 - val_accuracy: 0.8207\n",
      "Epoch 5/5\n",
      "597/597 [==============================] - 12s 19ms/step - loss: 0.4604 - accuracy: 0.8445 - val_loss: 0.5247 - val_accuracy: 0.8239\n"
     ]
    }
   ],
   "source": [
    "history5    = gru_model5.fit(X_train_idf,\n",
    "                             y_train_idf,\n",
    "                             epochs=5,\n",
    "                             batch_size=19,\n",
    "                             validation_data=(X_test_idf, y_test_idf))"
   ]
  },
  {
   "cell_type": "code",
   "execution_count": 63,
   "metadata": {
    "colab": {
     "base_uri": "https://localhost:8080/"
    },
    "execution": {
     "iopub.execute_input": "2024-07-08T12:25:55.104484Z",
     "iopub.status.busy": "2024-07-08T12:25:55.103466Z",
     "iopub.status.idle": "2024-07-08T12:25:55.998179Z",
     "shell.execute_reply": "2024-07-08T12:25:55.997195Z",
     "shell.execute_reply.started": "2024-07-08T12:25:55.104440Z"
    },
    "id": "4oHCRatfU4kM",
    "outputId": "e67b33fa-4d7d-4714-870f-0b11a57003b5"
   },
   "outputs": [
    {
     "name": "stdout",
     "output_type": "stream",
     "text": [
      "89/89 [==============================] - 1s 9ms/step - loss: 0.5247 - accuracy: 0.8239\n",
      "Test Accuracy for GRU: 0.824\n"
     ]
    }
   ],
   "source": [
    "# evaluasi\n",
    "gru_loss, gru_acc = gru_model5.evaluate(X_test_idf, y_test_idf)\n",
    "print(f'Test Accuracy for GRU: {gru_acc:.3f}')"
   ]
  },
  {
   "cell_type": "code",
   "execution_count": 64,
   "metadata": {
    "colab": {
     "base_uri": "https://localhost:8080/",
     "height": 235
    },
    "execution": {
     "iopub.execute_input": "2024-07-08T12:25:58.113291Z",
     "iopub.status.busy": "2024-07-08T12:25:58.112925Z",
     "iopub.status.idle": "2024-07-08T12:25:59.124677Z",
     "shell.execute_reply": "2024-07-08T12:25:59.123553Z",
     "shell.execute_reply.started": "2024-07-08T12:25:58.113262Z"
    },
    "id": "UPLUx-6IU4kM",
    "outputId": "d565bd2d-8eb2-4c92-a68a-6c498d0178cc"
   },
   "outputs": [
    {
     "name": "stdout",
     "output_type": "stream",
     "text": [
      "89/89 [==============================] - 1s 8ms/step\n"
     ]
    },
    {
     "data": {
      "application/javascript": [
       "\n",
       "        if (window._pyforest_update_imports_cell) { window._pyforest_update_imports_cell('from sklearn.model_selection import train_test_split\\nimport matplotlib.pyplot as plt\\nimport numpy as np\\nimport pandas as pd\\nimport pickle'); }\n",
       "    "
      ],
      "text/plain": [
       "<IPython.core.display.Javascript object>"
      ]
     },
     "metadata": {},
     "output_type": "display_data"
    },
    {
     "name": "stdout",
     "output_type": "stream",
     "text": [
      "Test Report for GRU:\n",
      "              precision    recall  f1-score   support\n",
      "\n",
      "    positive       0.77      0.80      0.79       943\n",
      "    negative       0.79      0.80      0.79       631\n",
      "     neutral       0.88      0.86      0.87      1259\n",
      "\n",
      "    accuracy                           0.82      2833\n",
      "   macro avg       0.81      0.82      0.82      2833\n",
      "weighted avg       0.83      0.82      0.82      2833\n",
      "\n"
     ]
    }
   ],
   "source": [
    "gru_preds       = gru_model5.predict(X_test_idf)\n",
    "gru_preds_class = np.argmax(gru_preds, axis=1)\n",
    "\n",
    "print(\"Test Report for GRU:\")\n",
    "print(classification_report(y_test_idf, gru_preds_class, target_names=label_map.keys()))"
   ]
  },
  {
   "cell_type": "code",
   "execution_count": 65,
   "metadata": {
    "colab": {
     "base_uri": "https://localhost:8080/",
     "height": 35
    },
    "execution": {
     "iopub.execute_input": "2024-07-08T12:26:06.785169Z",
     "iopub.status.busy": "2024-07-08T12:26:06.784790Z",
     "iopub.status.idle": "2024-07-08T12:26:07.568134Z",
     "shell.execute_reply": "2024-07-08T12:26:07.567163Z",
     "shell.execute_reply.started": "2024-07-08T12:26:06.785139Z"
    },
    "id": "0mXa7xPvU4kM",
    "outputId": "1a06a7ef-fe49-43df-cb43-9fbf5dab8d66"
   },
   "outputs": [
    {
     "data": {
      "application/javascript": [
       "\n",
       "        if (window._pyforest_update_imports_cell) { window._pyforest_update_imports_cell('from sklearn.model_selection import train_test_split\\nimport matplotlib.pyplot as plt\\nimport tensorflow as tf\\nimport numpy as np\\nimport pandas as pd\\nimport pickle'); }\n",
       "    "
      ],
      "text/plain": [
       "<IPython.core.display.Javascript object>"
      ]
     },
     "metadata": {},
     "output_type": "display_data"
    },
    {
     "data": {
      "text/plain": [
       "4998"
      ]
     },
     "execution_count": 65,
     "metadata": {},
     "output_type": "execute_result"
    }
   ],
   "source": [
    "del gru_model5\n",
    "del history5\n",
    "del gru_preds\n",
    "del gru_preds_class\n",
    "del X_train_idf\n",
    "del X_test_idf\n",
    "del y_train_idf\n",
    "del y_test_idf\n",
    "\n",
    "tf.keras.backend.clear_session()\n",
    "gc.collect()"
   ]
  },
  {
   "cell_type": "code",
   "execution_count": 66,
   "metadata": {
    "execution": {
     "iopub.execute_input": "2024-07-08T12:28:32.053098Z",
     "iopub.status.busy": "2024-07-08T12:28:32.052210Z",
     "iopub.status.idle": "2024-07-08T12:28:32.114354Z",
     "shell.execute_reply": "2024-07-08T12:28:32.113346Z",
     "shell.execute_reply.started": "2024-07-08T12:28:32.053063Z"
    },
    "id": "GfWeE3yFU4kN"
   },
   "outputs": [],
   "source": [
    "torch.cuda.empty_cache()"
   ]
  },
  {
   "cell_type": "markdown",
   "metadata": {},
   "source": [
    "#### Percobaan Ke-3 ALBERT"
   ]
  },
  {
   "cell_type": "code",
   "execution_count": null,
   "metadata": {},
   "outputs": [],
   "source": [
    "from transformers import AlbertTokenizer, AlbertForSequenceClassification, Trainer, TrainingArguments\n",
    "\n",
    "# Load the pre-trained tokenizer and model\n",
    "albert_tokenizer = AlbertTokenizer.from_pretrained('albert-xxlarge-v2')\n",
    "albert_model = AlbertForSequenceClassification.from_pretrained('albert-xxlarge-v2', num_labels=3)"
   ]
  },
  {
   "cell_type": "code",
   "execution_count": null,
   "metadata": {},
   "outputs": [],
   "source": [
    "# Define the tokenize function\n",
    "def albert_tokenize_function(examples):\n",
    "    return albert_tokenizer(examples.tolist(), truncation=True, padding=True)\n",
    "\n",
    "# Tokenize the data\n",
    "X_albert = albert_tokenize_function(X_train)\n",
    "y_albert = y_train_encoded.values"
   ]
  },
  {
   "cell_type": "code",
   "execution_count": null,
   "metadata": {},
   "outputs": [],
   "source": [
    "# Create a custom dataset class\n",
    "class AlbertSentimentDataset(torch.utils.data.Dataset):\n",
    "    def __init__(self, encodings, labels):\n",
    "        self.encodings = encodings\n",
    "        self.labels = labels\n",
    "\n",
    "    def __getitem__(self, idx):\n",
    "        item = {key: torch.tensor(val[idx]) for key, val in self.encodings.items()}\n",
    "        item['labels'] = torch.tensor(self.labels[idx])\n",
    "        return item\n",
    "\n",
    "    def __len__(self):\n",
    "        return len(self.labels)"
   ]
  },
  {
   "cell_type": "code",
   "execution_count": null,
   "metadata": {},
   "outputs": [],
   "source": [
    "# Create the dataset instances\n",
    "train_dataset_albert = AlbertSentimentDataset(X_albert, y_albert)\n",
    "test_dataset_albert = AlbertSentimentDataset(albert_tokenize_function(X_test), y_test_encoded.values)"
   ]
  },
  {
   "cell_type": "code",
   "execution_count": null,
   "metadata": {},
   "outputs": [],
   "source": [
    "# Define the training arguments\n",
    "training_args_albert = TrainingArguments(\n",
    "    output_dir='./results_albert',      # Lokasi di mana hasil pelatihan akan disimpan\n",
    "    per_device_train_batch_size=19,      # Ukuran batch pelatihan\n",
    "    per_device_eval_batch_size=19,       # Ukuran batch evaluasi\n",
    "    num_train_epochs=3,                  # Jumlah epochs\n",
    "    logging_dir='./logs_albert',        # Direktori logging\n",
    "    logging_steps=10,                    # Frekuensi logging\n",
    "    evaluation_strategy='epoch',         # Evaluasi pada akhir setiap epoch\n",
    "    save_strategy='epoch'               # Menyimpan model pada akhir setiap epoch\n",
    ")\n",
    "\n",
    "# Create the trainer instance\n",
    "trainer_albert = Trainer(\n",
    "    model=albert_model,\n",
    "    args=training_args_albert,\n",
    "    train_dataset=train_dataset_albert,\n",
    "    eval_dataset=test_dataset_albert\n",
    ")"
   ]
  },
  {
   "cell_type": "code",
   "execution_count": null,
   "metadata": {},
   "outputs": [],
   "source": [
    "trainer_albert.train()"
   ]
  },
  {
   "cell_type": "code",
   "execution_count": null,
   "metadata": {},
   "outputs": [],
   "source": [
    "train_predictions_albert = trainer_albert.predict(train_dataset_albert)\n",
    "train_preds_albert = np.argmax(train_predictions_albert.predictions, axis=-1)\n",
    "train_report_albert = classification_report(y_train_encoded, train_preds_albert, target_names=label_map.keys())\n",
    "\n",
    "print(\"Training Report for ALBERT:\")\n",
    "print(train_report_albert)"
   ]
  },
  {
   "cell_type": "code",
   "execution_count": null,
   "metadata": {},
   "outputs": [],
   "source": [
    "test_predictions_albert = trainer_albert.predict(test_dataset_albert)\n",
    "test_preds_albert = np.argmax(test_predictions_albert.predictions, axis=-1)\n",
    "test_report_albert = classification_report(y_test_encoded, test_preds_albert, target_names=label_map.keys())\n",
    "\n",
    "print(\"Test Report for ALBERT:\")\n",
    "print(test_report_albert)"
   ]
  },
  {
   "cell_type": "code",
   "execution_count": null,
   "metadata": {},
   "outputs": [],
   "source": []
  },
  {
   "cell_type": "code",
   "execution_count": null,
   "metadata": {},
   "outputs": [],
   "source": []
  },
  {
   "cell_type": "code",
   "execution_count": null,
   "metadata": {},
   "outputs": [],
   "source": []
  },
  {
   "cell_type": "markdown",
   "metadata": {
    "id": "9UQxwPZkU4kN"
   },
   "source": [
    "#### Percobaan ke-3 RoBERTa"
   ]
  },
  {
   "cell_type": "code",
   "execution_count": 67,
   "metadata": {
    "colab": {
     "base_uri": "https://localhost:8080/",
     "height": 177,
     "referenced_widgets": [
      "62a86f814c1d4e27aa49eba81f48c61b",
      "f737fd4951cb49d683d13d79912708ef",
      "15ee1f1e485b411b9e6f1dbc38128496",
      "e780005794384f24bf4bf3db151bdf02",
      "a0f7ba69c3b94300bdbbaa1e7fd54925",
      "488cf115ffa349e28e39f6cf3f82f862",
      "42d07910c25843e888084fd027b073b5",
      "85d9d1c3666b45ef8a7919c9482db884",
      "c2e24252c250462a93199745f1f8c1f6",
      "4f2d60a1553940399117af568d4c2287",
      "74b14093825944eaa5b78f890078b549",
      "412cfb509a3a454198e8efc0e8548ba3",
      "58ab7c25aa9a436781ba2046c9078751",
      "b2059dc98680419d8ea6aa46a82f3973",
      "05d8438f577b40e0b5dece118ed6717b",
      "08d0db1124da4482b0f83e9719c95681",
      "2bcaf316e4ed4aaa87a886b82b992dff",
      "bc80962dcc2145f0b9045a25db5d2388",
      "e87ea3d90f8448c8aa352821b6a39bf6",
      "549ede54aae84bfeb9b6e91b02f4e05a",
      "aff64d4354a94ffcae26b6a11c00d66f",
      "6e5352eb42704b33afda792932c2c28c",
      "223ed8e57bf24c88b7c08b4a8feb54d7",
      "8d572ab25994479eb8479024c9bafe88",
      "f5775be9c139494587fa81a0ce8a0975",
      "df29560e808a4ca19ac7d38603e9c198",
      "1973711605e14c32a39a64323919e52e",
      "a59dd832141b4a5486881e4bc8f19247",
      "ed0126d7c5114ae3a79d4ff6d789b43f",
      "9e608ffc047242569668657aebf4a396",
      "0e7af692cc644655a9cf098198957d6c",
      "1de76c53a8984a1d91d6084fbf8e683e",
      "56072daab6484accb1feee4629ab18a2",
      "33163577af9c4a61a34afc0539975575",
      "6d8a5802f988493a87e8a0eccb900a76",
      "7cb04d65a6b64b18a6753611948abb33",
      "4427933d5e624bf5907409670730c2e3",
      "60c1093e68444d38a870ecd09e364307",
      "844b43d0eb574349b5ec5f687e9dd1bf",
      "da80045ed52c493081fee59dea3566c4",
      "bce4d0364c8940129b8b088152a58072",
      "51e7efe8ef3e4946afd0103f183a0061",
      "fd33574f65354fffaa35840b6a72ce96",
      "414a6a647ebd43db8c3dda80639c64f9",
      "515b4167a9cd418e97914eee037be051",
      "3ae5a9ff8f4f40fa92c348b400988329",
      "c06a1d2e818e4c76bdf8731102aa681b",
      "0a9964cae480489299ad2da12ab654b4",
      "29b548f75f71408fb89c94443109720d",
      "be2cd7ad519245e29d52882919a5c752",
      "dddcb90d7bed4f5194af3bc30894300c",
      "bb4389bb55a44aeba458c6e116af35be",
      "72a82114c6264e18ac5350525818ad4d",
      "c796ec71e7f34e2d98683646d87a568f",
      "e6b385c275164230bdf427e3879fee4b"
     ]
    },
    "execution": {
     "iopub.execute_input": "2024-07-08T12:26:37.242470Z",
     "iopub.status.busy": "2024-07-08T12:26:37.241359Z",
     "iopub.status.idle": "2024-07-08T12:26:38.625993Z",
     "shell.execute_reply": "2024-07-08T12:26:38.624831Z",
     "shell.execute_reply.started": "2024-07-08T12:26:37.242436Z"
    },
    "id": "mgRr5ed-U4kN",
    "outputId": "7ca18e5b-4ffa-465c-8c32-0d7fef4de6f4"
   },
   "outputs": [
    {
     "data": {
      "application/vnd.jupyter.widget-view+json": {
       "model_id": "62a86f814c1d4e27aa49eba81f48c61b",
       "version_major": 2,
       "version_minor": 0
      },
      "text/plain": [
       "tokenizer_config.json:   0%|          | 0.00/25.0 [00:00<?, ?B/s]"
      ]
     },
     "metadata": {},
     "output_type": "display_data"
    },
    {
     "data": {
      "application/vnd.jupyter.widget-view+json": {
       "model_id": "412cfb509a3a454198e8efc0e8548ba3",
       "version_major": 2,
       "version_minor": 0
      },
      "text/plain": [
       "vocab.json:   0%|          | 0.00/899k [00:00<?, ?B/s]"
      ]
     },
     "metadata": {},
     "output_type": "display_data"
    },
    {
     "data": {
      "application/vnd.jupyter.widget-view+json": {
       "model_id": "223ed8e57bf24c88b7c08b4a8feb54d7",
       "version_major": 2,
       "version_minor": 0
      },
      "text/plain": [
       "merges.txt:   0%|          | 0.00/456k [00:00<?, ?B/s]"
      ]
     },
     "metadata": {},
     "output_type": "display_data"
    },
    {
     "data": {
      "application/vnd.jupyter.widget-view+json": {
       "model_id": "33163577af9c4a61a34afc0539975575",
       "version_major": 2,
       "version_minor": 0
      },
      "text/plain": [
       "tokenizer.json:   0%|          | 0.00/1.36M [00:00<?, ?B/s]"
      ]
     },
     "metadata": {},
     "output_type": "display_data"
    },
    {
     "data": {
      "application/vnd.jupyter.widget-view+json": {
       "model_id": "515b4167a9cd418e97914eee037be051",
       "version_major": 2,
       "version_minor": 0
      },
      "text/plain": [
       "config.json:   0%|          | 0.00/481 [00:00<?, ?B/s]"
      ]
     },
     "metadata": {},
     "output_type": "display_data"
    }
   ],
   "source": [
    "# roberta_tokenizer = RobertaTokenizer.from_pretrained('roberta-base')"
   ]
  },
  {
   "cell_type": "code",
   "execution_count": 68,
   "metadata": {
    "execution": {
     "iopub.execute_input": "2024-07-08T12:26:41.192670Z",
     "iopub.status.busy": "2024-07-08T12:26:41.192036Z",
     "iopub.status.idle": "2024-07-08T12:26:41.199885Z",
     "shell.execute_reply": "2024-07-08T12:26:41.199016Z",
     "shell.execute_reply.started": "2024-07-08T12:26:41.192633Z"
    },
    "id": "Vz3yZKFeU4kN"
   },
   "outputs": [],
   "source": [
    "# def roberta_tokenize_function(examples):\n",
    "#     return roberta_tokenizer(examples.tolist(), truncation=True, padding=True)"
   ]
  },
  {
   "cell_type": "code",
   "execution_count": 69,
   "metadata": {
    "execution": {
     "iopub.execute_input": "2024-07-08T12:26:49.593182Z",
     "iopub.status.busy": "2024-07-08T12:26:49.592805Z",
     "iopub.status.idle": "2024-07-08T12:26:53.103298Z",
     "shell.execute_reply": "2024-07-08T12:26:53.102151Z",
     "shell.execute_reply.started": "2024-07-08T12:26:49.593151Z"
    },
    "id": "8UguHErTU4kN"
   },
   "outputs": [],
   "source": [
    "# train_encodings_roberta = roberta_tokenize_function(X_train)\n",
    "# test_encodings_roberta  = roberta_tokenize_function(X_test)"
   ]
  },
  {
   "cell_type": "code",
   "execution_count": 70,
   "metadata": {
    "execution": {
     "iopub.execute_input": "2024-07-08T12:26:54.883503Z",
     "iopub.status.busy": "2024-07-08T12:26:54.883129Z",
     "iopub.status.idle": "2024-07-08T12:26:54.891678Z",
     "shell.execute_reply": "2024-07-08T12:26:54.890644Z",
     "shell.execute_reply.started": "2024-07-08T12:26:54.883470Z"
    },
    "id": "fbY9tfGgU4kN"
   },
   "outputs": [],
   "source": [
    "# class RobertaSentimentDataset(torch.utils.data.Dataset):\n",
    "    \n",
    "#     def __init__(self, encodings, labels):\n",
    "#         self.encodings  = encodings\n",
    "#         self.labels     = labels\n",
    "\n",
    "#     def __getitem__(self, idx):\n",
    "#         item            = {key: torch.tensor(val[idx]) for key, val in self.encodings.items()}\n",
    "#         item['labels']  = torch.tensor(self.labels[idx])\n",
    "#         return item\n",
    "\n",
    "#     def __len__(self):\n",
    "#         return len(self.labels)"
   ]
  },
  {
   "cell_type": "code",
   "execution_count": 71,
   "metadata": {
    "execution": {
     "iopub.execute_input": "2024-07-08T12:26:58.482163Z",
     "iopub.status.busy": "2024-07-08T12:26:58.481787Z",
     "iopub.status.idle": "2024-07-08T12:26:58.488856Z",
     "shell.execute_reply": "2024-07-08T12:26:58.487785Z",
     "shell.execute_reply.started": "2024-07-08T12:26:58.482132Z"
    },
    "id": "1SlV5YNFU4kN"
   },
   "outputs": [],
   "source": [
    "# train_dataset_roberta = RobertaSentimentDataset(train_encodings_roberta, y_train_encoded.values)\n",
    "# test_dataset_roberta  = RobertaSentimentDataset(test_encodings_roberta, y_test_encoded.values)"
   ]
  },
  {
   "cell_type": "code",
   "execution_count": 72,
   "metadata": {
    "colab": {
     "base_uri": "https://localhost:8080/",
     "height": 105,
     "referenced_widgets": [
      "33a62c09efd34a4c8066ec3f00450173",
      "9fd25ed61469415aa2e3012bb9646f91",
      "d0eeab89dadb482b825eccdd0b848bb9",
      "4667ecac6eab49eb86bb63272fecec43",
      "b006be614c90462387624505135480fc",
      "34b3c097a0894da280bfb4014e1fce13",
      "ae388253aef24419b6b1c5c048646ffe",
      "ce568adf1a0b47788b43eec4b93a37ec",
      "41577d5646af4009b0d4787e3c0122ef",
      "00d292705da3447b8a5e045a5a17de7c",
      "8cb11246b4834356bd7dce52f5c673e9"
     ]
    },
    "execution": {
     "iopub.execute_input": "2024-07-08T12:27:01.005353Z",
     "iopub.status.busy": "2024-07-08T12:27:01.005017Z",
     "iopub.status.idle": "2024-07-08T12:27:03.283591Z",
     "shell.execute_reply": "2024-07-08T12:27:03.282666Z",
     "shell.execute_reply.started": "2024-07-08T12:27:01.005327Z"
    },
    "id": "sfGzi4KiU4kN",
    "outputId": "92521354-f000-4476-8a7e-002addf61302"
   },
   "outputs": [
    {
     "data": {
      "application/vnd.jupyter.widget-view+json": {
       "model_id": "33a62c09efd34a4c8066ec3f00450173",
       "version_major": 2,
       "version_minor": 0
      },
      "text/plain": [
       "model.safetensors:   0%|          | 0.00/499M [00:00<?, ?B/s]"
      ]
     },
     "metadata": {},
     "output_type": "display_data"
    },
    {
     "name": "stderr",
     "output_type": "stream",
     "text": [
      "Some weights of RobertaForSequenceClassification were not initialized from the model checkpoint at roberta-base and are newly initialized: ['classifier.dense.bias', 'classifier.dense.weight', 'classifier.out_proj.bias', 'classifier.out_proj.weight']\n",
      "You should probably TRAIN this model on a down-stream task to be able to use it for predictions and inference.\n"
     ]
    }
   ],
   "source": [
    "# # roberta-base-openai-detector\n",
    "# roberta_model         = RobertaForSequenceClassification.from_pretrained('roberta-base',\n",
    "#                                                                          num_labels=3)"
   ]
  },
  {
   "cell_type": "code",
   "execution_count": 73,
   "metadata": {
    "execution": {
     "iopub.execute_input": "2024-07-08T12:27:07.306982Z",
     "iopub.status.busy": "2024-07-08T12:27:07.306619Z",
     "iopub.status.idle": "2024-07-08T12:27:07.480907Z",
     "shell.execute_reply": "2024-07-08T12:27:07.479821Z",
     "shell.execute_reply.started": "2024-07-08T12:27:07.306954Z"
    },
    "id": "wXu142XVU4kO"
   },
   "outputs": [],
   "source": [
    "# training_args_roberta = TrainingArguments(output_dir='./results_roberta',\n",
    "#                                           per_device_train_batch_size=21,\n",
    "#                                           per_device_eval_batch_size=21, \n",
    "#                                           num_train_epochs=3,\n",
    "#                                           logging_dir='./logs_roberta',\n",
    "#                                           logging_steps=10,\n",
    "#                                           evaluation_strategy='epoch',\n",
    "#                                           save_strategy='epoch')\n",
    "\n",
    "# trainer_roberta = Trainer(model = roberta_model,\n",
    "#                           args  = training_args_roberta,\n",
    "#                           train_dataset = train_dataset_roberta,\n",
    "#                           eval_dataset  = test_dataset_roberta)"
   ]
  },
  {
   "cell_type": "code",
   "execution_count": 74,
   "metadata": {
    "colab": {
     "base_uri": "https://localhost:8080/",
     "height": 206
    },
    "execution": {
     "iopub.execute_input": "2024-07-08T12:29:18.678622Z",
     "iopub.status.busy": "2024-07-08T12:29:18.677846Z",
     "iopub.status.idle": "2024-07-08T12:29:19.949560Z",
     "shell.execute_reply": "2024-07-08T12:29:19.947825Z",
     "shell.execute_reply.started": "2024-07-08T12:29:18.678570Z"
    },
    "id": "A7mnwNv_U4kO",
    "outputId": "0df03bd1-619f-450a-c2ab-279858bc3319"
   },
   "outputs": [
    {
     "data": {
      "text/html": [
       "\n",
       "    <div>\n",
       "      \n",
       "      <progress value='1620' max='1620' style='width:300px; height:20px; vertical-align: middle;'></progress>\n",
       "      [1620/1620 17:33, Epoch 3/3]\n",
       "    </div>\n",
       "    <table border=\"1\" class=\"dataframe\">\n",
       "  <thead>\n",
       " <tr style=\"text-align: left;\">\n",
       "      <th>Epoch</th>\n",
       "      <th>Training Loss</th>\n",
       "      <th>Validation Loss</th>\n",
       "    </tr>\n",
       "  </thead>\n",
       "  <tbody>\n",
       "    <tr>\n",
       "      <td>1</td>\n",
       "      <td>0.528400</td>\n",
       "      <td>0.421994</td>\n",
       "    </tr>\n",
       "    <tr>\n",
       "      <td>2</td>\n",
       "      <td>0.279300</td>\n",
       "      <td>0.292601</td>\n",
       "    </tr>\n",
       "    <tr>\n",
       "      <td>3</td>\n",
       "      <td>0.127800</td>\n",
       "      <td>0.276381</td>\n",
       "    </tr>\n",
       "  </tbody>\n",
       "</table><p>"
      ],
      "text/plain": [
       "<IPython.core.display.HTML object>"
      ]
     },
     "metadata": {},
     "output_type": "display_data"
    },
    {
     "data": {
      "text/plain": [
       "TrainOutput(global_step=1620, training_loss=0.3763484098661093, metrics={'train_runtime': 1054.4534, 'train_samples_per_second': 32.238, 'train_steps_per_second': 1.536, 'total_flos': 3022098618607866.0, 'train_loss': 0.3763484098661093, 'epoch': 3.0})"
      ]
     },
     "execution_count": 74,
     "metadata": {},
     "output_type": "execute_result"
    }
   ],
   "source": [
    "# trainer_roberta.train()"
   ]
  },
  {
   "cell_type": "code",
   "execution_count": 75,
   "metadata": {
    "colab": {
     "base_uri": "https://localhost:8080/",
     "height": 217
    },
    "execution": {
     "iopub.status.busy": "2024-07-08T10:30:01.460113Z",
     "iopub.status.idle": "2024-07-08T10:30:01.460485Z",
     "shell.execute_reply": "2024-07-08T10:30:01.460322Z",
     "shell.execute_reply.started": "2024-07-08T10:30:01.460307Z"
    },
    "id": "pXeM-MZZU4kO",
    "outputId": "353ff2ef-e515-4a9c-e86d-40f481a61add"
   },
   "outputs": [
    {
     "data": {
      "text/html": [],
      "text/plain": [
       "<IPython.core.display.HTML object>"
      ]
     },
     "metadata": {},
     "output_type": "display_data"
    },
    {
     "data": {
      "application/javascript": [
       "\n",
       "        if (window._pyforest_update_imports_cell) { window._pyforest_update_imports_cell('from sklearn.model_selection import train_test_split\\nimport matplotlib.pyplot as plt\\nimport tensorflow as tf\\nimport numpy as np\\nimport pandas as pd\\nimport pickle'); }\n",
       "    "
      ],
      "text/plain": [
       "<IPython.core.display.Javascript object>"
      ]
     },
     "metadata": {},
     "output_type": "display_data"
    },
    {
     "name": "stdout",
     "output_type": "stream",
     "text": [
      "Training Report for RoBERTa:\n",
      "              precision    recall  f1-score   support\n",
      "\n",
      "    positive       0.94      0.98      0.96      3673\n",
      "    negative       0.96      0.91      0.93      2593\n",
      "     neutral       0.97      0.97      0.97      5065\n",
      "\n",
      "    accuracy                           0.96     11331\n",
      "   macro avg       0.96      0.95      0.95     11331\n",
      "weighted avg       0.96      0.96      0.96     11331\n",
      "\n"
     ]
    }
   ],
   "source": [
    "# train_predictions_roberta = trainer_roberta.predict(train_dataset_roberta)\n",
    "# train_preds_roberta       = np.argmax(train_predictions_roberta.predictions, axis=-1)\n",
    "# train_report_roberta      = classification_report(y_train_encoded, train_preds_roberta, target_names=label_map.keys())\n",
    "\n",
    "# print(\"Training Report for RoBERTa:\")\n",
    "# print(train_report_roberta)"
   ]
  },
  {
   "cell_type": "code",
   "execution_count": 76,
   "metadata": {
    "colab": {
     "base_uri": "https://localhost:8080/",
     "height": 217
    },
    "execution": {
     "iopub.status.busy": "2024-07-08T10:30:01.461715Z",
     "iopub.status.idle": "2024-07-08T10:30:01.462090Z",
     "shell.execute_reply": "2024-07-08T10:30:01.461933Z",
     "shell.execute_reply.started": "2024-07-08T10:30:01.461918Z"
    },
    "id": "N9RKEhvXU4kO",
    "outputId": "ee546c60-1efb-45f9-d31e-b458aca2ea4f"
   },
   "outputs": [
    {
     "data": {
      "text/html": [],
      "text/plain": [
       "<IPython.core.display.HTML object>"
      ]
     },
     "metadata": {},
     "output_type": "display_data"
    },
    {
     "data": {
      "application/javascript": [
       "\n",
       "        if (window._pyforest_update_imports_cell) { window._pyforest_update_imports_cell('from sklearn.model_selection import train_test_split\\nimport matplotlib.pyplot as plt\\nimport tensorflow as tf\\nimport numpy as np\\nimport pandas as pd\\nimport pickle'); }\n",
       "    "
      ],
      "text/plain": [
       "<IPython.core.display.Javascript object>"
      ]
     },
     "metadata": {},
     "output_type": "display_data"
    },
    {
     "name": "stdout",
     "output_type": "stream",
     "text": [
      "Test Report for RoBERTa:\n",
      "              precision    recall  f1-score   support\n",
      "\n",
      "    positive       0.88      0.94      0.91       943\n",
      "    negative       0.92      0.86      0.89       631\n",
      "     neutral       0.95      0.93      0.94      1259\n",
      "\n",
      "    accuracy                           0.92      2833\n",
      "   macro avg       0.92      0.91      0.91      2833\n",
      "weighted avg       0.92      0.92      0.92      2833\n",
      "\n"
     ]
    }
   ],
   "source": [
    "# test_predictions_roberta = trainer_roberta.predict(test_dataset_roberta)\n",
    "# test_preds_roberta       = np.argmax(test_predictions_roberta.predictions, axis=-1)\n",
    "# test_report_roberta      = classification_report(y_test_encoded, test_preds_roberta, target_names=label_map.keys())\n",
    "\n",
    "# print(\"Test Report for RoBERTa:\")\n",
    "# print(test_report_roberta)"
   ]
  },
  {
   "cell_type": "code",
   "execution_count": 77,
   "metadata": {
    "colab": {
     "base_uri": "https://localhost:8080/"
    },
    "execution": {
     "iopub.status.busy": "2024-07-08T10:30:01.465862Z",
     "iopub.status.idle": "2024-07-08T10:30:01.466170Z",
     "shell.execute_reply": "2024-07-08T10:30:01.466030Z",
     "shell.execute_reply.started": "2024-07-08T10:30:01.466017Z"
    },
    "id": "INDhZJKqU4kP",
    "outputId": "66e787bc-1b3e-4fda-fbe3-17d6f9217e25"
   },
   "outputs": [
    {
     "data": {
      "text/plain": [
       "33"
      ]
     },
     "execution_count": 77,
     "metadata": {},
     "output_type": "execute_result"
    }
   ],
   "source": [
    "del roberta_model\n",
    "del roberta_tokenizer\n",
    "del trainer_roberta\n",
    "del train_predictions_roberta\n",
    "del test_predictions_roberta\n",
    "del train_dataset_roberta\n",
    "del test_dataset_roberta\n",
    "del train_encodings_roberta\n",
    "del test_encodings_roberta\n",
    "del train_preds_roberta\n",
    "del test_preds_roberta\n",
    "\n",
    "torch.cuda.empty_cache()\n",
    "gc.collect()"
   ]
  },
  {
   "cell_type": "markdown",
   "metadata": {
    "id": "zC8h16xtU4kP"
   },
   "source": [
    "#### Percobaan ke-4 Menggunakan Algoritma Pelatihan dari HuggingFace yaitu 'twitter-roberta-base-sentiment'"
   ]
  },
  {
   "cell_type": "code",
   "execution_count": 78,
   "metadata": {
    "colab": {
     "base_uri": "https://localhost:8080/",
     "height": 177,
     "referenced_widgets": [
      "7bebef83ab354d739f5c50cf4485fc13",
      "e70c35c4506f4ba98f60dc1accf87a74",
      "33be06ee718a4d6b8364925542d799ab",
      "2f7dda443c1b4fa68d60edd6d77e419a",
      "14d293c7cd8c48c88f4420282b0497dd",
      "02f0c4cfb1ef4ba1ae93e97a50dd8ea2",
      "fc3f2d6035cb40c8a5a5f3cd50a7cffb",
      "8d688536f04148e987ced87947979103",
      "7b40275c3f78413baf928c6255088b66",
      "6c7efe3ccdce4a90aa7b08f90ae20105",
      "cf5d1f0f82434135a5b220ea62db4b30",
      "4c08973cabd34e3cb1d401f1cfdf5aa6",
      "f5c26665262f4aa9b6945fc02b2b02a1",
      "c2e7dd12917046e189356196838d6fae",
      "13e2c0326dae4718b2a61ac19385a110",
      "cd4a6c3ef4e5430d9ebb394aefe804ff",
      "4c935395bbbe444b81e1b07963700803",
      "b8bb04634f804a4fa9a7076ab8031b81",
      "b936c5d418484f5a98a6a9356d2d580b",
      "a8b96e0989d14f9a9a82b9670eaf58a5",
      "17fc79653f5b4358a7cb1dca09cdf6bb",
      "580adaa7b1ae47b79e82cd738eafd66e",
      "059283735ac64e85a502aa5419ce60b0",
      "6117e8112720475698ced1297cd738ef",
      "e663db3b311244fa8386a40eebb4d471",
      "6e73416268124e60b22bcf56bbb78505",
      "07ffbf6ef46d41c68e15e6f14122bb05",
      "d51fc0a242ab48ebb359dbd4497551da",
      "9b83045535c046e3844cf5011f44510c",
      "31c8ed73ab9448caaeb6adb1be1e18df",
      "4391473ac10a418db4170b3ea612d6a1",
      "f0e47b3228ee48a4a321c449c80adc93",
      "5afcf5aa63eb4e2597009d8e65b1f6e2",
      "0e593e22837a47359b9e14918012d4f5",
      "558ceea9e97f4985be0b1bac59f6c012",
      "d35a2ca25c0f45cba1604eed6e699a08",
      "b0c2976bf0584baf842d53438b9cbc9f",
      "60e61b581d04421688e964ad0899feb0",
      "b4f8f5ded89240bc815bcc3fa6f8ad43",
      "b76bcd7c7ac44afda1bd932f5fd9f29c",
      "fe98f1d0f6c04361823e7c57d7c818d7",
      "0c3e6a4dcfd04624af4051fb1ad0955f",
      "89f1cf9bb4924db980fb8352124d14b2",
      "d076dc5ede304ae987501a24c681b0a6",
      "75e043ac1d3e4d1b9d62f3a63d81ff7f",
      "596ba64234744ae19d3c1c4877ed1d97",
      "25374bd4558a45aa8e73b4856718f052",
      "a1b254ff499b409bb36b70bf590f773e",
      "bccde91d93b446d1a6186a5a5e5fda8c",
      "acc0d1978c754616b502e74581ad8b3c",
      "02ce7fc85b3349748ffdaef784df93ec",
      "9a6b2d006e004448a66c764cabf7bfae",
      "b54a8b1c7b0244bc96a6d7f2cdf6e794",
      "a8db490de088418593593d5ad01e3e21",
      "46f9de1f8af94ab8a920296675575397"
     ]
    },
    "execution": {
     "iopub.status.busy": "2024-07-08T10:30:01.467196Z",
     "iopub.status.idle": "2024-07-08T10:30:01.467559Z",
     "shell.execute_reply": "2024-07-08T10:30:01.467404Z",
     "shell.execute_reply.started": "2024-07-08T10:30:01.467389Z"
    },
    "id": "JsjQar5rU4kQ",
    "outputId": "08f726b8-6928-48c2-bcc8-67e25ebe7cb6"
   },
   "outputs": [
    {
     "data": {
      "application/vnd.jupyter.widget-view+json": {
       "model_id": "7bebef83ab354d739f5c50cf4485fc13",
       "version_major": 2,
       "version_minor": 0
      },
      "text/plain": [
       "config.json:   0%|          | 0.00/747 [00:00<?, ?B/s]"
      ]
     },
     "metadata": {},
     "output_type": "display_data"
    },
    {
     "data": {
      "application/vnd.jupyter.widget-view+json": {
       "model_id": "4c08973cabd34e3cb1d401f1cfdf5aa6",
       "version_major": 2,
       "version_minor": 0
      },
      "text/plain": [
       "vocab.json:   0%|          | 0.00/899k [00:00<?, ?B/s]"
      ]
     },
     "metadata": {},
     "output_type": "display_data"
    },
    {
     "data": {
      "application/vnd.jupyter.widget-view+json": {
       "model_id": "059283735ac64e85a502aa5419ce60b0",
       "version_major": 2,
       "version_minor": 0
      },
      "text/plain": [
       "merges.txt:   0%|          | 0.00/456k [00:00<?, ?B/s]"
      ]
     },
     "metadata": {},
     "output_type": "display_data"
    },
    {
     "data": {
      "application/vnd.jupyter.widget-view+json": {
       "model_id": "0e593e22837a47359b9e14918012d4f5",
       "version_major": 2,
       "version_minor": 0
      },
      "text/plain": [
       "special_tokens_map.json:   0%|          | 0.00/150 [00:00<?, ?B/s]"
      ]
     },
     "metadata": {},
     "output_type": "display_data"
    },
    {
     "data": {
      "application/vnd.jupyter.widget-view+json": {
       "model_id": "75e043ac1d3e4d1b9d62f3a63d81ff7f",
       "version_major": 2,
       "version_minor": 0
      },
      "text/plain": [
       "pytorch_model.bin:   0%|          | 0.00/499M [00:00<?, ?B/s]"
      ]
     },
     "metadata": {},
     "output_type": "display_data"
    }
   ],
   "source": [
    "twitter_roberta_tokenizer = AutoTokenizer.from_pretrained('cardiffnlp/twitter-roberta-base-sentiment')\n",
    "twitter_roberta_model     = AutoModelForSequenceClassification.from_pretrained('cardiffnlp/twitter-roberta-base-sentiment',\n",
    "                                                                               num_labels=3)"
   ]
  },
  {
   "cell_type": "code",
   "execution_count": 79,
   "metadata": {
    "colab": {
     "base_uri": "https://localhost:8080/"
    },
    "execution": {
     "iopub.status.busy": "2024-07-08T10:30:01.468894Z",
     "iopub.status.idle": "2024-07-08T10:30:01.469194Z",
     "shell.execute_reply": "2024-07-08T10:30:01.469056Z",
     "shell.execute_reply.started": "2024-07-08T10:30:01.469044Z"
    },
    "id": "M-8Y2fjuU4kQ",
    "outputId": "f1ffe01d-5873-4570-cc06-94d88b09815a"
   },
   "outputs": [
    {
     "name": "stderr",
     "output_type": "stream",
     "text": [
      "Asking to truncate to max_length but no maximum length is provided and the model has no predefined maximum length. Default to no truncation.\n"
     ]
    }
   ],
   "source": [
    "def twitter_roberta_tokenize_function(examples):\n",
    "    return twitter_roberta_tokenizer(examples.tolist(), truncation=True, padding=True)\n",
    "\n",
    "X_twitter_roberta = twitter_roberta_tokenize_function(X_train)\n",
    "y_twitter_roberta = y_train_encoded.values"
   ]
  },
  {
   "cell_type": "code",
   "execution_count": 80,
   "metadata": {
    "execution": {
     "iopub.status.busy": "2024-07-08T10:30:01.470311Z",
     "iopub.status.idle": "2024-07-08T10:30:01.470667Z",
     "shell.execute_reply": "2024-07-08T10:30:01.470491Z",
     "shell.execute_reply.started": "2024-07-08T10:30:01.470477Z"
    },
    "id": "zmF6RGEsU4kQ"
   },
   "outputs": [],
   "source": [
    "class TwitterRobertaSentimentDataset(torch.utils.data.Dataset):\n",
    "    \n",
    "    def __init__(self, encodings, labels):\n",
    "        self.encodings  = encodings\n",
    "        self.labels     = labels\n",
    "\n",
    "    def __getitem__(self, idx):\n",
    "        item            = {key: torch.tensor(val[idx]) for key, val in self.encodings.items()}\n",
    "        item['labels']  = torch.tensor(self.labels[idx])\n",
    "        return item\n",
    "\n",
    "    def __len__(self):\n",
    "        return len(self.labels)"
   ]
  },
  {
   "cell_type": "code",
   "execution_count": 81,
   "metadata": {
    "execution": {
     "iopub.status.busy": "2024-07-08T10:30:01.472860Z",
     "iopub.status.idle": "2024-07-08T10:30:01.473338Z",
     "shell.execute_reply": "2024-07-08T10:30:01.473091Z",
     "shell.execute_reply.started": "2024-07-08T10:30:01.473072Z"
    },
    "id": "VRGPAnTVU4kR"
   },
   "outputs": [],
   "source": [
    "train_dataset_twitter_roberta = TwitterRobertaSentimentDataset(X_twitter_roberta, y_twitter_roberta)\n",
    "test_dataset_twitter_roberta  = TwitterRobertaSentimentDataset(twitter_roberta_tokenize_function(X_test),\n",
    "                                                               y_test_encoded.values)"
   ]
  },
  {
   "cell_type": "code",
   "execution_count": 82,
   "metadata": {
    "execution": {
     "iopub.status.busy": "2024-07-08T10:30:01.474772Z",
     "iopub.status.idle": "2024-07-08T10:30:01.475291Z",
     "shell.execute_reply": "2024-07-08T10:30:01.475008Z",
     "shell.execute_reply.started": "2024-07-08T10:30:01.474987Z"
    },
    "id": "UKLU_0tRU4kR"
   },
   "outputs": [],
   "source": [
    "training_args_twitter_roberta = TrainingArguments(output_dir='./results_twitter_roberta',\n",
    "                                                  per_device_train_batch_size=18,\n",
    "                                                  per_device_eval_batch_size=18,\n",
    "                                                  num_train_epochs=3,\n",
    "                                                  logging_dir='./logs_twitter_roberta',\n",
    "                                                  logging_steps=10,\n",
    "                                                  evaluation_strategy='epoch',\n",
    "                                                  save_strategy='epoch')\n",
    "\n",
    "trainer_twitter_roberta = Trainer(model = twitter_roberta_model,\n",
    "                                  args  = training_args_twitter_roberta,\n",
    "                                  train_dataset = train_dataset_twitter_roberta,\n",
    "                                  eval_dataset  = test_dataset_twitter_roberta)"
   ]
  },
  {
   "cell_type": "code",
   "execution_count": 83,
   "metadata": {
    "colab": {
     "base_uri": "https://localhost:8080/",
     "height": 206
    },
    "execution": {
     "iopub.status.busy": "2024-07-08T10:30:01.476564Z",
     "iopub.status.idle": "2024-07-08T10:30:01.477032Z",
     "shell.execute_reply": "2024-07-08T10:30:01.476802Z",
     "shell.execute_reply.started": "2024-07-08T10:30:01.476783Z"
    },
    "id": "Os5UN9swU4kR",
    "outputId": "1a684665-1b47-4e84-99d7-e5ba671d5085"
   },
   "outputs": [
    {
     "data": {
      "text/html": [
       "\n",
       "    <div>\n",
       "      \n",
       "      <progress value='1890' max='1890' style='width:300px; height:20px; vertical-align: middle;'></progress>\n",
       "      [1890/1890 17:40, Epoch 3/3]\n",
       "    </div>\n",
       "    <table border=\"1\" class=\"dataframe\">\n",
       "  <thead>\n",
       " <tr style=\"text-align: left;\">\n",
       "      <th>Epoch</th>\n",
       "      <th>Training Loss</th>\n",
       "      <th>Validation Loss</th>\n",
       "    </tr>\n",
       "  </thead>\n",
       "  <tbody>\n",
       "    <tr>\n",
       "      <td>1</td>\n",
       "      <td>0.293400</td>\n",
       "      <td>0.314679</td>\n",
       "    </tr>\n",
       "    <tr>\n",
       "      <td>2</td>\n",
       "      <td>0.196500</td>\n",
       "      <td>0.214693</td>\n",
       "    </tr>\n",
       "    <tr>\n",
       "      <td>3</td>\n",
       "      <td>0.063000</td>\n",
       "      <td>0.238790</td>\n",
       "    </tr>\n",
       "  </tbody>\n",
       "</table><p>"
      ],
      "text/plain": [
       "<IPython.core.display.HTML object>"
      ]
     },
     "metadata": {},
     "output_type": "display_data"
    },
    {
     "data": {
      "text/plain": [
       "TrainOutput(global_step=1890, training_loss=0.24160021548233335, metrics={'train_runtime': 1060.931, 'train_samples_per_second': 32.041, 'train_steps_per_second': 1.781, 'total_flos': 3022098618607866.0, 'train_loss': 0.24160021548233335, 'epoch': 3.0})"
      ]
     },
     "execution_count": 83,
     "metadata": {},
     "output_type": "execute_result"
    }
   ],
   "source": [
    "trainer_twitter_roberta.train()"
   ]
  },
  {
   "cell_type": "code",
   "execution_count": 84,
   "metadata": {
    "colab": {
     "base_uri": "https://localhost:8080/",
     "height": 217
    },
    "execution": {
     "iopub.status.busy": "2024-07-08T10:30:01.478686Z",
     "iopub.status.idle": "2024-07-08T10:30:01.479134Z",
     "shell.execute_reply": "2024-07-08T10:30:01.478919Z",
     "shell.execute_reply.started": "2024-07-08T10:30:01.478900Z"
    },
    "id": "JS-PAIXlU4kR",
    "outputId": "0a85b072-0dc9-426d-dcb9-ef55ccdba4d6"
   },
   "outputs": [
    {
     "data": {
      "text/html": [],
      "text/plain": [
       "<IPython.core.display.HTML object>"
      ]
     },
     "metadata": {},
     "output_type": "display_data"
    },
    {
     "data": {
      "application/javascript": [
       "\n",
       "        if (window._pyforest_update_imports_cell) { window._pyforest_update_imports_cell('from sklearn.model_selection import train_test_split\\nimport matplotlib.pyplot as plt\\nimport tensorflow as tf\\nimport numpy as np\\nimport pandas as pd\\nimport pickle'); }\n",
       "    "
      ],
      "text/plain": [
       "<IPython.core.display.Javascript object>"
      ]
     },
     "metadata": {},
     "output_type": "display_data"
    },
    {
     "name": "stdout",
     "output_type": "stream",
     "text": [
      "Training Report for Twitter RoBERTa:\n",
      "              precision    recall  f1-score   support\n",
      "\n",
      "    positive       0.97      0.99      0.98      3673\n",
      "    negative       0.98      0.93      0.96      2593\n",
      "     neutral       0.98      0.99      0.99      5065\n",
      "\n",
      "    accuracy                           0.98     11331\n",
      "   macro avg       0.98      0.97      0.97     11331\n",
      "weighted avg       0.98      0.98      0.98     11331\n",
      "\n"
     ]
    }
   ],
   "source": [
    "train_predictions_twitter_roberta = trainer_twitter_roberta.predict(train_dataset_twitter_roberta)\n",
    "train_preds_twitter_roberta       = np.argmax(train_predictions_twitter_roberta.predictions, axis=-1)\n",
    "\n",
    "train_report_twitter_roberta      = classification_report(y_train_encoded,\n",
    "                                                          train_preds_twitter_roberta,\n",
    "                                                          target_names=label_map.keys())\n",
    "\n",
    "print(\"Training Report for Twitter RoBERTa:\")\n",
    "print(train_report_twitter_roberta)"
   ]
  },
  {
   "cell_type": "code",
   "execution_count": 85,
   "metadata": {
    "colab": {
     "base_uri": "https://localhost:8080/",
     "height": 17
    },
    "execution": {
     "iopub.status.busy": "2024-07-08T10:30:01.480560Z",
     "iopub.status.idle": "2024-07-08T10:30:01.481077Z",
     "shell.execute_reply": "2024-07-08T10:30:01.480842Z",
     "shell.execute_reply.started": "2024-07-08T10:30:01.480820Z"
    },
    "id": "NnYct_02U4kS",
    "outputId": "08bee068-bf9f-4fc4-86f5-d1a0460db3e5"
   },
   "outputs": [
    {
     "data": {
      "text/html": [],
      "text/plain": [
       "<IPython.core.display.HTML object>"
      ]
     },
     "metadata": {},
     "output_type": "display_data"
    },
    {
     "data": {
      "application/javascript": [
       "\n",
       "        if (window._pyforest_update_imports_cell) { window._pyforest_update_imports_cell('from sklearn.model_selection import train_test_split\\nimport matplotlib.pyplot as plt\\nimport tensorflow as tf\\nimport numpy as np\\nimport pandas as pd\\nimport pickle'); }\n",
       "    "
      ],
      "text/plain": [
       "<IPython.core.display.Javascript object>"
      ]
     },
     "metadata": {},
     "output_type": "display_data"
    }
   ],
   "source": [
    "test_predictions_twitter_roberta = trainer_twitter_roberta.predict(test_dataset_twitter_roberta)\n",
    "test_preds_twitter_roberta       = np.argmax(test_predictions_twitter_roberta.predictions, axis=-1)\n",
    "\n",
    "test_report_twitter_roberta      = classification_report(y_test_encoded,\n",
    "                                                         test_preds_twitter_roberta,\n",
    "                                                         target_names=label_map.keys())"
   ]
  },
  {
   "cell_type": "code",
   "execution_count": 86,
   "metadata": {
    "colab": {
     "base_uri": "https://localhost:8080/"
    },
    "execution": {
     "iopub.status.busy": "2024-07-08T10:30:01.482417Z",
     "iopub.status.idle": "2024-07-08T10:30:01.483019Z",
     "shell.execute_reply": "2024-07-08T10:30:01.482830Z",
     "shell.execute_reply.started": "2024-07-08T10:30:01.482806Z"
    },
    "id": "RgjxFijzU4kS",
    "outputId": "218c55c6-86d0-467a-f4ff-480e46456280"
   },
   "outputs": [
    {
     "name": "stdout",
     "output_type": "stream",
     "text": [
      "Test Report for Twitter RoBERTa:\n",
      "              precision    recall  f1-score   support\n",
      "\n",
      "    positive       0.92      0.95      0.94       943\n",
      "    negative       0.92      0.89      0.91       631\n",
      "     neutral       0.96      0.95      0.96      1259\n",
      "\n",
      "    accuracy                           0.94      2833\n",
      "   macro avg       0.93      0.93      0.93      2833\n",
      "weighted avg       0.94      0.94      0.94      2833\n",
      "\n"
     ]
    }
   ],
   "source": [
    "print(\"Test Report for Twitter RoBERTa:\")\n",
    "print(test_report_twitter_roberta)"
   ]
  },
  {
   "cell_type": "code",
   "execution_count": 90,
   "metadata": {
    "execution": {
     "iopub.status.busy": "2024-07-08T10:30:01.486139Z",
     "iopub.status.idle": "2024-07-08T10:30:01.486632Z",
     "shell.execute_reply": "2024-07-08T10:30:01.486415Z",
     "shell.execute_reply.started": "2024-07-08T10:30:01.486395Z"
    },
    "id": "PjI10M0DU4kS"
   },
   "outputs": [],
   "source": [
    "torch.save(twitter_roberta_tokenizer, '/kaggle/working/twitter_roberta_tokenizer.pth')\n",
    "\n",
    "model_state_dict = twitter_roberta_model.state_dict()\n",
    "torch.save(model_state_dict, '/kaggle/working/twitter_roberta_model.pth')\n",
    "\n",
    "optimizer_state_dict = trainer_twitter_roberta.optimizer.state_dict()\n",
    "torch.save(optimizer_state_dict, '/kaggle/working/twitter_roberta_optimizer.pth')"
   ]
  },
  {
   "cell_type": "code",
   "execution_count": 3,
   "metadata": {
    "execution": {
     "iopub.status.busy": "2024-07-08T10:30:01.484615Z",
     "iopub.status.idle": "2024-07-08T10:30:01.485101Z",
     "shell.execute_reply": "2024-07-08T10:30:01.484869Z",
     "shell.execute_reply.started": "2024-07-08T10:30:01.484848Z"
    },
    "id": "xKK38EkWU4kS"
   },
   "outputs": [],
   "source": [
    "del train_predictions_twitter_roberta\n",
    "del test_predictions_twitter_roberta\n",
    "del train_dataset_twitter_roberta\n",
    "del test_dataset_twitter_roberta\n",
    "del X_twitter_roberta\n",
    "del y_twitter_roberta\n",
    "del train_preds_twitter_roberta\n",
    "del test_preds_twitter_roberta\n",
    "\n",
    "torch.cuda.empty_cache()\n",
    "gc.collect()"
   ]
  },
  {
   "cell_type": "code",
   "execution_count": 91,
   "metadata": {
    "colab": {
     "base_uri": "https://localhost:8080/",
     "height": 73
    },
    "execution": {
     "iopub.status.busy": "2024-07-08T10:30:01.489999Z",
     "iopub.status.idle": "2024-07-08T10:30:01.490359Z",
     "shell.execute_reply": "2024-07-08T10:30:01.490181Z",
     "shell.execute_reply.started": "2024-07-08T10:30:01.490167Z"
    },
    "id": "znc_DTNqU4kS",
    "outputId": "3b0a8204-1bb8-44d2-f51a-8559f5e5069c"
   },
   "outputs": [
    {
     "name": "stdout",
     "output_type": "stream",
     "text": [
      "Masukkan kalimat baru: I'm not impressed with Udemy's app. The course I took was riddled with errors, and the interface was clunky. It's frustrating when you're trying to learn, but the app gets in the way. Needs a major overhaul.\n"
     ]
    },
    {
     "data": {
      "application/javascript": [
       "\n",
       "        if (window._pyforest_update_imports_cell) { window._pyforest_update_imports_cell('from sklearn.model_selection import train_test_split\\nimport re\\nimport matplotlib.pyplot as plt\\nimport tensorflow as tf\\nimport numpy as np\\nimport pandas as pd\\nimport pickle'); }\n",
       "    "
      ],
      "text/plain": [
       "<IPython.core.display.Javascript object>"
      ]
     },
     "metadata": {},
     "output_type": "display_data"
    },
    {
     "data": {
      "application/javascript": [
       "\n",
       "        if (window._pyforest_update_imports_cell) { window._pyforest_update_imports_cell('from sklearn.model_selection import train_test_split\\nimport re\\nimport matplotlib.pyplot as plt\\nimport tensorflow as tf\\nimport numpy as np\\nimport pandas as pd\\nimport pickle'); }\n",
       "    "
      ],
      "text/plain": [
       "<IPython.core.display.Javascript object>"
      ]
     },
     "metadata": {},
     "output_type": "display_data"
    },
    {
     "data": {
      "application/javascript": [
       "\n",
       "        if (window._pyforest_update_imports_cell) { window._pyforest_update_imports_cell('from sklearn.model_selection import train_test_split\\nimport re\\nimport matplotlib.pyplot as plt\\nimport tensorflow as tf\\nimport numpy as np\\nimport pandas as pd\\nimport pickle'); }\n",
       "    "
      ],
      "text/plain": [
       "<IPython.core.display.Javascript object>"
      ]
     },
     "metadata": {},
     "output_type": "display_data"
    },
    {
     "data": {
      "application/javascript": [
       "\n",
       "        if (window._pyforest_update_imports_cell) { window._pyforest_update_imports_cell('from sklearn.model_selection import train_test_split\\nimport re\\nimport matplotlib.pyplot as plt\\nimport tensorflow as tf\\nimport numpy as np\\nimport pandas as pd\\nimport pickle'); }\n",
       "    "
      ],
      "text/plain": [
       "<IPython.core.display.Javascript object>"
      ]
     },
     "metadata": {},
     "output_type": "display_data"
    },
    {
     "data": {
      "application/javascript": [
       "\n",
       "        if (window._pyforest_update_imports_cell) { window._pyforest_update_imports_cell('from sklearn.model_selection import train_test_split\\nimport re\\nimport matplotlib.pyplot as plt\\nimport tensorflow as tf\\nimport numpy as np\\nimport pandas as pd\\nimport pickle'); }\n",
       "    "
      ],
      "text/plain": [
       "<IPython.core.display.Javascript object>"
      ]
     },
     "metadata": {},
     "output_type": "display_data"
    },
    {
     "data": {
      "application/javascript": [
       "\n",
       "        if (window._pyforest_update_imports_cell) { window._pyforest_update_imports_cell('from sklearn.model_selection import train_test_split\\nimport re\\nimport matplotlib.pyplot as plt\\nimport tensorflow as tf\\nimport numpy as np\\nimport pandas as pd\\nimport pickle'); }\n",
       "    "
      ],
      "text/plain": [
       "<IPython.core.display.Javascript object>"
      ]
     },
     "metadata": {},
     "output_type": "display_data"
    },
    {
     "data": {
      "text/html": [],
      "text/plain": [
       "<IPython.core.display.HTML object>"
      ]
     },
     "metadata": {},
     "output_type": "display_data"
    },
    {
     "data": {
      "application/javascript": [
       "\n",
       "        if (window._pyforest_update_imports_cell) { window._pyforest_update_imports_cell('from sklearn.model_selection import train_test_split\\nimport re\\nimport matplotlib.pyplot as plt\\nimport tensorflow as tf\\nimport numpy as np\\nimport pandas as pd\\nimport pickle'); }\n",
       "    "
      ],
      "text/plain": [
       "<IPython.core.display.Javascript object>"
      ]
     },
     "metadata": {},
     "output_type": "display_data"
    },
    {
     "name": "stdout",
     "output_type": "stream",
     "text": [
      "Sentimen kalimat baru adalah negative.\n"
     ]
    }
   ],
   "source": [
    "kalimat_baru             = input(\"Masukkan kalimat baru: \")\n",
    "\n",
    "kalimat_baru_cleaned     = cleaningText(kalimat_baru)\n",
    "kalimat_baru_casefolded  = casefoldingText(kalimat_baru_cleaned)\n",
    "kalimat_baru_tokenized   = tokenizingText(kalimat_baru_casefolded)\n",
    "kalimat_baru_filtered    = filteringText(kalimat_baru_tokenized)\n",
    "kalimat_baru_final       = stemmingTextSnowball(kalimat_baru_filtered)\n",
    "\n",
    "inputs                   = twitter_roberta_tokenizer(kalimat_baru_final,\n",
    "                                                     return_tensors='pt',\n",
    "                                                     truncation=True,\n",
    "                                                     padding=True)\n",
    "\n",
    "class TwitterRobertaSentimentDataset(torch.utils.data.Dataset):\n",
    "    \n",
    "    def __init__(self, encodings):\n",
    "        self.encodings = encodings\n",
    "\n",
    "    def __getitem__(self, idx):\n",
    "        item           = {key: torch.tensor(val[idx]) for key, val in self.encodings.items()}\n",
    "        return item\n",
    "\n",
    "    def __len__(self):\n",
    "        return 1\n",
    "\n",
    "dataset           = TwitterRobertaSentimentDataset(inputs)\n",
    "predictions       = trainer_twitter_roberta.predict(dataset)\n",
    "prediksi_sentimen = np.argmax(predictions.predictions, axis=-1)\n",
    "label_map         = {'positive': 2, 'negative': 0, 'neutral': 1}\n",
    "labels            = list(label_map.keys())\n",
    "predicted_label   = labels[prediksi_sentimen[0]]  # Get the first element of the array\n",
    "\n",
    "print(f\"Sentimen kalimat baru adalah {predicted_label}.\")"
   ]
  }
 ],
 "metadata": {
  "accelerator": "GPU",
  "colab": {
   "gpuType": "T4",
   "provenance": []
  },
  "kaggle": {
   "accelerator": "nvidiaTeslaT4",
   "dataSources": [
    {
     "datasetId": 5345040,
     "sourceId": 8881824,
     "sourceType": "datasetVersion"
    },
    {
     "datasetId": 5353573,
     "sourceId": 8904564,
     "sourceType": "datasetVersion"
    },
    {
     "datasetId": 5354334,
     "sourceId": 8905543,
     "sourceType": "datasetVersion"
    }
   ],
   "dockerImageVersionId": 30733,
   "isGpuEnabled": true,
   "isInternetEnabled": true,
   "language": "python",
   "sourceType": "notebook"
  },
  "kernelspec": {
   "display_name": "Python 3 (ipykernel)",
   "language": "python",
   "name": "python3"
  },
  "language_info": {
   "codemirror_mode": {
    "name": "ipython",
    "version": 3
   },
   "file_extension": ".py",
   "mimetype": "text/x-python",
   "name": "python",
   "nbconvert_exporter": "python",
   "pygments_lexer": "ipython3",
   "version": "3.11.5"
  },
  "widgets": {
   "application/vnd.jupyter.widget-state+json": {
    "00d292705da3447b8a5e045a5a17de7c": {
     "model_module": "@jupyter-widgets/base",
     "model_module_version": "1.2.0",
     "model_name": "LayoutModel",
     "state": {
      "_model_module": "@jupyter-widgets/base",
      "_model_module_version": "1.2.0",
      "_model_name": "LayoutModel",
      "_view_count": null,
      "_view_module": "@jupyter-widgets/base",
      "_view_module_version": "1.2.0",
      "_view_name": "LayoutView",
      "align_content": null,
      "align_items": null,
      "align_self": null,
      "border": null,
      "bottom": null,
      "display": null,
      "flex": null,
      "flex_flow": null,
      "grid_area": null,
      "grid_auto_columns": null,
      "grid_auto_flow": null,
      "grid_auto_rows": null,
      "grid_column": null,
      "grid_gap": null,
      "grid_row": null,
      "grid_template_areas": null,
      "grid_template_columns": null,
      "grid_template_rows": null,
      "height": null,
      "justify_content": null,
      "justify_items": null,
      "left": null,
      "margin": null,
      "max_height": null,
      "max_width": null,
      "min_height": null,
      "min_width": null,
      "object_fit": null,
      "object_position": null,
      "order": null,
      "overflow": null,
      "overflow_x": null,
      "overflow_y": null,
      "padding": null,
      "right": null,
      "top": null,
      "visibility": null,
      "width": null
     }
    },
    "02ce7fc85b3349748ffdaef784df93ec": {
     "model_module": "@jupyter-widgets/controls",
     "model_module_version": "1.5.0",
     "model_name": "DescriptionStyleModel",
     "state": {
      "_model_module": "@jupyter-widgets/controls",
      "_model_module_version": "1.5.0",
      "_model_name": "DescriptionStyleModel",
      "_view_count": null,
      "_view_module": "@jupyter-widgets/base",
      "_view_module_version": "1.2.0",
      "_view_name": "StyleView",
      "description_width": ""
     }
    },
    "02f0c4cfb1ef4ba1ae93e97a50dd8ea2": {
     "model_module": "@jupyter-widgets/base",
     "model_module_version": "1.2.0",
     "model_name": "LayoutModel",
     "state": {
      "_model_module": "@jupyter-widgets/base",
      "_model_module_version": "1.2.0",
      "_model_name": "LayoutModel",
      "_view_count": null,
      "_view_module": "@jupyter-widgets/base",
      "_view_module_version": "1.2.0",
      "_view_name": "LayoutView",
      "align_content": null,
      "align_items": null,
      "align_self": null,
      "border": null,
      "bottom": null,
      "display": null,
      "flex": null,
      "flex_flow": null,
      "grid_area": null,
      "grid_auto_columns": null,
      "grid_auto_flow": null,
      "grid_auto_rows": null,
      "grid_column": null,
      "grid_gap": null,
      "grid_row": null,
      "grid_template_areas": null,
      "grid_template_columns": null,
      "grid_template_rows": null,
      "height": null,
      "justify_content": null,
      "justify_items": null,
      "left": null,
      "margin": null,
      "max_height": null,
      "max_width": null,
      "min_height": null,
      "min_width": null,
      "object_fit": null,
      "object_position": null,
      "order": null,
      "overflow": null,
      "overflow_x": null,
      "overflow_y": null,
      "padding": null,
      "right": null,
      "top": null,
      "visibility": null,
      "width": null
     }
    },
    "059283735ac64e85a502aa5419ce60b0": {
     "model_module": "@jupyter-widgets/controls",
     "model_module_version": "1.5.0",
     "model_name": "HBoxModel",
     "state": {
      "_dom_classes": [],
      "_model_module": "@jupyter-widgets/controls",
      "_model_module_version": "1.5.0",
      "_model_name": "HBoxModel",
      "_view_count": null,
      "_view_module": "@jupyter-widgets/controls",
      "_view_module_version": "1.5.0",
      "_view_name": "HBoxView",
      "box_style": "",
      "children": [
       "IPY_MODEL_6117e8112720475698ced1297cd738ef",
       "IPY_MODEL_e663db3b311244fa8386a40eebb4d471",
       "IPY_MODEL_6e73416268124e60b22bcf56bbb78505"
      ],
      "layout": "IPY_MODEL_07ffbf6ef46d41c68e15e6f14122bb05"
     }
    },
    "05d8438f577b40e0b5dece118ed6717b": {
     "model_module": "@jupyter-widgets/controls",
     "model_module_version": "1.5.0",
     "model_name": "HTMLModel",
     "state": {
      "_dom_classes": [],
      "_model_module": "@jupyter-widgets/controls",
      "_model_module_version": "1.5.0",
      "_model_name": "HTMLModel",
      "_view_count": null,
      "_view_module": "@jupyter-widgets/controls",
      "_view_module_version": "1.5.0",
      "_view_name": "HTMLView",
      "description": "",
      "description_tooltip": null,
      "layout": "IPY_MODEL_aff64d4354a94ffcae26b6a11c00d66f",
      "placeholder": "​",
      "style": "IPY_MODEL_6e5352eb42704b33afda792932c2c28c",
      "value": " 899k/899k [00:00&lt;00:00, 2.77MB/s]"
     }
    },
    "07ffbf6ef46d41c68e15e6f14122bb05": {
     "model_module": "@jupyter-widgets/base",
     "model_module_version": "1.2.0",
     "model_name": "LayoutModel",
     "state": {
      "_model_module": "@jupyter-widgets/base",
      "_model_module_version": "1.2.0",
      "_model_name": "LayoutModel",
      "_view_count": null,
      "_view_module": "@jupyter-widgets/base",
      "_view_module_version": "1.2.0",
      "_view_name": "LayoutView",
      "align_content": null,
      "align_items": null,
      "align_self": null,
      "border": null,
      "bottom": null,
      "display": null,
      "flex": null,
      "flex_flow": null,
      "grid_area": null,
      "grid_auto_columns": null,
      "grid_auto_flow": null,
      "grid_auto_rows": null,
      "grid_column": null,
      "grid_gap": null,
      "grid_row": null,
      "grid_template_areas": null,
      "grid_template_columns": null,
      "grid_template_rows": null,
      "height": null,
      "justify_content": null,
      "justify_items": null,
      "left": null,
      "margin": null,
      "max_height": null,
      "max_width": null,
      "min_height": null,
      "min_width": null,
      "object_fit": null,
      "object_position": null,
      "order": null,
      "overflow": null,
      "overflow_x": null,
      "overflow_y": null,
      "padding": null,
      "right": null,
      "top": null,
      "visibility": null,
      "width": null
     }
    },
    "08d0db1124da4482b0f83e9719c95681": {
     "model_module": "@jupyter-widgets/base",
     "model_module_version": "1.2.0",
     "model_name": "LayoutModel",
     "state": {
      "_model_module": "@jupyter-widgets/base",
      "_model_module_version": "1.2.0",
      "_model_name": "LayoutModel",
      "_view_count": null,
      "_view_module": "@jupyter-widgets/base",
      "_view_module_version": "1.2.0",
      "_view_name": "LayoutView",
      "align_content": null,
      "align_items": null,
      "align_self": null,
      "border": null,
      "bottom": null,
      "display": null,
      "flex": null,
      "flex_flow": null,
      "grid_area": null,
      "grid_auto_columns": null,
      "grid_auto_flow": null,
      "grid_auto_rows": null,
      "grid_column": null,
      "grid_gap": null,
      "grid_row": null,
      "grid_template_areas": null,
      "grid_template_columns": null,
      "grid_template_rows": null,
      "height": null,
      "justify_content": null,
      "justify_items": null,
      "left": null,
      "margin": null,
      "max_height": null,
      "max_width": null,
      "min_height": null,
      "min_width": null,
      "object_fit": null,
      "object_position": null,
      "order": null,
      "overflow": null,
      "overflow_x": null,
      "overflow_y": null,
      "padding": null,
      "right": null,
      "top": null,
      "visibility": null,
      "width": null
     }
    },
    "0a9964cae480489299ad2da12ab654b4": {
     "model_module": "@jupyter-widgets/controls",
     "model_module_version": "1.5.0",
     "model_name": "HTMLModel",
     "state": {
      "_dom_classes": [],
      "_model_module": "@jupyter-widgets/controls",
      "_model_module_version": "1.5.0",
      "_model_name": "HTMLModel",
      "_view_count": null,
      "_view_module": "@jupyter-widgets/controls",
      "_view_module_version": "1.5.0",
      "_view_name": "HTMLView",
      "description": "",
      "description_tooltip": null,
      "layout": "IPY_MODEL_c796ec71e7f34e2d98683646d87a568f",
      "placeholder": "​",
      "style": "IPY_MODEL_e6b385c275164230bdf427e3879fee4b",
      "value": " 481/481 [00:00&lt;00:00, 33.2kB/s]"
     }
    },
    "0c3e6a4dcfd04624af4051fb1ad0955f": {
     "model_module": "@jupyter-widgets/controls",
     "model_module_version": "1.5.0",
     "model_name": "ProgressStyleModel",
     "state": {
      "_model_module": "@jupyter-widgets/controls",
      "_model_module_version": "1.5.0",
      "_model_name": "ProgressStyleModel",
      "_view_count": null,
      "_view_module": "@jupyter-widgets/base",
      "_view_module_version": "1.2.0",
      "_view_name": "StyleView",
      "bar_color": null,
      "description_width": ""
     }
    },
    "0e593e22837a47359b9e14918012d4f5": {
     "model_module": "@jupyter-widgets/controls",
     "model_module_version": "1.5.0",
     "model_name": "HBoxModel",
     "state": {
      "_dom_classes": [],
      "_model_module": "@jupyter-widgets/controls",
      "_model_module_version": "1.5.0",
      "_model_name": "HBoxModel",
      "_view_count": null,
      "_view_module": "@jupyter-widgets/controls",
      "_view_module_version": "1.5.0",
      "_view_name": "HBoxView",
      "box_style": "",
      "children": [
       "IPY_MODEL_558ceea9e97f4985be0b1bac59f6c012",
       "IPY_MODEL_d35a2ca25c0f45cba1604eed6e699a08",
       "IPY_MODEL_b0c2976bf0584baf842d53438b9cbc9f"
      ],
      "layout": "IPY_MODEL_60e61b581d04421688e964ad0899feb0"
     }
    },
    "0e7af692cc644655a9cf098198957d6c": {
     "model_module": "@jupyter-widgets/controls",
     "model_module_version": "1.5.0",
     "model_name": "ProgressStyleModel",
     "state": {
      "_model_module": "@jupyter-widgets/controls",
      "_model_module_version": "1.5.0",
      "_model_name": "ProgressStyleModel",
      "_view_count": null,
      "_view_module": "@jupyter-widgets/base",
      "_view_module_version": "1.2.0",
      "_view_name": "StyleView",
      "bar_color": null,
      "description_width": ""
     }
    },
    "13e2c0326dae4718b2a61ac19385a110": {
     "model_module": "@jupyter-widgets/controls",
     "model_module_version": "1.5.0",
     "model_name": "HTMLModel",
     "state": {
      "_dom_classes": [],
      "_model_module": "@jupyter-widgets/controls",
      "_model_module_version": "1.5.0",
      "_model_name": "HTMLModel",
      "_view_count": null,
      "_view_module": "@jupyter-widgets/controls",
      "_view_module_version": "1.5.0",
      "_view_name": "HTMLView",
      "description": "",
      "description_tooltip": null,
      "layout": "IPY_MODEL_17fc79653f5b4358a7cb1dca09cdf6bb",
      "placeholder": "​",
      "style": "IPY_MODEL_580adaa7b1ae47b79e82cd738eafd66e",
      "value": " 899k/899k [00:00&lt;00:00, 2.75MB/s]"
     }
    },
    "14d293c7cd8c48c88f4420282b0497dd": {
     "model_module": "@jupyter-widgets/base",
     "model_module_version": "1.2.0",
     "model_name": "LayoutModel",
     "state": {
      "_model_module": "@jupyter-widgets/base",
      "_model_module_version": "1.2.0",
      "_model_name": "LayoutModel",
      "_view_count": null,
      "_view_module": "@jupyter-widgets/base",
      "_view_module_version": "1.2.0",
      "_view_name": "LayoutView",
      "align_content": null,
      "align_items": null,
      "align_self": null,
      "border": null,
      "bottom": null,
      "display": null,
      "flex": null,
      "flex_flow": null,
      "grid_area": null,
      "grid_auto_columns": null,
      "grid_auto_flow": null,
      "grid_auto_rows": null,
      "grid_column": null,
      "grid_gap": null,
      "grid_row": null,
      "grid_template_areas": null,
      "grid_template_columns": null,
      "grid_template_rows": null,
      "height": null,
      "justify_content": null,
      "justify_items": null,
      "left": null,
      "margin": null,
      "max_height": null,
      "max_width": null,
      "min_height": null,
      "min_width": null,
      "object_fit": null,
      "object_position": null,
      "order": null,
      "overflow": null,
      "overflow_x": null,
      "overflow_y": null,
      "padding": null,
      "right": null,
      "top": null,
      "visibility": null,
      "width": null
     }
    },
    "15ee1f1e485b411b9e6f1dbc38128496": {
     "model_module": "@jupyter-widgets/controls",
     "model_module_version": "1.5.0",
     "model_name": "FloatProgressModel",
     "state": {
      "_dom_classes": [],
      "_model_module": "@jupyter-widgets/controls",
      "_model_module_version": "1.5.0",
      "_model_name": "FloatProgressModel",
      "_view_count": null,
      "_view_module": "@jupyter-widgets/controls",
      "_view_module_version": "1.5.0",
      "_view_name": "ProgressView",
      "bar_style": "success",
      "description": "",
      "description_tooltip": null,
      "layout": "IPY_MODEL_85d9d1c3666b45ef8a7919c9482db884",
      "max": 25,
      "min": 0,
      "orientation": "horizontal",
      "style": "IPY_MODEL_c2e24252c250462a93199745f1f8c1f6",
      "value": 25
     }
    },
    "17fc79653f5b4358a7cb1dca09cdf6bb": {
     "model_module": "@jupyter-widgets/base",
     "model_module_version": "1.2.0",
     "model_name": "LayoutModel",
     "state": {
      "_model_module": "@jupyter-widgets/base",
      "_model_module_version": "1.2.0",
      "_model_name": "LayoutModel",
      "_view_count": null,
      "_view_module": "@jupyter-widgets/base",
      "_view_module_version": "1.2.0",
      "_view_name": "LayoutView",
      "align_content": null,
      "align_items": null,
      "align_self": null,
      "border": null,
      "bottom": null,
      "display": null,
      "flex": null,
      "flex_flow": null,
      "grid_area": null,
      "grid_auto_columns": null,
      "grid_auto_flow": null,
      "grid_auto_rows": null,
      "grid_column": null,
      "grid_gap": null,
      "grid_row": null,
      "grid_template_areas": null,
      "grid_template_columns": null,
      "grid_template_rows": null,
      "height": null,
      "justify_content": null,
      "justify_items": null,
      "left": null,
      "margin": null,
      "max_height": null,
      "max_width": null,
      "min_height": null,
      "min_width": null,
      "object_fit": null,
      "object_position": null,
      "order": null,
      "overflow": null,
      "overflow_x": null,
      "overflow_y": null,
      "padding": null,
      "right": null,
      "top": null,
      "visibility": null,
      "width": null
     }
    },
    "1973711605e14c32a39a64323919e52e": {
     "model_module": "@jupyter-widgets/base",
     "model_module_version": "1.2.0",
     "model_name": "LayoutModel",
     "state": {
      "_model_module": "@jupyter-widgets/base",
      "_model_module_version": "1.2.0",
      "_model_name": "LayoutModel",
      "_view_count": null,
      "_view_module": "@jupyter-widgets/base",
      "_view_module_version": "1.2.0",
      "_view_name": "LayoutView",
      "align_content": null,
      "align_items": null,
      "align_self": null,
      "border": null,
      "bottom": null,
      "display": null,
      "flex": null,
      "flex_flow": null,
      "grid_area": null,
      "grid_auto_columns": null,
      "grid_auto_flow": null,
      "grid_auto_rows": null,
      "grid_column": null,
      "grid_gap": null,
      "grid_row": null,
      "grid_template_areas": null,
      "grid_template_columns": null,
      "grid_template_rows": null,
      "height": null,
      "justify_content": null,
      "justify_items": null,
      "left": null,
      "margin": null,
      "max_height": null,
      "max_width": null,
      "min_height": null,
      "min_width": null,
      "object_fit": null,
      "object_position": null,
      "order": null,
      "overflow": null,
      "overflow_x": null,
      "overflow_y": null,
      "padding": null,
      "right": null,
      "top": null,
      "visibility": null,
      "width": null
     }
    },
    "1de76c53a8984a1d91d6084fbf8e683e": {
     "model_module": "@jupyter-widgets/base",
     "model_module_version": "1.2.0",
     "model_name": "LayoutModel",
     "state": {
      "_model_module": "@jupyter-widgets/base",
      "_model_module_version": "1.2.0",
      "_model_name": "LayoutModel",
      "_view_count": null,
      "_view_module": "@jupyter-widgets/base",
      "_view_module_version": "1.2.0",
      "_view_name": "LayoutView",
      "align_content": null,
      "align_items": null,
      "align_self": null,
      "border": null,
      "bottom": null,
      "display": null,
      "flex": null,
      "flex_flow": null,
      "grid_area": null,
      "grid_auto_columns": null,
      "grid_auto_flow": null,
      "grid_auto_rows": null,
      "grid_column": null,
      "grid_gap": null,
      "grid_row": null,
      "grid_template_areas": null,
      "grid_template_columns": null,
      "grid_template_rows": null,
      "height": null,
      "justify_content": null,
      "justify_items": null,
      "left": null,
      "margin": null,
      "max_height": null,
      "max_width": null,
      "min_height": null,
      "min_width": null,
      "object_fit": null,
      "object_position": null,
      "order": null,
      "overflow": null,
      "overflow_x": null,
      "overflow_y": null,
      "padding": null,
      "right": null,
      "top": null,
      "visibility": null,
      "width": null
     }
    },
    "223ed8e57bf24c88b7c08b4a8feb54d7": {
     "model_module": "@jupyter-widgets/controls",
     "model_module_version": "1.5.0",
     "model_name": "HBoxModel",
     "state": {
      "_dom_classes": [],
      "_model_module": "@jupyter-widgets/controls",
      "_model_module_version": "1.5.0",
      "_model_name": "HBoxModel",
      "_view_count": null,
      "_view_module": "@jupyter-widgets/controls",
      "_view_module_version": "1.5.0",
      "_view_name": "HBoxView",
      "box_style": "",
      "children": [
       "IPY_MODEL_8d572ab25994479eb8479024c9bafe88",
       "IPY_MODEL_f5775be9c139494587fa81a0ce8a0975",
       "IPY_MODEL_df29560e808a4ca19ac7d38603e9c198"
      ],
      "layout": "IPY_MODEL_1973711605e14c32a39a64323919e52e"
     }
    },
    "25374bd4558a45aa8e73b4856718f052": {
     "model_module": "@jupyter-widgets/controls",
     "model_module_version": "1.5.0",
     "model_name": "FloatProgressModel",
     "state": {
      "_dom_classes": [],
      "_model_module": "@jupyter-widgets/controls",
      "_model_module_version": "1.5.0",
      "_model_name": "FloatProgressModel",
      "_view_count": null,
      "_view_module": "@jupyter-widgets/controls",
      "_view_module_version": "1.5.0",
      "_view_name": "ProgressView",
      "bar_style": "success",
      "description": "",
      "description_tooltip": null,
      "layout": "IPY_MODEL_9a6b2d006e004448a66c764cabf7bfae",
      "max": 498679497,
      "min": 0,
      "orientation": "horizontal",
      "style": "IPY_MODEL_b54a8b1c7b0244bc96a6d7f2cdf6e794",
      "value": 498679497
     }
    },
    "29b548f75f71408fb89c94443109720d": {
     "model_module": "@jupyter-widgets/base",
     "model_module_version": "1.2.0",
     "model_name": "LayoutModel",
     "state": {
      "_model_module": "@jupyter-widgets/base",
      "_model_module_version": "1.2.0",
      "_model_name": "LayoutModel",
      "_view_count": null,
      "_view_module": "@jupyter-widgets/base",
      "_view_module_version": "1.2.0",
      "_view_name": "LayoutView",
      "align_content": null,
      "align_items": null,
      "align_self": null,
      "border": null,
      "bottom": null,
      "display": null,
      "flex": null,
      "flex_flow": null,
      "grid_area": null,
      "grid_auto_columns": null,
      "grid_auto_flow": null,
      "grid_auto_rows": null,
      "grid_column": null,
      "grid_gap": null,
      "grid_row": null,
      "grid_template_areas": null,
      "grid_template_columns": null,
      "grid_template_rows": null,
      "height": null,
      "justify_content": null,
      "justify_items": null,
      "left": null,
      "margin": null,
      "max_height": null,
      "max_width": null,
      "min_height": null,
      "min_width": null,
      "object_fit": null,
      "object_position": null,
      "order": null,
      "overflow": null,
      "overflow_x": null,
      "overflow_y": null,
      "padding": null,
      "right": null,
      "top": null,
      "visibility": null,
      "width": null
     }
    },
    "2bcaf316e4ed4aaa87a886b82b992dff": {
     "model_module": "@jupyter-widgets/base",
     "model_module_version": "1.2.0",
     "model_name": "LayoutModel",
     "state": {
      "_model_module": "@jupyter-widgets/base",
      "_model_module_version": "1.2.0",
      "_model_name": "LayoutModel",
      "_view_count": null,
      "_view_module": "@jupyter-widgets/base",
      "_view_module_version": "1.2.0",
      "_view_name": "LayoutView",
      "align_content": null,
      "align_items": null,
      "align_self": null,
      "border": null,
      "bottom": null,
      "display": null,
      "flex": null,
      "flex_flow": null,
      "grid_area": null,
      "grid_auto_columns": null,
      "grid_auto_flow": null,
      "grid_auto_rows": null,
      "grid_column": null,
      "grid_gap": null,
      "grid_row": null,
      "grid_template_areas": null,
      "grid_template_columns": null,
      "grid_template_rows": null,
      "height": null,
      "justify_content": null,
      "justify_items": null,
      "left": null,
      "margin": null,
      "max_height": null,
      "max_width": null,
      "min_height": null,
      "min_width": null,
      "object_fit": null,
      "object_position": null,
      "order": null,
      "overflow": null,
      "overflow_x": null,
      "overflow_y": null,
      "padding": null,
      "right": null,
      "top": null,
      "visibility": null,
      "width": null
     }
    },
    "2f7dda443c1b4fa68d60edd6d77e419a": {
     "model_module": "@jupyter-widgets/controls",
     "model_module_version": "1.5.0",
     "model_name": "HTMLModel",
     "state": {
      "_dom_classes": [],
      "_model_module": "@jupyter-widgets/controls",
      "_model_module_version": "1.5.0",
      "_model_name": "HTMLModel",
      "_view_count": null,
      "_view_module": "@jupyter-widgets/controls",
      "_view_module_version": "1.5.0",
      "_view_name": "HTMLView",
      "description": "",
      "description_tooltip": null,
      "layout": "IPY_MODEL_6c7efe3ccdce4a90aa7b08f90ae20105",
      "placeholder": "​",
      "style": "IPY_MODEL_cf5d1f0f82434135a5b220ea62db4b30",
      "value": " 747/747 [00:00&lt;00:00, 30.9kB/s]"
     }
    },
    "31c8ed73ab9448caaeb6adb1be1e18df": {
     "model_module": "@jupyter-widgets/base",
     "model_module_version": "1.2.0",
     "model_name": "LayoutModel",
     "state": {
      "_model_module": "@jupyter-widgets/base",
      "_model_module_version": "1.2.0",
      "_model_name": "LayoutModel",
      "_view_count": null,
      "_view_module": "@jupyter-widgets/base",
      "_view_module_version": "1.2.0",
      "_view_name": "LayoutView",
      "align_content": null,
      "align_items": null,
      "align_self": null,
      "border": null,
      "bottom": null,
      "display": null,
      "flex": null,
      "flex_flow": null,
      "grid_area": null,
      "grid_auto_columns": null,
      "grid_auto_flow": null,
      "grid_auto_rows": null,
      "grid_column": null,
      "grid_gap": null,
      "grid_row": null,
      "grid_template_areas": null,
      "grid_template_columns": null,
      "grid_template_rows": null,
      "height": null,
      "justify_content": null,
      "justify_items": null,
      "left": null,
      "margin": null,
      "max_height": null,
      "max_width": null,
      "min_height": null,
      "min_width": null,
      "object_fit": null,
      "object_position": null,
      "order": null,
      "overflow": null,
      "overflow_x": null,
      "overflow_y": null,
      "padding": null,
      "right": null,
      "top": null,
      "visibility": null,
      "width": null
     }
    },
    "33163577af9c4a61a34afc0539975575": {
     "model_module": "@jupyter-widgets/controls",
     "model_module_version": "1.5.0",
     "model_name": "HBoxModel",
     "state": {
      "_dom_classes": [],
      "_model_module": "@jupyter-widgets/controls",
      "_model_module_version": "1.5.0",
      "_model_name": "HBoxModel",
      "_view_count": null,
      "_view_module": "@jupyter-widgets/controls",
      "_view_module_version": "1.5.0",
      "_view_name": "HBoxView",
      "box_style": "",
      "children": [
       "IPY_MODEL_6d8a5802f988493a87e8a0eccb900a76",
       "IPY_MODEL_7cb04d65a6b64b18a6753611948abb33",
       "IPY_MODEL_4427933d5e624bf5907409670730c2e3"
      ],
      "layout": "IPY_MODEL_60c1093e68444d38a870ecd09e364307"
     }
    },
    "33a62c09efd34a4c8066ec3f00450173": {
     "model_module": "@jupyter-widgets/controls",
     "model_module_version": "1.5.0",
     "model_name": "HBoxModel",
     "state": {
      "_dom_classes": [],
      "_model_module": "@jupyter-widgets/controls",
      "_model_module_version": "1.5.0",
      "_model_name": "HBoxModel",
      "_view_count": null,
      "_view_module": "@jupyter-widgets/controls",
      "_view_module_version": "1.5.0",
      "_view_name": "HBoxView",
      "box_style": "",
      "children": [
       "IPY_MODEL_9fd25ed61469415aa2e3012bb9646f91",
       "IPY_MODEL_d0eeab89dadb482b825eccdd0b848bb9",
       "IPY_MODEL_4667ecac6eab49eb86bb63272fecec43"
      ],
      "layout": "IPY_MODEL_b006be614c90462387624505135480fc"
     }
    },
    "33be06ee718a4d6b8364925542d799ab": {
     "model_module": "@jupyter-widgets/controls",
     "model_module_version": "1.5.0",
     "model_name": "FloatProgressModel",
     "state": {
      "_dom_classes": [],
      "_model_module": "@jupyter-widgets/controls",
      "_model_module_version": "1.5.0",
      "_model_name": "FloatProgressModel",
      "_view_count": null,
      "_view_module": "@jupyter-widgets/controls",
      "_view_module_version": "1.5.0",
      "_view_name": "ProgressView",
      "bar_style": "success",
      "description": "",
      "description_tooltip": null,
      "layout": "IPY_MODEL_8d688536f04148e987ced87947979103",
      "max": 747,
      "min": 0,
      "orientation": "horizontal",
      "style": "IPY_MODEL_7b40275c3f78413baf928c6255088b66",
      "value": 747
     }
    },
    "34b3c097a0894da280bfb4014e1fce13": {
     "model_module": "@jupyter-widgets/base",
     "model_module_version": "1.2.0",
     "model_name": "LayoutModel",
     "state": {
      "_model_module": "@jupyter-widgets/base",
      "_model_module_version": "1.2.0",
      "_model_name": "LayoutModel",
      "_view_count": null,
      "_view_module": "@jupyter-widgets/base",
      "_view_module_version": "1.2.0",
      "_view_name": "LayoutView",
      "align_content": null,
      "align_items": null,
      "align_self": null,
      "border": null,
      "bottom": null,
      "display": null,
      "flex": null,
      "flex_flow": null,
      "grid_area": null,
      "grid_auto_columns": null,
      "grid_auto_flow": null,
      "grid_auto_rows": null,
      "grid_column": null,
      "grid_gap": null,
      "grid_row": null,
      "grid_template_areas": null,
      "grid_template_columns": null,
      "grid_template_rows": null,
      "height": null,
      "justify_content": null,
      "justify_items": null,
      "left": null,
      "margin": null,
      "max_height": null,
      "max_width": null,
      "min_height": null,
      "min_width": null,
      "object_fit": null,
      "object_position": null,
      "order": null,
      "overflow": null,
      "overflow_x": null,
      "overflow_y": null,
      "padding": null,
      "right": null,
      "top": null,
      "visibility": null,
      "width": null
     }
    },
    "3ae5a9ff8f4f40fa92c348b400988329": {
     "model_module": "@jupyter-widgets/controls",
     "model_module_version": "1.5.0",
     "model_name": "HTMLModel",
     "state": {
      "_dom_classes": [],
      "_model_module": "@jupyter-widgets/controls",
      "_model_module_version": "1.5.0",
      "_model_name": "HTMLModel",
      "_view_count": null,
      "_view_module": "@jupyter-widgets/controls",
      "_view_module_version": "1.5.0",
      "_view_name": "HTMLView",
      "description": "",
      "description_tooltip": null,
      "layout": "IPY_MODEL_be2cd7ad519245e29d52882919a5c752",
      "placeholder": "​",
      "style": "IPY_MODEL_dddcb90d7bed4f5194af3bc30894300c",
      "value": "config.json: 100%"
     }
    },
    "412cfb509a3a454198e8efc0e8548ba3": {
     "model_module": "@jupyter-widgets/controls",
     "model_module_version": "1.5.0",
     "model_name": "HBoxModel",
     "state": {
      "_dom_classes": [],
      "_model_module": "@jupyter-widgets/controls",
      "_model_module_version": "1.5.0",
      "_model_name": "HBoxModel",
      "_view_count": null,
      "_view_module": "@jupyter-widgets/controls",
      "_view_module_version": "1.5.0",
      "_view_name": "HBoxView",
      "box_style": "",
      "children": [
       "IPY_MODEL_58ab7c25aa9a436781ba2046c9078751",
       "IPY_MODEL_b2059dc98680419d8ea6aa46a82f3973",
       "IPY_MODEL_05d8438f577b40e0b5dece118ed6717b"
      ],
      "layout": "IPY_MODEL_08d0db1124da4482b0f83e9719c95681"
     }
    },
    "414a6a647ebd43db8c3dda80639c64f9": {
     "model_module": "@jupyter-widgets/controls",
     "model_module_version": "1.5.0",
     "model_name": "DescriptionStyleModel",
     "state": {
      "_model_module": "@jupyter-widgets/controls",
      "_model_module_version": "1.5.0",
      "_model_name": "DescriptionStyleModel",
      "_view_count": null,
      "_view_module": "@jupyter-widgets/base",
      "_view_module_version": "1.2.0",
      "_view_name": "StyleView",
      "description_width": ""
     }
    },
    "41577d5646af4009b0d4787e3c0122ef": {
     "model_module": "@jupyter-widgets/controls",
     "model_module_version": "1.5.0",
     "model_name": "ProgressStyleModel",
     "state": {
      "_model_module": "@jupyter-widgets/controls",
      "_model_module_version": "1.5.0",
      "_model_name": "ProgressStyleModel",
      "_view_count": null,
      "_view_module": "@jupyter-widgets/base",
      "_view_module_version": "1.2.0",
      "_view_name": "StyleView",
      "bar_color": null,
      "description_width": ""
     }
    },
    "42d07910c25843e888084fd027b073b5": {
     "model_module": "@jupyter-widgets/controls",
     "model_module_version": "1.5.0",
     "model_name": "DescriptionStyleModel",
     "state": {
      "_model_module": "@jupyter-widgets/controls",
      "_model_module_version": "1.5.0",
      "_model_name": "DescriptionStyleModel",
      "_view_count": null,
      "_view_module": "@jupyter-widgets/base",
      "_view_module_version": "1.2.0",
      "_view_name": "StyleView",
      "description_width": ""
     }
    },
    "4391473ac10a418db4170b3ea612d6a1": {
     "model_module": "@jupyter-widgets/controls",
     "model_module_version": "1.5.0",
     "model_name": "ProgressStyleModel",
     "state": {
      "_model_module": "@jupyter-widgets/controls",
      "_model_module_version": "1.5.0",
      "_model_name": "ProgressStyleModel",
      "_view_count": null,
      "_view_module": "@jupyter-widgets/base",
      "_view_module_version": "1.2.0",
      "_view_name": "StyleView",
      "bar_color": null,
      "description_width": ""
     }
    },
    "4427933d5e624bf5907409670730c2e3": {
     "model_module": "@jupyter-widgets/controls",
     "model_module_version": "1.5.0",
     "model_name": "HTMLModel",
     "state": {
      "_dom_classes": [],
      "_model_module": "@jupyter-widgets/controls",
      "_model_module_version": "1.5.0",
      "_model_name": "HTMLModel",
      "_view_count": null,
      "_view_module": "@jupyter-widgets/controls",
      "_view_module_version": "1.5.0",
      "_view_name": "HTMLView",
      "description": "",
      "description_tooltip": null,
      "layout": "IPY_MODEL_fd33574f65354fffaa35840b6a72ce96",
      "placeholder": "​",
      "style": "IPY_MODEL_414a6a647ebd43db8c3dda80639c64f9",
      "value": " 1.36M/1.36M [00:00&lt;00:00, 14.7MB/s]"
     }
    },
    "4667ecac6eab49eb86bb63272fecec43": {
     "model_module": "@jupyter-widgets/controls",
     "model_module_version": "1.5.0",
     "model_name": "HTMLModel",
     "state": {
      "_dom_classes": [],
      "_model_module": "@jupyter-widgets/controls",
      "_model_module_version": "1.5.0",
      "_model_name": "HTMLModel",
      "_view_count": null,
      "_view_module": "@jupyter-widgets/controls",
      "_view_module_version": "1.5.0",
      "_view_name": "HTMLView",
      "description": "",
      "description_tooltip": null,
      "layout": "IPY_MODEL_00d292705da3447b8a5e045a5a17de7c",
      "placeholder": "​",
      "style": "IPY_MODEL_8cb11246b4834356bd7dce52f5c673e9",
      "value": " 499M/499M [00:02&lt;00:00, 245MB/s]"
     }
    },
    "46f9de1f8af94ab8a920296675575397": {
     "model_module": "@jupyter-widgets/controls",
     "model_module_version": "1.5.0",
     "model_name": "DescriptionStyleModel",
     "state": {
      "_model_module": "@jupyter-widgets/controls",
      "_model_module_version": "1.5.0",
      "_model_name": "DescriptionStyleModel",
      "_view_count": null,
      "_view_module": "@jupyter-widgets/base",
      "_view_module_version": "1.2.0",
      "_view_name": "StyleView",
      "description_width": ""
     }
    },
    "488cf115ffa349e28e39f6cf3f82f862": {
     "model_module": "@jupyter-widgets/base",
     "model_module_version": "1.2.0",
     "model_name": "LayoutModel",
     "state": {
      "_model_module": "@jupyter-widgets/base",
      "_model_module_version": "1.2.0",
      "_model_name": "LayoutModel",
      "_view_count": null,
      "_view_module": "@jupyter-widgets/base",
      "_view_module_version": "1.2.0",
      "_view_name": "LayoutView",
      "align_content": null,
      "align_items": null,
      "align_self": null,
      "border": null,
      "bottom": null,
      "display": null,
      "flex": null,
      "flex_flow": null,
      "grid_area": null,
      "grid_auto_columns": null,
      "grid_auto_flow": null,
      "grid_auto_rows": null,
      "grid_column": null,
      "grid_gap": null,
      "grid_row": null,
      "grid_template_areas": null,
      "grid_template_columns": null,
      "grid_template_rows": null,
      "height": null,
      "justify_content": null,
      "justify_items": null,
      "left": null,
      "margin": null,
      "max_height": null,
      "max_width": null,
      "min_height": null,
      "min_width": null,
      "object_fit": null,
      "object_position": null,
      "order": null,
      "overflow": null,
      "overflow_x": null,
      "overflow_y": null,
      "padding": null,
      "right": null,
      "top": null,
      "visibility": null,
      "width": null
     }
    },
    "4c08973cabd34e3cb1d401f1cfdf5aa6": {
     "model_module": "@jupyter-widgets/controls",
     "model_module_version": "1.5.0",
     "model_name": "HBoxModel",
     "state": {
      "_dom_classes": [],
      "_model_module": "@jupyter-widgets/controls",
      "_model_module_version": "1.5.0",
      "_model_name": "HBoxModel",
      "_view_count": null,
      "_view_module": "@jupyter-widgets/controls",
      "_view_module_version": "1.5.0",
      "_view_name": "HBoxView",
      "box_style": "",
      "children": [
       "IPY_MODEL_f5c26665262f4aa9b6945fc02b2b02a1",
       "IPY_MODEL_c2e7dd12917046e189356196838d6fae",
       "IPY_MODEL_13e2c0326dae4718b2a61ac19385a110"
      ],
      "layout": "IPY_MODEL_cd4a6c3ef4e5430d9ebb394aefe804ff"
     }
    },
    "4c935395bbbe444b81e1b07963700803": {
     "model_module": "@jupyter-widgets/base",
     "model_module_version": "1.2.0",
     "model_name": "LayoutModel",
     "state": {
      "_model_module": "@jupyter-widgets/base",
      "_model_module_version": "1.2.0",
      "_model_name": "LayoutModel",
      "_view_count": null,
      "_view_module": "@jupyter-widgets/base",
      "_view_module_version": "1.2.0",
      "_view_name": "LayoutView",
      "align_content": null,
      "align_items": null,
      "align_self": null,
      "border": null,
      "bottom": null,
      "display": null,
      "flex": null,
      "flex_flow": null,
      "grid_area": null,
      "grid_auto_columns": null,
      "grid_auto_flow": null,
      "grid_auto_rows": null,
      "grid_column": null,
      "grid_gap": null,
      "grid_row": null,
      "grid_template_areas": null,
      "grid_template_columns": null,
      "grid_template_rows": null,
      "height": null,
      "justify_content": null,
      "justify_items": null,
      "left": null,
      "margin": null,
      "max_height": null,
      "max_width": null,
      "min_height": null,
      "min_width": null,
      "object_fit": null,
      "object_position": null,
      "order": null,
      "overflow": null,
      "overflow_x": null,
      "overflow_y": null,
      "padding": null,
      "right": null,
      "top": null,
      "visibility": null,
      "width": null
     }
    },
    "4f2d60a1553940399117af568d4c2287": {
     "model_module": "@jupyter-widgets/base",
     "model_module_version": "1.2.0",
     "model_name": "LayoutModel",
     "state": {
      "_model_module": "@jupyter-widgets/base",
      "_model_module_version": "1.2.0",
      "_model_name": "LayoutModel",
      "_view_count": null,
      "_view_module": "@jupyter-widgets/base",
      "_view_module_version": "1.2.0",
      "_view_name": "LayoutView",
      "align_content": null,
      "align_items": null,
      "align_self": null,
      "border": null,
      "bottom": null,
      "display": null,
      "flex": null,
      "flex_flow": null,
      "grid_area": null,
      "grid_auto_columns": null,
      "grid_auto_flow": null,
      "grid_auto_rows": null,
      "grid_column": null,
      "grid_gap": null,
      "grid_row": null,
      "grid_template_areas": null,
      "grid_template_columns": null,
      "grid_template_rows": null,
      "height": null,
      "justify_content": null,
      "justify_items": null,
      "left": null,
      "margin": null,
      "max_height": null,
      "max_width": null,
      "min_height": null,
      "min_width": null,
      "object_fit": null,
      "object_position": null,
      "order": null,
      "overflow": null,
      "overflow_x": null,
      "overflow_y": null,
      "padding": null,
      "right": null,
      "top": null,
      "visibility": null,
      "width": null
     }
    },
    "515b4167a9cd418e97914eee037be051": {
     "model_module": "@jupyter-widgets/controls",
     "model_module_version": "1.5.0",
     "model_name": "HBoxModel",
     "state": {
      "_dom_classes": [],
      "_model_module": "@jupyter-widgets/controls",
      "_model_module_version": "1.5.0",
      "_model_name": "HBoxModel",
      "_view_count": null,
      "_view_module": "@jupyter-widgets/controls",
      "_view_module_version": "1.5.0",
      "_view_name": "HBoxView",
      "box_style": "",
      "children": [
       "IPY_MODEL_3ae5a9ff8f4f40fa92c348b400988329",
       "IPY_MODEL_c06a1d2e818e4c76bdf8731102aa681b",
       "IPY_MODEL_0a9964cae480489299ad2da12ab654b4"
      ],
      "layout": "IPY_MODEL_29b548f75f71408fb89c94443109720d"
     }
    },
    "51e7efe8ef3e4946afd0103f183a0061": {
     "model_module": "@jupyter-widgets/controls",
     "model_module_version": "1.5.0",
     "model_name": "ProgressStyleModel",
     "state": {
      "_model_module": "@jupyter-widgets/controls",
      "_model_module_version": "1.5.0",
      "_model_name": "ProgressStyleModel",
      "_view_count": null,
      "_view_module": "@jupyter-widgets/base",
      "_view_module_version": "1.2.0",
      "_view_name": "StyleView",
      "bar_color": null,
      "description_width": ""
     }
    },
    "549ede54aae84bfeb9b6e91b02f4e05a": {
     "model_module": "@jupyter-widgets/controls",
     "model_module_version": "1.5.0",
     "model_name": "ProgressStyleModel",
     "state": {
      "_model_module": "@jupyter-widgets/controls",
      "_model_module_version": "1.5.0",
      "_model_name": "ProgressStyleModel",
      "_view_count": null,
      "_view_module": "@jupyter-widgets/base",
      "_view_module_version": "1.2.0",
      "_view_name": "StyleView",
      "bar_color": null,
      "description_width": ""
     }
    },
    "558ceea9e97f4985be0b1bac59f6c012": {
     "model_module": "@jupyter-widgets/controls",
     "model_module_version": "1.5.0",
     "model_name": "HTMLModel",
     "state": {
      "_dom_classes": [],
      "_model_module": "@jupyter-widgets/controls",
      "_model_module_version": "1.5.0",
      "_model_name": "HTMLModel",
      "_view_count": null,
      "_view_module": "@jupyter-widgets/controls",
      "_view_module_version": "1.5.0",
      "_view_name": "HTMLView",
      "description": "",
      "description_tooltip": null,
      "layout": "IPY_MODEL_b4f8f5ded89240bc815bcc3fa6f8ad43",
      "placeholder": "​",
      "style": "IPY_MODEL_b76bcd7c7ac44afda1bd932f5fd9f29c",
      "value": "special_tokens_map.json: 100%"
     }
    },
    "56072daab6484accb1feee4629ab18a2": {
     "model_module": "@jupyter-widgets/controls",
     "model_module_version": "1.5.0",
     "model_name": "DescriptionStyleModel",
     "state": {
      "_model_module": "@jupyter-widgets/controls",
      "_model_module_version": "1.5.0",
      "_model_name": "DescriptionStyleModel",
      "_view_count": null,
      "_view_module": "@jupyter-widgets/base",
      "_view_module_version": "1.2.0",
      "_view_name": "StyleView",
      "description_width": ""
     }
    },
    "580adaa7b1ae47b79e82cd738eafd66e": {
     "model_module": "@jupyter-widgets/controls",
     "model_module_version": "1.5.0",
     "model_name": "DescriptionStyleModel",
     "state": {
      "_model_module": "@jupyter-widgets/controls",
      "_model_module_version": "1.5.0",
      "_model_name": "DescriptionStyleModel",
      "_view_count": null,
      "_view_module": "@jupyter-widgets/base",
      "_view_module_version": "1.2.0",
      "_view_name": "StyleView",
      "description_width": ""
     }
    },
    "58ab7c25aa9a436781ba2046c9078751": {
     "model_module": "@jupyter-widgets/controls",
     "model_module_version": "1.5.0",
     "model_name": "HTMLModel",
     "state": {
      "_dom_classes": [],
      "_model_module": "@jupyter-widgets/controls",
      "_model_module_version": "1.5.0",
      "_model_name": "HTMLModel",
      "_view_count": null,
      "_view_module": "@jupyter-widgets/controls",
      "_view_module_version": "1.5.0",
      "_view_name": "HTMLView",
      "description": "",
      "description_tooltip": null,
      "layout": "IPY_MODEL_2bcaf316e4ed4aaa87a886b82b992dff",
      "placeholder": "​",
      "style": "IPY_MODEL_bc80962dcc2145f0b9045a25db5d2388",
      "value": "vocab.json: 100%"
     }
    },
    "596ba64234744ae19d3c1c4877ed1d97": {
     "model_module": "@jupyter-widgets/controls",
     "model_module_version": "1.5.0",
     "model_name": "HTMLModel",
     "state": {
      "_dom_classes": [],
      "_model_module": "@jupyter-widgets/controls",
      "_model_module_version": "1.5.0",
      "_model_name": "HTMLModel",
      "_view_count": null,
      "_view_module": "@jupyter-widgets/controls",
      "_view_module_version": "1.5.0",
      "_view_name": "HTMLView",
      "description": "",
      "description_tooltip": null,
      "layout": "IPY_MODEL_acc0d1978c754616b502e74581ad8b3c",
      "placeholder": "​",
      "style": "IPY_MODEL_02ce7fc85b3349748ffdaef784df93ec",
      "value": "pytorch_model.bin: 100%"
     }
    },
    "5afcf5aa63eb4e2597009d8e65b1f6e2": {
     "model_module": "@jupyter-widgets/controls",
     "model_module_version": "1.5.0",
     "model_name": "DescriptionStyleModel",
     "state": {
      "_model_module": "@jupyter-widgets/controls",
      "_model_module_version": "1.5.0",
      "_model_name": "DescriptionStyleModel",
      "_view_count": null,
      "_view_module": "@jupyter-widgets/base",
      "_view_module_version": "1.2.0",
      "_view_name": "StyleView",
      "description_width": ""
     }
    },
    "60c1093e68444d38a870ecd09e364307": {
     "model_module": "@jupyter-widgets/base",
     "model_module_version": "1.2.0",
     "model_name": "LayoutModel",
     "state": {
      "_model_module": "@jupyter-widgets/base",
      "_model_module_version": "1.2.0",
      "_model_name": "LayoutModel",
      "_view_count": null,
      "_view_module": "@jupyter-widgets/base",
      "_view_module_version": "1.2.0",
      "_view_name": "LayoutView",
      "align_content": null,
      "align_items": null,
      "align_self": null,
      "border": null,
      "bottom": null,
      "display": null,
      "flex": null,
      "flex_flow": null,
      "grid_area": null,
      "grid_auto_columns": null,
      "grid_auto_flow": null,
      "grid_auto_rows": null,
      "grid_column": null,
      "grid_gap": null,
      "grid_row": null,
      "grid_template_areas": null,
      "grid_template_columns": null,
      "grid_template_rows": null,
      "height": null,
      "justify_content": null,
      "justify_items": null,
      "left": null,
      "margin": null,
      "max_height": null,
      "max_width": null,
      "min_height": null,
      "min_width": null,
      "object_fit": null,
      "object_position": null,
      "order": null,
      "overflow": null,
      "overflow_x": null,
      "overflow_y": null,
      "padding": null,
      "right": null,
      "top": null,
      "visibility": null,
      "width": null
     }
    },
    "60e61b581d04421688e964ad0899feb0": {
     "model_module": "@jupyter-widgets/base",
     "model_module_version": "1.2.0",
     "model_name": "LayoutModel",
     "state": {
      "_model_module": "@jupyter-widgets/base",
      "_model_module_version": "1.2.0",
      "_model_name": "LayoutModel",
      "_view_count": null,
      "_view_module": "@jupyter-widgets/base",
      "_view_module_version": "1.2.0",
      "_view_name": "LayoutView",
      "align_content": null,
      "align_items": null,
      "align_self": null,
      "border": null,
      "bottom": null,
      "display": null,
      "flex": null,
      "flex_flow": null,
      "grid_area": null,
      "grid_auto_columns": null,
      "grid_auto_flow": null,
      "grid_auto_rows": null,
      "grid_column": null,
      "grid_gap": null,
      "grid_row": null,
      "grid_template_areas": null,
      "grid_template_columns": null,
      "grid_template_rows": null,
      "height": null,
      "justify_content": null,
      "justify_items": null,
      "left": null,
      "margin": null,
      "max_height": null,
      "max_width": null,
      "min_height": null,
      "min_width": null,
      "object_fit": null,
      "object_position": null,
      "order": null,
      "overflow": null,
      "overflow_x": null,
      "overflow_y": null,
      "padding": null,
      "right": null,
      "top": null,
      "visibility": null,
      "width": null
     }
    },
    "6117e8112720475698ced1297cd738ef": {
     "model_module": "@jupyter-widgets/controls",
     "model_module_version": "1.5.0",
     "model_name": "HTMLModel",
     "state": {
      "_dom_classes": [],
      "_model_module": "@jupyter-widgets/controls",
      "_model_module_version": "1.5.0",
      "_model_name": "HTMLModel",
      "_view_count": null,
      "_view_module": "@jupyter-widgets/controls",
      "_view_module_version": "1.5.0",
      "_view_name": "HTMLView",
      "description": "",
      "description_tooltip": null,
      "layout": "IPY_MODEL_d51fc0a242ab48ebb359dbd4497551da",
      "placeholder": "​",
      "style": "IPY_MODEL_9b83045535c046e3844cf5011f44510c",
      "value": "merges.txt: 100%"
     }
    },
    "62a86f814c1d4e27aa49eba81f48c61b": {
     "model_module": "@jupyter-widgets/controls",
     "model_module_version": "1.5.0",
     "model_name": "HBoxModel",
     "state": {
      "_dom_classes": [],
      "_model_module": "@jupyter-widgets/controls",
      "_model_module_version": "1.5.0",
      "_model_name": "HBoxModel",
      "_view_count": null,
      "_view_module": "@jupyter-widgets/controls",
      "_view_module_version": "1.5.0",
      "_view_name": "HBoxView",
      "box_style": "",
      "children": [
       "IPY_MODEL_f737fd4951cb49d683d13d79912708ef",
       "IPY_MODEL_15ee1f1e485b411b9e6f1dbc38128496",
       "IPY_MODEL_e780005794384f24bf4bf3db151bdf02"
      ],
      "layout": "IPY_MODEL_a0f7ba69c3b94300bdbbaa1e7fd54925"
     }
    },
    "6c7efe3ccdce4a90aa7b08f90ae20105": {
     "model_module": "@jupyter-widgets/base",
     "model_module_version": "1.2.0",
     "model_name": "LayoutModel",
     "state": {
      "_model_module": "@jupyter-widgets/base",
      "_model_module_version": "1.2.0",
      "_model_name": "LayoutModel",
      "_view_count": null,
      "_view_module": "@jupyter-widgets/base",
      "_view_module_version": "1.2.0",
      "_view_name": "LayoutView",
      "align_content": null,
      "align_items": null,
      "align_self": null,
      "border": null,
      "bottom": null,
      "display": null,
      "flex": null,
      "flex_flow": null,
      "grid_area": null,
      "grid_auto_columns": null,
      "grid_auto_flow": null,
      "grid_auto_rows": null,
      "grid_column": null,
      "grid_gap": null,
      "grid_row": null,
      "grid_template_areas": null,
      "grid_template_columns": null,
      "grid_template_rows": null,
      "height": null,
      "justify_content": null,
      "justify_items": null,
      "left": null,
      "margin": null,
      "max_height": null,
      "max_width": null,
      "min_height": null,
      "min_width": null,
      "object_fit": null,
      "object_position": null,
      "order": null,
      "overflow": null,
      "overflow_x": null,
      "overflow_y": null,
      "padding": null,
      "right": null,
      "top": null,
      "visibility": null,
      "width": null
     }
    },
    "6d8a5802f988493a87e8a0eccb900a76": {
     "model_module": "@jupyter-widgets/controls",
     "model_module_version": "1.5.0",
     "model_name": "HTMLModel",
     "state": {
      "_dom_classes": [],
      "_model_module": "@jupyter-widgets/controls",
      "_model_module_version": "1.5.0",
      "_model_name": "HTMLModel",
      "_view_count": null,
      "_view_module": "@jupyter-widgets/controls",
      "_view_module_version": "1.5.0",
      "_view_name": "HTMLView",
      "description": "",
      "description_tooltip": null,
      "layout": "IPY_MODEL_844b43d0eb574349b5ec5f687e9dd1bf",
      "placeholder": "​",
      "style": "IPY_MODEL_da80045ed52c493081fee59dea3566c4",
      "value": "tokenizer.json: 100%"
     }
    },
    "6e5352eb42704b33afda792932c2c28c": {
     "model_module": "@jupyter-widgets/controls",
     "model_module_version": "1.5.0",
     "model_name": "DescriptionStyleModel",
     "state": {
      "_model_module": "@jupyter-widgets/controls",
      "_model_module_version": "1.5.0",
      "_model_name": "DescriptionStyleModel",
      "_view_count": null,
      "_view_module": "@jupyter-widgets/base",
      "_view_module_version": "1.2.0",
      "_view_name": "StyleView",
      "description_width": ""
     }
    },
    "6e73416268124e60b22bcf56bbb78505": {
     "model_module": "@jupyter-widgets/controls",
     "model_module_version": "1.5.0",
     "model_name": "HTMLModel",
     "state": {
      "_dom_classes": [],
      "_model_module": "@jupyter-widgets/controls",
      "_model_module_version": "1.5.0",
      "_model_name": "HTMLModel",
      "_view_count": null,
      "_view_module": "@jupyter-widgets/controls",
      "_view_module_version": "1.5.0",
      "_view_name": "HTMLView",
      "description": "",
      "description_tooltip": null,
      "layout": "IPY_MODEL_f0e47b3228ee48a4a321c449c80adc93",
      "placeholder": "​",
      "style": "IPY_MODEL_5afcf5aa63eb4e2597009d8e65b1f6e2",
      "value": " 456k/456k [00:00&lt;00:00, 1.85MB/s]"
     }
    },
    "72a82114c6264e18ac5350525818ad4d": {
     "model_module": "@jupyter-widgets/controls",
     "model_module_version": "1.5.0",
     "model_name": "ProgressStyleModel",
     "state": {
      "_model_module": "@jupyter-widgets/controls",
      "_model_module_version": "1.5.0",
      "_model_name": "ProgressStyleModel",
      "_view_count": null,
      "_view_module": "@jupyter-widgets/base",
      "_view_module_version": "1.2.0",
      "_view_name": "StyleView",
      "bar_color": null,
      "description_width": ""
     }
    },
    "74b14093825944eaa5b78f890078b549": {
     "model_module": "@jupyter-widgets/controls",
     "model_module_version": "1.5.0",
     "model_name": "DescriptionStyleModel",
     "state": {
      "_model_module": "@jupyter-widgets/controls",
      "_model_module_version": "1.5.0",
      "_model_name": "DescriptionStyleModel",
      "_view_count": null,
      "_view_module": "@jupyter-widgets/base",
      "_view_module_version": "1.2.0",
      "_view_name": "StyleView",
      "description_width": ""
     }
    },
    "75e043ac1d3e4d1b9d62f3a63d81ff7f": {
     "model_module": "@jupyter-widgets/controls",
     "model_module_version": "1.5.0",
     "model_name": "HBoxModel",
     "state": {
      "_dom_classes": [],
      "_model_module": "@jupyter-widgets/controls",
      "_model_module_version": "1.5.0",
      "_model_name": "HBoxModel",
      "_view_count": null,
      "_view_module": "@jupyter-widgets/controls",
      "_view_module_version": "1.5.0",
      "_view_name": "HBoxView",
      "box_style": "",
      "children": [
       "IPY_MODEL_596ba64234744ae19d3c1c4877ed1d97",
       "IPY_MODEL_25374bd4558a45aa8e73b4856718f052",
       "IPY_MODEL_a1b254ff499b409bb36b70bf590f773e"
      ],
      "layout": "IPY_MODEL_bccde91d93b446d1a6186a5a5e5fda8c"
     }
    },
    "7b40275c3f78413baf928c6255088b66": {
     "model_module": "@jupyter-widgets/controls",
     "model_module_version": "1.5.0",
     "model_name": "ProgressStyleModel",
     "state": {
      "_model_module": "@jupyter-widgets/controls",
      "_model_module_version": "1.5.0",
      "_model_name": "ProgressStyleModel",
      "_view_count": null,
      "_view_module": "@jupyter-widgets/base",
      "_view_module_version": "1.2.0",
      "_view_name": "StyleView",
      "bar_color": null,
      "description_width": ""
     }
    },
    "7bebef83ab354d739f5c50cf4485fc13": {
     "model_module": "@jupyter-widgets/controls",
     "model_module_version": "1.5.0",
     "model_name": "HBoxModel",
     "state": {
      "_dom_classes": [],
      "_model_module": "@jupyter-widgets/controls",
      "_model_module_version": "1.5.0",
      "_model_name": "HBoxModel",
      "_view_count": null,
      "_view_module": "@jupyter-widgets/controls",
      "_view_module_version": "1.5.0",
      "_view_name": "HBoxView",
      "box_style": "",
      "children": [
       "IPY_MODEL_e70c35c4506f4ba98f60dc1accf87a74",
       "IPY_MODEL_33be06ee718a4d6b8364925542d799ab",
       "IPY_MODEL_2f7dda443c1b4fa68d60edd6d77e419a"
      ],
      "layout": "IPY_MODEL_14d293c7cd8c48c88f4420282b0497dd"
     }
    },
    "7cb04d65a6b64b18a6753611948abb33": {
     "model_module": "@jupyter-widgets/controls",
     "model_module_version": "1.5.0",
     "model_name": "FloatProgressModel",
     "state": {
      "_dom_classes": [],
      "_model_module": "@jupyter-widgets/controls",
      "_model_module_version": "1.5.0",
      "_model_name": "FloatProgressModel",
      "_view_count": null,
      "_view_module": "@jupyter-widgets/controls",
      "_view_module_version": "1.5.0",
      "_view_name": "ProgressView",
      "bar_style": "success",
      "description": "",
      "description_tooltip": null,
      "layout": "IPY_MODEL_bce4d0364c8940129b8b088152a58072",
      "max": 1355863,
      "min": 0,
      "orientation": "horizontal",
      "style": "IPY_MODEL_51e7efe8ef3e4946afd0103f183a0061",
      "value": 1355863
     }
    },
    "844b43d0eb574349b5ec5f687e9dd1bf": {
     "model_module": "@jupyter-widgets/base",
     "model_module_version": "1.2.0",
     "model_name": "LayoutModel",
     "state": {
      "_model_module": "@jupyter-widgets/base",
      "_model_module_version": "1.2.0",
      "_model_name": "LayoutModel",
      "_view_count": null,
      "_view_module": "@jupyter-widgets/base",
      "_view_module_version": "1.2.0",
      "_view_name": "LayoutView",
      "align_content": null,
      "align_items": null,
      "align_self": null,
      "border": null,
      "bottom": null,
      "display": null,
      "flex": null,
      "flex_flow": null,
      "grid_area": null,
      "grid_auto_columns": null,
      "grid_auto_flow": null,
      "grid_auto_rows": null,
      "grid_column": null,
      "grid_gap": null,
      "grid_row": null,
      "grid_template_areas": null,
      "grid_template_columns": null,
      "grid_template_rows": null,
      "height": null,
      "justify_content": null,
      "justify_items": null,
      "left": null,
      "margin": null,
      "max_height": null,
      "max_width": null,
      "min_height": null,
      "min_width": null,
      "object_fit": null,
      "object_position": null,
      "order": null,
      "overflow": null,
      "overflow_x": null,
      "overflow_y": null,
      "padding": null,
      "right": null,
      "top": null,
      "visibility": null,
      "width": null
     }
    },
    "85d9d1c3666b45ef8a7919c9482db884": {
     "model_module": "@jupyter-widgets/base",
     "model_module_version": "1.2.0",
     "model_name": "LayoutModel",
     "state": {
      "_model_module": "@jupyter-widgets/base",
      "_model_module_version": "1.2.0",
      "_model_name": "LayoutModel",
      "_view_count": null,
      "_view_module": "@jupyter-widgets/base",
      "_view_module_version": "1.2.0",
      "_view_name": "LayoutView",
      "align_content": null,
      "align_items": null,
      "align_self": null,
      "border": null,
      "bottom": null,
      "display": null,
      "flex": null,
      "flex_flow": null,
      "grid_area": null,
      "grid_auto_columns": null,
      "grid_auto_flow": null,
      "grid_auto_rows": null,
      "grid_column": null,
      "grid_gap": null,
      "grid_row": null,
      "grid_template_areas": null,
      "grid_template_columns": null,
      "grid_template_rows": null,
      "height": null,
      "justify_content": null,
      "justify_items": null,
      "left": null,
      "margin": null,
      "max_height": null,
      "max_width": null,
      "min_height": null,
      "min_width": null,
      "object_fit": null,
      "object_position": null,
      "order": null,
      "overflow": null,
      "overflow_x": null,
      "overflow_y": null,
      "padding": null,
      "right": null,
      "top": null,
      "visibility": null,
      "width": null
     }
    },
    "89f1cf9bb4924db980fb8352124d14b2": {
     "model_module": "@jupyter-widgets/base",
     "model_module_version": "1.2.0",
     "model_name": "LayoutModel",
     "state": {
      "_model_module": "@jupyter-widgets/base",
      "_model_module_version": "1.2.0",
      "_model_name": "LayoutModel",
      "_view_count": null,
      "_view_module": "@jupyter-widgets/base",
      "_view_module_version": "1.2.0",
      "_view_name": "LayoutView",
      "align_content": null,
      "align_items": null,
      "align_self": null,
      "border": null,
      "bottom": null,
      "display": null,
      "flex": null,
      "flex_flow": null,
      "grid_area": null,
      "grid_auto_columns": null,
      "grid_auto_flow": null,
      "grid_auto_rows": null,
      "grid_column": null,
      "grid_gap": null,
      "grid_row": null,
      "grid_template_areas": null,
      "grid_template_columns": null,
      "grid_template_rows": null,
      "height": null,
      "justify_content": null,
      "justify_items": null,
      "left": null,
      "margin": null,
      "max_height": null,
      "max_width": null,
      "min_height": null,
      "min_width": null,
      "object_fit": null,
      "object_position": null,
      "order": null,
      "overflow": null,
      "overflow_x": null,
      "overflow_y": null,
      "padding": null,
      "right": null,
      "top": null,
      "visibility": null,
      "width": null
     }
    },
    "8cb11246b4834356bd7dce52f5c673e9": {
     "model_module": "@jupyter-widgets/controls",
     "model_module_version": "1.5.0",
     "model_name": "DescriptionStyleModel",
     "state": {
      "_model_module": "@jupyter-widgets/controls",
      "_model_module_version": "1.5.0",
      "_model_name": "DescriptionStyleModel",
      "_view_count": null,
      "_view_module": "@jupyter-widgets/base",
      "_view_module_version": "1.2.0",
      "_view_name": "StyleView",
      "description_width": ""
     }
    },
    "8d572ab25994479eb8479024c9bafe88": {
     "model_module": "@jupyter-widgets/controls",
     "model_module_version": "1.5.0",
     "model_name": "HTMLModel",
     "state": {
      "_dom_classes": [],
      "_model_module": "@jupyter-widgets/controls",
      "_model_module_version": "1.5.0",
      "_model_name": "HTMLModel",
      "_view_count": null,
      "_view_module": "@jupyter-widgets/controls",
      "_view_module_version": "1.5.0",
      "_view_name": "HTMLView",
      "description": "",
      "description_tooltip": null,
      "layout": "IPY_MODEL_a59dd832141b4a5486881e4bc8f19247",
      "placeholder": "​",
      "style": "IPY_MODEL_ed0126d7c5114ae3a79d4ff6d789b43f",
      "value": "merges.txt: 100%"
     }
    },
    "8d688536f04148e987ced87947979103": {
     "model_module": "@jupyter-widgets/base",
     "model_module_version": "1.2.0",
     "model_name": "LayoutModel",
     "state": {
      "_model_module": "@jupyter-widgets/base",
      "_model_module_version": "1.2.0",
      "_model_name": "LayoutModel",
      "_view_count": null,
      "_view_module": "@jupyter-widgets/base",
      "_view_module_version": "1.2.0",
      "_view_name": "LayoutView",
      "align_content": null,
      "align_items": null,
      "align_self": null,
      "border": null,
      "bottom": null,
      "display": null,
      "flex": null,
      "flex_flow": null,
      "grid_area": null,
      "grid_auto_columns": null,
      "grid_auto_flow": null,
      "grid_auto_rows": null,
      "grid_column": null,
      "grid_gap": null,
      "grid_row": null,
      "grid_template_areas": null,
      "grid_template_columns": null,
      "grid_template_rows": null,
      "height": null,
      "justify_content": null,
      "justify_items": null,
      "left": null,
      "margin": null,
      "max_height": null,
      "max_width": null,
      "min_height": null,
      "min_width": null,
      "object_fit": null,
      "object_position": null,
      "order": null,
      "overflow": null,
      "overflow_x": null,
      "overflow_y": null,
      "padding": null,
      "right": null,
      "top": null,
      "visibility": null,
      "width": null
     }
    },
    "9a6b2d006e004448a66c764cabf7bfae": {
     "model_module": "@jupyter-widgets/base",
     "model_module_version": "1.2.0",
     "model_name": "LayoutModel",
     "state": {
      "_model_module": "@jupyter-widgets/base",
      "_model_module_version": "1.2.0",
      "_model_name": "LayoutModel",
      "_view_count": null,
      "_view_module": "@jupyter-widgets/base",
      "_view_module_version": "1.2.0",
      "_view_name": "LayoutView",
      "align_content": null,
      "align_items": null,
      "align_self": null,
      "border": null,
      "bottom": null,
      "display": null,
      "flex": null,
      "flex_flow": null,
      "grid_area": null,
      "grid_auto_columns": null,
      "grid_auto_flow": null,
      "grid_auto_rows": null,
      "grid_column": null,
      "grid_gap": null,
      "grid_row": null,
      "grid_template_areas": null,
      "grid_template_columns": null,
      "grid_template_rows": null,
      "height": null,
      "justify_content": null,
      "justify_items": null,
      "left": null,
      "margin": null,
      "max_height": null,
      "max_width": null,
      "min_height": null,
      "min_width": null,
      "object_fit": null,
      "object_position": null,
      "order": null,
      "overflow": null,
      "overflow_x": null,
      "overflow_y": null,
      "padding": null,
      "right": null,
      "top": null,
      "visibility": null,
      "width": null
     }
    },
    "9b83045535c046e3844cf5011f44510c": {
     "model_module": "@jupyter-widgets/controls",
     "model_module_version": "1.5.0",
     "model_name": "DescriptionStyleModel",
     "state": {
      "_model_module": "@jupyter-widgets/controls",
      "_model_module_version": "1.5.0",
      "_model_name": "DescriptionStyleModel",
      "_view_count": null,
      "_view_module": "@jupyter-widgets/base",
      "_view_module_version": "1.2.0",
      "_view_name": "StyleView",
      "description_width": ""
     }
    },
    "9e608ffc047242569668657aebf4a396": {
     "model_module": "@jupyter-widgets/base",
     "model_module_version": "1.2.0",
     "model_name": "LayoutModel",
     "state": {
      "_model_module": "@jupyter-widgets/base",
      "_model_module_version": "1.2.0",
      "_model_name": "LayoutModel",
      "_view_count": null,
      "_view_module": "@jupyter-widgets/base",
      "_view_module_version": "1.2.0",
      "_view_name": "LayoutView",
      "align_content": null,
      "align_items": null,
      "align_self": null,
      "border": null,
      "bottom": null,
      "display": null,
      "flex": null,
      "flex_flow": null,
      "grid_area": null,
      "grid_auto_columns": null,
      "grid_auto_flow": null,
      "grid_auto_rows": null,
      "grid_column": null,
      "grid_gap": null,
      "grid_row": null,
      "grid_template_areas": null,
      "grid_template_columns": null,
      "grid_template_rows": null,
      "height": null,
      "justify_content": null,
      "justify_items": null,
      "left": null,
      "margin": null,
      "max_height": null,
      "max_width": null,
      "min_height": null,
      "min_width": null,
      "object_fit": null,
      "object_position": null,
      "order": null,
      "overflow": null,
      "overflow_x": null,
      "overflow_y": null,
      "padding": null,
      "right": null,
      "top": null,
      "visibility": null,
      "width": null
     }
    },
    "9fd25ed61469415aa2e3012bb9646f91": {
     "model_module": "@jupyter-widgets/controls",
     "model_module_version": "1.5.0",
     "model_name": "HTMLModel",
     "state": {
      "_dom_classes": [],
      "_model_module": "@jupyter-widgets/controls",
      "_model_module_version": "1.5.0",
      "_model_name": "HTMLModel",
      "_view_count": null,
      "_view_module": "@jupyter-widgets/controls",
      "_view_module_version": "1.5.0",
      "_view_name": "HTMLView",
      "description": "",
      "description_tooltip": null,
      "layout": "IPY_MODEL_34b3c097a0894da280bfb4014e1fce13",
      "placeholder": "​",
      "style": "IPY_MODEL_ae388253aef24419b6b1c5c048646ffe",
      "value": "model.safetensors: 100%"
     }
    },
    "a0f7ba69c3b94300bdbbaa1e7fd54925": {
     "model_module": "@jupyter-widgets/base",
     "model_module_version": "1.2.0",
     "model_name": "LayoutModel",
     "state": {
      "_model_module": "@jupyter-widgets/base",
      "_model_module_version": "1.2.0",
      "_model_name": "LayoutModel",
      "_view_count": null,
      "_view_module": "@jupyter-widgets/base",
      "_view_module_version": "1.2.0",
      "_view_name": "LayoutView",
      "align_content": null,
      "align_items": null,
      "align_self": null,
      "border": null,
      "bottom": null,
      "display": null,
      "flex": null,
      "flex_flow": null,
      "grid_area": null,
      "grid_auto_columns": null,
      "grid_auto_flow": null,
      "grid_auto_rows": null,
      "grid_column": null,
      "grid_gap": null,
      "grid_row": null,
      "grid_template_areas": null,
      "grid_template_columns": null,
      "grid_template_rows": null,
      "height": null,
      "justify_content": null,
      "justify_items": null,
      "left": null,
      "margin": null,
      "max_height": null,
      "max_width": null,
      "min_height": null,
      "min_width": null,
      "object_fit": null,
      "object_position": null,
      "order": null,
      "overflow": null,
      "overflow_x": null,
      "overflow_y": null,
      "padding": null,
      "right": null,
      "top": null,
      "visibility": null,
      "width": null
     }
    },
    "a1b254ff499b409bb36b70bf590f773e": {
     "model_module": "@jupyter-widgets/controls",
     "model_module_version": "1.5.0",
     "model_name": "HTMLModel",
     "state": {
      "_dom_classes": [],
      "_model_module": "@jupyter-widgets/controls",
      "_model_module_version": "1.5.0",
      "_model_name": "HTMLModel",
      "_view_count": null,
      "_view_module": "@jupyter-widgets/controls",
      "_view_module_version": "1.5.0",
      "_view_name": "HTMLView",
      "description": "",
      "description_tooltip": null,
      "layout": "IPY_MODEL_a8db490de088418593593d5ad01e3e21",
      "placeholder": "​",
      "style": "IPY_MODEL_46f9de1f8af94ab8a920296675575397",
      "value": " 499M/499M [00:01&lt;00:00, 289MB/s]"
     }
    },
    "a59dd832141b4a5486881e4bc8f19247": {
     "model_module": "@jupyter-widgets/base",
     "model_module_version": "1.2.0",
     "model_name": "LayoutModel",
     "state": {
      "_model_module": "@jupyter-widgets/base",
      "_model_module_version": "1.2.0",
      "_model_name": "LayoutModel",
      "_view_count": null,
      "_view_module": "@jupyter-widgets/base",
      "_view_module_version": "1.2.0",
      "_view_name": "LayoutView",
      "align_content": null,
      "align_items": null,
      "align_self": null,
      "border": null,
      "bottom": null,
      "display": null,
      "flex": null,
      "flex_flow": null,
      "grid_area": null,
      "grid_auto_columns": null,
      "grid_auto_flow": null,
      "grid_auto_rows": null,
      "grid_column": null,
      "grid_gap": null,
      "grid_row": null,
      "grid_template_areas": null,
      "grid_template_columns": null,
      "grid_template_rows": null,
      "height": null,
      "justify_content": null,
      "justify_items": null,
      "left": null,
      "margin": null,
      "max_height": null,
      "max_width": null,
      "min_height": null,
      "min_width": null,
      "object_fit": null,
      "object_position": null,
      "order": null,
      "overflow": null,
      "overflow_x": null,
      "overflow_y": null,
      "padding": null,
      "right": null,
      "top": null,
      "visibility": null,
      "width": null
     }
    },
    "a8b96e0989d14f9a9a82b9670eaf58a5": {
     "model_module": "@jupyter-widgets/controls",
     "model_module_version": "1.5.0",
     "model_name": "ProgressStyleModel",
     "state": {
      "_model_module": "@jupyter-widgets/controls",
      "_model_module_version": "1.5.0",
      "_model_name": "ProgressStyleModel",
      "_view_count": null,
      "_view_module": "@jupyter-widgets/base",
      "_view_module_version": "1.2.0",
      "_view_name": "StyleView",
      "bar_color": null,
      "description_width": ""
     }
    },
    "a8db490de088418593593d5ad01e3e21": {
     "model_module": "@jupyter-widgets/base",
     "model_module_version": "1.2.0",
     "model_name": "LayoutModel",
     "state": {
      "_model_module": "@jupyter-widgets/base",
      "_model_module_version": "1.2.0",
      "_model_name": "LayoutModel",
      "_view_count": null,
      "_view_module": "@jupyter-widgets/base",
      "_view_module_version": "1.2.0",
      "_view_name": "LayoutView",
      "align_content": null,
      "align_items": null,
      "align_self": null,
      "border": null,
      "bottom": null,
      "display": null,
      "flex": null,
      "flex_flow": null,
      "grid_area": null,
      "grid_auto_columns": null,
      "grid_auto_flow": null,
      "grid_auto_rows": null,
      "grid_column": null,
      "grid_gap": null,
      "grid_row": null,
      "grid_template_areas": null,
      "grid_template_columns": null,
      "grid_template_rows": null,
      "height": null,
      "justify_content": null,
      "justify_items": null,
      "left": null,
      "margin": null,
      "max_height": null,
      "max_width": null,
      "min_height": null,
      "min_width": null,
      "object_fit": null,
      "object_position": null,
      "order": null,
      "overflow": null,
      "overflow_x": null,
      "overflow_y": null,
      "padding": null,
      "right": null,
      "top": null,
      "visibility": null,
      "width": null
     }
    },
    "acc0d1978c754616b502e74581ad8b3c": {
     "model_module": "@jupyter-widgets/base",
     "model_module_version": "1.2.0",
     "model_name": "LayoutModel",
     "state": {
      "_model_module": "@jupyter-widgets/base",
      "_model_module_version": "1.2.0",
      "_model_name": "LayoutModel",
      "_view_count": null,
      "_view_module": "@jupyter-widgets/base",
      "_view_module_version": "1.2.0",
      "_view_name": "LayoutView",
      "align_content": null,
      "align_items": null,
      "align_self": null,
      "border": null,
      "bottom": null,
      "display": null,
      "flex": null,
      "flex_flow": null,
      "grid_area": null,
      "grid_auto_columns": null,
      "grid_auto_flow": null,
      "grid_auto_rows": null,
      "grid_column": null,
      "grid_gap": null,
      "grid_row": null,
      "grid_template_areas": null,
      "grid_template_columns": null,
      "grid_template_rows": null,
      "height": null,
      "justify_content": null,
      "justify_items": null,
      "left": null,
      "margin": null,
      "max_height": null,
      "max_width": null,
      "min_height": null,
      "min_width": null,
      "object_fit": null,
      "object_position": null,
      "order": null,
      "overflow": null,
      "overflow_x": null,
      "overflow_y": null,
      "padding": null,
      "right": null,
      "top": null,
      "visibility": null,
      "width": null
     }
    },
    "ae388253aef24419b6b1c5c048646ffe": {
     "model_module": "@jupyter-widgets/controls",
     "model_module_version": "1.5.0",
     "model_name": "DescriptionStyleModel",
     "state": {
      "_model_module": "@jupyter-widgets/controls",
      "_model_module_version": "1.5.0",
      "_model_name": "DescriptionStyleModel",
      "_view_count": null,
      "_view_module": "@jupyter-widgets/base",
      "_view_module_version": "1.2.0",
      "_view_name": "StyleView",
      "description_width": ""
     }
    },
    "aff64d4354a94ffcae26b6a11c00d66f": {
     "model_module": "@jupyter-widgets/base",
     "model_module_version": "1.2.0",
     "model_name": "LayoutModel",
     "state": {
      "_model_module": "@jupyter-widgets/base",
      "_model_module_version": "1.2.0",
      "_model_name": "LayoutModel",
      "_view_count": null,
      "_view_module": "@jupyter-widgets/base",
      "_view_module_version": "1.2.0",
      "_view_name": "LayoutView",
      "align_content": null,
      "align_items": null,
      "align_self": null,
      "border": null,
      "bottom": null,
      "display": null,
      "flex": null,
      "flex_flow": null,
      "grid_area": null,
      "grid_auto_columns": null,
      "grid_auto_flow": null,
      "grid_auto_rows": null,
      "grid_column": null,
      "grid_gap": null,
      "grid_row": null,
      "grid_template_areas": null,
      "grid_template_columns": null,
      "grid_template_rows": null,
      "height": null,
      "justify_content": null,
      "justify_items": null,
      "left": null,
      "margin": null,
      "max_height": null,
      "max_width": null,
      "min_height": null,
      "min_width": null,
      "object_fit": null,
      "object_position": null,
      "order": null,
      "overflow": null,
      "overflow_x": null,
      "overflow_y": null,
      "padding": null,
      "right": null,
      "top": null,
      "visibility": null,
      "width": null
     }
    },
    "b006be614c90462387624505135480fc": {
     "model_module": "@jupyter-widgets/base",
     "model_module_version": "1.2.0",
     "model_name": "LayoutModel",
     "state": {
      "_model_module": "@jupyter-widgets/base",
      "_model_module_version": "1.2.0",
      "_model_name": "LayoutModel",
      "_view_count": null,
      "_view_module": "@jupyter-widgets/base",
      "_view_module_version": "1.2.0",
      "_view_name": "LayoutView",
      "align_content": null,
      "align_items": null,
      "align_self": null,
      "border": null,
      "bottom": null,
      "display": null,
      "flex": null,
      "flex_flow": null,
      "grid_area": null,
      "grid_auto_columns": null,
      "grid_auto_flow": null,
      "grid_auto_rows": null,
      "grid_column": null,
      "grid_gap": null,
      "grid_row": null,
      "grid_template_areas": null,
      "grid_template_columns": null,
      "grid_template_rows": null,
      "height": null,
      "justify_content": null,
      "justify_items": null,
      "left": null,
      "margin": null,
      "max_height": null,
      "max_width": null,
      "min_height": null,
      "min_width": null,
      "object_fit": null,
      "object_position": null,
      "order": null,
      "overflow": null,
      "overflow_x": null,
      "overflow_y": null,
      "padding": null,
      "right": null,
      "top": null,
      "visibility": null,
      "width": null
     }
    },
    "b0c2976bf0584baf842d53438b9cbc9f": {
     "model_module": "@jupyter-widgets/controls",
     "model_module_version": "1.5.0",
     "model_name": "HTMLModel",
     "state": {
      "_dom_classes": [],
      "_model_module": "@jupyter-widgets/controls",
      "_model_module_version": "1.5.0",
      "_model_name": "HTMLModel",
      "_view_count": null,
      "_view_module": "@jupyter-widgets/controls",
      "_view_module_version": "1.5.0",
      "_view_name": "HTMLView",
      "description": "",
      "description_tooltip": null,
      "layout": "IPY_MODEL_89f1cf9bb4924db980fb8352124d14b2",
      "placeholder": "​",
      "style": "IPY_MODEL_d076dc5ede304ae987501a24c681b0a6",
      "value": " 150/150 [00:00&lt;00:00, 9.20kB/s]"
     }
    },
    "b2059dc98680419d8ea6aa46a82f3973": {
     "model_module": "@jupyter-widgets/controls",
     "model_module_version": "1.5.0",
     "model_name": "FloatProgressModel",
     "state": {
      "_dom_classes": [],
      "_model_module": "@jupyter-widgets/controls",
      "_model_module_version": "1.5.0",
      "_model_name": "FloatProgressModel",
      "_view_count": null,
      "_view_module": "@jupyter-widgets/controls",
      "_view_module_version": "1.5.0",
      "_view_name": "ProgressView",
      "bar_style": "success",
      "description": "",
      "description_tooltip": null,
      "layout": "IPY_MODEL_e87ea3d90f8448c8aa352821b6a39bf6",
      "max": 898823,
      "min": 0,
      "orientation": "horizontal",
      "style": "IPY_MODEL_549ede54aae84bfeb9b6e91b02f4e05a",
      "value": 898823
     }
    },
    "b4f8f5ded89240bc815bcc3fa6f8ad43": {
     "model_module": "@jupyter-widgets/base",
     "model_module_version": "1.2.0",
     "model_name": "LayoutModel",
     "state": {
      "_model_module": "@jupyter-widgets/base",
      "_model_module_version": "1.2.0",
      "_model_name": "LayoutModel",
      "_view_count": null,
      "_view_module": "@jupyter-widgets/base",
      "_view_module_version": "1.2.0",
      "_view_name": "LayoutView",
      "align_content": null,
      "align_items": null,
      "align_self": null,
      "border": null,
      "bottom": null,
      "display": null,
      "flex": null,
      "flex_flow": null,
      "grid_area": null,
      "grid_auto_columns": null,
      "grid_auto_flow": null,
      "grid_auto_rows": null,
      "grid_column": null,
      "grid_gap": null,
      "grid_row": null,
      "grid_template_areas": null,
      "grid_template_columns": null,
      "grid_template_rows": null,
      "height": null,
      "justify_content": null,
      "justify_items": null,
      "left": null,
      "margin": null,
      "max_height": null,
      "max_width": null,
      "min_height": null,
      "min_width": null,
      "object_fit": null,
      "object_position": null,
      "order": null,
      "overflow": null,
      "overflow_x": null,
      "overflow_y": null,
      "padding": null,
      "right": null,
      "top": null,
      "visibility": null,
      "width": null
     }
    },
    "b54a8b1c7b0244bc96a6d7f2cdf6e794": {
     "model_module": "@jupyter-widgets/controls",
     "model_module_version": "1.5.0",
     "model_name": "ProgressStyleModel",
     "state": {
      "_model_module": "@jupyter-widgets/controls",
      "_model_module_version": "1.5.0",
      "_model_name": "ProgressStyleModel",
      "_view_count": null,
      "_view_module": "@jupyter-widgets/base",
      "_view_module_version": "1.2.0",
      "_view_name": "StyleView",
      "bar_color": null,
      "description_width": ""
     }
    },
    "b76bcd7c7ac44afda1bd932f5fd9f29c": {
     "model_module": "@jupyter-widgets/controls",
     "model_module_version": "1.5.0",
     "model_name": "DescriptionStyleModel",
     "state": {
      "_model_module": "@jupyter-widgets/controls",
      "_model_module_version": "1.5.0",
      "_model_name": "DescriptionStyleModel",
      "_view_count": null,
      "_view_module": "@jupyter-widgets/base",
      "_view_module_version": "1.2.0",
      "_view_name": "StyleView",
      "description_width": ""
     }
    },
    "b8bb04634f804a4fa9a7076ab8031b81": {
     "model_module": "@jupyter-widgets/controls",
     "model_module_version": "1.5.0",
     "model_name": "DescriptionStyleModel",
     "state": {
      "_model_module": "@jupyter-widgets/controls",
      "_model_module_version": "1.5.0",
      "_model_name": "DescriptionStyleModel",
      "_view_count": null,
      "_view_module": "@jupyter-widgets/base",
      "_view_module_version": "1.2.0",
      "_view_name": "StyleView",
      "description_width": ""
     }
    },
    "b936c5d418484f5a98a6a9356d2d580b": {
     "model_module": "@jupyter-widgets/base",
     "model_module_version": "1.2.0",
     "model_name": "LayoutModel",
     "state": {
      "_model_module": "@jupyter-widgets/base",
      "_model_module_version": "1.2.0",
      "_model_name": "LayoutModel",
      "_view_count": null,
      "_view_module": "@jupyter-widgets/base",
      "_view_module_version": "1.2.0",
      "_view_name": "LayoutView",
      "align_content": null,
      "align_items": null,
      "align_self": null,
      "border": null,
      "bottom": null,
      "display": null,
      "flex": null,
      "flex_flow": null,
      "grid_area": null,
      "grid_auto_columns": null,
      "grid_auto_flow": null,
      "grid_auto_rows": null,
      "grid_column": null,
      "grid_gap": null,
      "grid_row": null,
      "grid_template_areas": null,
      "grid_template_columns": null,
      "grid_template_rows": null,
      "height": null,
      "justify_content": null,
      "justify_items": null,
      "left": null,
      "margin": null,
      "max_height": null,
      "max_width": null,
      "min_height": null,
      "min_width": null,
      "object_fit": null,
      "object_position": null,
      "order": null,
      "overflow": null,
      "overflow_x": null,
      "overflow_y": null,
      "padding": null,
      "right": null,
      "top": null,
      "visibility": null,
      "width": null
     }
    },
    "bb4389bb55a44aeba458c6e116af35be": {
     "model_module": "@jupyter-widgets/base",
     "model_module_version": "1.2.0",
     "model_name": "LayoutModel",
     "state": {
      "_model_module": "@jupyter-widgets/base",
      "_model_module_version": "1.2.0",
      "_model_name": "LayoutModel",
      "_view_count": null,
      "_view_module": "@jupyter-widgets/base",
      "_view_module_version": "1.2.0",
      "_view_name": "LayoutView",
      "align_content": null,
      "align_items": null,
      "align_self": null,
      "border": null,
      "bottom": null,
      "display": null,
      "flex": null,
      "flex_flow": null,
      "grid_area": null,
      "grid_auto_columns": null,
      "grid_auto_flow": null,
      "grid_auto_rows": null,
      "grid_column": null,
      "grid_gap": null,
      "grid_row": null,
      "grid_template_areas": null,
      "grid_template_columns": null,
      "grid_template_rows": null,
      "height": null,
      "justify_content": null,
      "justify_items": null,
      "left": null,
      "margin": null,
      "max_height": null,
      "max_width": null,
      "min_height": null,
      "min_width": null,
      "object_fit": null,
      "object_position": null,
      "order": null,
      "overflow": null,
      "overflow_x": null,
      "overflow_y": null,
      "padding": null,
      "right": null,
      "top": null,
      "visibility": null,
      "width": null
     }
    },
    "bc80962dcc2145f0b9045a25db5d2388": {
     "model_module": "@jupyter-widgets/controls",
     "model_module_version": "1.5.0",
     "model_name": "DescriptionStyleModel",
     "state": {
      "_model_module": "@jupyter-widgets/controls",
      "_model_module_version": "1.5.0",
      "_model_name": "DescriptionStyleModel",
      "_view_count": null,
      "_view_module": "@jupyter-widgets/base",
      "_view_module_version": "1.2.0",
      "_view_name": "StyleView",
      "description_width": ""
     }
    },
    "bccde91d93b446d1a6186a5a5e5fda8c": {
     "model_module": "@jupyter-widgets/base",
     "model_module_version": "1.2.0",
     "model_name": "LayoutModel",
     "state": {
      "_model_module": "@jupyter-widgets/base",
      "_model_module_version": "1.2.0",
      "_model_name": "LayoutModel",
      "_view_count": null,
      "_view_module": "@jupyter-widgets/base",
      "_view_module_version": "1.2.0",
      "_view_name": "LayoutView",
      "align_content": null,
      "align_items": null,
      "align_self": null,
      "border": null,
      "bottom": null,
      "display": null,
      "flex": null,
      "flex_flow": null,
      "grid_area": null,
      "grid_auto_columns": null,
      "grid_auto_flow": null,
      "grid_auto_rows": null,
      "grid_column": null,
      "grid_gap": null,
      "grid_row": null,
      "grid_template_areas": null,
      "grid_template_columns": null,
      "grid_template_rows": null,
      "height": null,
      "justify_content": null,
      "justify_items": null,
      "left": null,
      "margin": null,
      "max_height": null,
      "max_width": null,
      "min_height": null,
      "min_width": null,
      "object_fit": null,
      "object_position": null,
      "order": null,
      "overflow": null,
      "overflow_x": null,
      "overflow_y": null,
      "padding": null,
      "right": null,
      "top": null,
      "visibility": null,
      "width": null
     }
    },
    "bce4d0364c8940129b8b088152a58072": {
     "model_module": "@jupyter-widgets/base",
     "model_module_version": "1.2.0",
     "model_name": "LayoutModel",
     "state": {
      "_model_module": "@jupyter-widgets/base",
      "_model_module_version": "1.2.0",
      "_model_name": "LayoutModel",
      "_view_count": null,
      "_view_module": "@jupyter-widgets/base",
      "_view_module_version": "1.2.0",
      "_view_name": "LayoutView",
      "align_content": null,
      "align_items": null,
      "align_self": null,
      "border": null,
      "bottom": null,
      "display": null,
      "flex": null,
      "flex_flow": null,
      "grid_area": null,
      "grid_auto_columns": null,
      "grid_auto_flow": null,
      "grid_auto_rows": null,
      "grid_column": null,
      "grid_gap": null,
      "grid_row": null,
      "grid_template_areas": null,
      "grid_template_columns": null,
      "grid_template_rows": null,
      "height": null,
      "justify_content": null,
      "justify_items": null,
      "left": null,
      "margin": null,
      "max_height": null,
      "max_width": null,
      "min_height": null,
      "min_width": null,
      "object_fit": null,
      "object_position": null,
      "order": null,
      "overflow": null,
      "overflow_x": null,
      "overflow_y": null,
      "padding": null,
      "right": null,
      "top": null,
      "visibility": null,
      "width": null
     }
    },
    "be2cd7ad519245e29d52882919a5c752": {
     "model_module": "@jupyter-widgets/base",
     "model_module_version": "1.2.0",
     "model_name": "LayoutModel",
     "state": {
      "_model_module": "@jupyter-widgets/base",
      "_model_module_version": "1.2.0",
      "_model_name": "LayoutModel",
      "_view_count": null,
      "_view_module": "@jupyter-widgets/base",
      "_view_module_version": "1.2.0",
      "_view_name": "LayoutView",
      "align_content": null,
      "align_items": null,
      "align_self": null,
      "border": null,
      "bottom": null,
      "display": null,
      "flex": null,
      "flex_flow": null,
      "grid_area": null,
      "grid_auto_columns": null,
      "grid_auto_flow": null,
      "grid_auto_rows": null,
      "grid_column": null,
      "grid_gap": null,
      "grid_row": null,
      "grid_template_areas": null,
      "grid_template_columns": null,
      "grid_template_rows": null,
      "height": null,
      "justify_content": null,
      "justify_items": null,
      "left": null,
      "margin": null,
      "max_height": null,
      "max_width": null,
      "min_height": null,
      "min_width": null,
      "object_fit": null,
      "object_position": null,
      "order": null,
      "overflow": null,
      "overflow_x": null,
      "overflow_y": null,
      "padding": null,
      "right": null,
      "top": null,
      "visibility": null,
      "width": null
     }
    },
    "c06a1d2e818e4c76bdf8731102aa681b": {
     "model_module": "@jupyter-widgets/controls",
     "model_module_version": "1.5.0",
     "model_name": "FloatProgressModel",
     "state": {
      "_dom_classes": [],
      "_model_module": "@jupyter-widgets/controls",
      "_model_module_version": "1.5.0",
      "_model_name": "FloatProgressModel",
      "_view_count": null,
      "_view_module": "@jupyter-widgets/controls",
      "_view_module_version": "1.5.0",
      "_view_name": "ProgressView",
      "bar_style": "success",
      "description": "",
      "description_tooltip": null,
      "layout": "IPY_MODEL_bb4389bb55a44aeba458c6e116af35be",
      "max": 481,
      "min": 0,
      "orientation": "horizontal",
      "style": "IPY_MODEL_72a82114c6264e18ac5350525818ad4d",
      "value": 481
     }
    },
    "c2e24252c250462a93199745f1f8c1f6": {
     "model_module": "@jupyter-widgets/controls",
     "model_module_version": "1.5.0",
     "model_name": "ProgressStyleModel",
     "state": {
      "_model_module": "@jupyter-widgets/controls",
      "_model_module_version": "1.5.0",
      "_model_name": "ProgressStyleModel",
      "_view_count": null,
      "_view_module": "@jupyter-widgets/base",
      "_view_module_version": "1.2.0",
      "_view_name": "StyleView",
      "bar_color": null,
      "description_width": ""
     }
    },
    "c2e7dd12917046e189356196838d6fae": {
     "model_module": "@jupyter-widgets/controls",
     "model_module_version": "1.5.0",
     "model_name": "FloatProgressModel",
     "state": {
      "_dom_classes": [],
      "_model_module": "@jupyter-widgets/controls",
      "_model_module_version": "1.5.0",
      "_model_name": "FloatProgressModel",
      "_view_count": null,
      "_view_module": "@jupyter-widgets/controls",
      "_view_module_version": "1.5.0",
      "_view_name": "ProgressView",
      "bar_style": "success",
      "description": "",
      "description_tooltip": null,
      "layout": "IPY_MODEL_b936c5d418484f5a98a6a9356d2d580b",
      "max": 898822,
      "min": 0,
      "orientation": "horizontal",
      "style": "IPY_MODEL_a8b96e0989d14f9a9a82b9670eaf58a5",
      "value": 898822
     }
    },
    "c796ec71e7f34e2d98683646d87a568f": {
     "model_module": "@jupyter-widgets/base",
     "model_module_version": "1.2.0",
     "model_name": "LayoutModel",
     "state": {
      "_model_module": "@jupyter-widgets/base",
      "_model_module_version": "1.2.0",
      "_model_name": "LayoutModel",
      "_view_count": null,
      "_view_module": "@jupyter-widgets/base",
      "_view_module_version": "1.2.0",
      "_view_name": "LayoutView",
      "align_content": null,
      "align_items": null,
      "align_self": null,
      "border": null,
      "bottom": null,
      "display": null,
      "flex": null,
      "flex_flow": null,
      "grid_area": null,
      "grid_auto_columns": null,
      "grid_auto_flow": null,
      "grid_auto_rows": null,
      "grid_column": null,
      "grid_gap": null,
      "grid_row": null,
      "grid_template_areas": null,
      "grid_template_columns": null,
      "grid_template_rows": null,
      "height": null,
      "justify_content": null,
      "justify_items": null,
      "left": null,
      "margin": null,
      "max_height": null,
      "max_width": null,
      "min_height": null,
      "min_width": null,
      "object_fit": null,
      "object_position": null,
      "order": null,
      "overflow": null,
      "overflow_x": null,
      "overflow_y": null,
      "padding": null,
      "right": null,
      "top": null,
      "visibility": null,
      "width": null
     }
    },
    "cd4a6c3ef4e5430d9ebb394aefe804ff": {
     "model_module": "@jupyter-widgets/base",
     "model_module_version": "1.2.0",
     "model_name": "LayoutModel",
     "state": {
      "_model_module": "@jupyter-widgets/base",
      "_model_module_version": "1.2.0",
      "_model_name": "LayoutModel",
      "_view_count": null,
      "_view_module": "@jupyter-widgets/base",
      "_view_module_version": "1.2.0",
      "_view_name": "LayoutView",
      "align_content": null,
      "align_items": null,
      "align_self": null,
      "border": null,
      "bottom": null,
      "display": null,
      "flex": null,
      "flex_flow": null,
      "grid_area": null,
      "grid_auto_columns": null,
      "grid_auto_flow": null,
      "grid_auto_rows": null,
      "grid_column": null,
      "grid_gap": null,
      "grid_row": null,
      "grid_template_areas": null,
      "grid_template_columns": null,
      "grid_template_rows": null,
      "height": null,
      "justify_content": null,
      "justify_items": null,
      "left": null,
      "margin": null,
      "max_height": null,
      "max_width": null,
      "min_height": null,
      "min_width": null,
      "object_fit": null,
      "object_position": null,
      "order": null,
      "overflow": null,
      "overflow_x": null,
      "overflow_y": null,
      "padding": null,
      "right": null,
      "top": null,
      "visibility": null,
      "width": null
     }
    },
    "ce568adf1a0b47788b43eec4b93a37ec": {
     "model_module": "@jupyter-widgets/base",
     "model_module_version": "1.2.0",
     "model_name": "LayoutModel",
     "state": {
      "_model_module": "@jupyter-widgets/base",
      "_model_module_version": "1.2.0",
      "_model_name": "LayoutModel",
      "_view_count": null,
      "_view_module": "@jupyter-widgets/base",
      "_view_module_version": "1.2.0",
      "_view_name": "LayoutView",
      "align_content": null,
      "align_items": null,
      "align_self": null,
      "border": null,
      "bottom": null,
      "display": null,
      "flex": null,
      "flex_flow": null,
      "grid_area": null,
      "grid_auto_columns": null,
      "grid_auto_flow": null,
      "grid_auto_rows": null,
      "grid_column": null,
      "grid_gap": null,
      "grid_row": null,
      "grid_template_areas": null,
      "grid_template_columns": null,
      "grid_template_rows": null,
      "height": null,
      "justify_content": null,
      "justify_items": null,
      "left": null,
      "margin": null,
      "max_height": null,
      "max_width": null,
      "min_height": null,
      "min_width": null,
      "object_fit": null,
      "object_position": null,
      "order": null,
      "overflow": null,
      "overflow_x": null,
      "overflow_y": null,
      "padding": null,
      "right": null,
      "top": null,
      "visibility": null,
      "width": null
     }
    },
    "cf5d1f0f82434135a5b220ea62db4b30": {
     "model_module": "@jupyter-widgets/controls",
     "model_module_version": "1.5.0",
     "model_name": "DescriptionStyleModel",
     "state": {
      "_model_module": "@jupyter-widgets/controls",
      "_model_module_version": "1.5.0",
      "_model_name": "DescriptionStyleModel",
      "_view_count": null,
      "_view_module": "@jupyter-widgets/base",
      "_view_module_version": "1.2.0",
      "_view_name": "StyleView",
      "description_width": ""
     }
    },
    "d076dc5ede304ae987501a24c681b0a6": {
     "model_module": "@jupyter-widgets/controls",
     "model_module_version": "1.5.0",
     "model_name": "DescriptionStyleModel",
     "state": {
      "_model_module": "@jupyter-widgets/controls",
      "_model_module_version": "1.5.0",
      "_model_name": "DescriptionStyleModel",
      "_view_count": null,
      "_view_module": "@jupyter-widgets/base",
      "_view_module_version": "1.2.0",
      "_view_name": "StyleView",
      "description_width": ""
     }
    },
    "d0eeab89dadb482b825eccdd0b848bb9": {
     "model_module": "@jupyter-widgets/controls",
     "model_module_version": "1.5.0",
     "model_name": "FloatProgressModel",
     "state": {
      "_dom_classes": [],
      "_model_module": "@jupyter-widgets/controls",
      "_model_module_version": "1.5.0",
      "_model_name": "FloatProgressModel",
      "_view_count": null,
      "_view_module": "@jupyter-widgets/controls",
      "_view_module_version": "1.5.0",
      "_view_name": "ProgressView",
      "bar_style": "success",
      "description": "",
      "description_tooltip": null,
      "layout": "IPY_MODEL_ce568adf1a0b47788b43eec4b93a37ec",
      "max": 498818054,
      "min": 0,
      "orientation": "horizontal",
      "style": "IPY_MODEL_41577d5646af4009b0d4787e3c0122ef",
      "value": 498818054
     }
    },
    "d35a2ca25c0f45cba1604eed6e699a08": {
     "model_module": "@jupyter-widgets/controls",
     "model_module_version": "1.5.0",
     "model_name": "FloatProgressModel",
     "state": {
      "_dom_classes": [],
      "_model_module": "@jupyter-widgets/controls",
      "_model_module_version": "1.5.0",
      "_model_name": "FloatProgressModel",
      "_view_count": null,
      "_view_module": "@jupyter-widgets/controls",
      "_view_module_version": "1.5.0",
      "_view_name": "ProgressView",
      "bar_style": "success",
      "description": "",
      "description_tooltip": null,
      "layout": "IPY_MODEL_fe98f1d0f6c04361823e7c57d7c818d7",
      "max": 150,
      "min": 0,
      "orientation": "horizontal",
      "style": "IPY_MODEL_0c3e6a4dcfd04624af4051fb1ad0955f",
      "value": 150
     }
    },
    "d51fc0a242ab48ebb359dbd4497551da": {
     "model_module": "@jupyter-widgets/base",
     "model_module_version": "1.2.0",
     "model_name": "LayoutModel",
     "state": {
      "_model_module": "@jupyter-widgets/base",
      "_model_module_version": "1.2.0",
      "_model_name": "LayoutModel",
      "_view_count": null,
      "_view_module": "@jupyter-widgets/base",
      "_view_module_version": "1.2.0",
      "_view_name": "LayoutView",
      "align_content": null,
      "align_items": null,
      "align_self": null,
      "border": null,
      "bottom": null,
      "display": null,
      "flex": null,
      "flex_flow": null,
      "grid_area": null,
      "grid_auto_columns": null,
      "grid_auto_flow": null,
      "grid_auto_rows": null,
      "grid_column": null,
      "grid_gap": null,
      "grid_row": null,
      "grid_template_areas": null,
      "grid_template_columns": null,
      "grid_template_rows": null,
      "height": null,
      "justify_content": null,
      "justify_items": null,
      "left": null,
      "margin": null,
      "max_height": null,
      "max_width": null,
      "min_height": null,
      "min_width": null,
      "object_fit": null,
      "object_position": null,
      "order": null,
      "overflow": null,
      "overflow_x": null,
      "overflow_y": null,
      "padding": null,
      "right": null,
      "top": null,
      "visibility": null,
      "width": null
     }
    },
    "da80045ed52c493081fee59dea3566c4": {
     "model_module": "@jupyter-widgets/controls",
     "model_module_version": "1.5.0",
     "model_name": "DescriptionStyleModel",
     "state": {
      "_model_module": "@jupyter-widgets/controls",
      "_model_module_version": "1.5.0",
      "_model_name": "DescriptionStyleModel",
      "_view_count": null,
      "_view_module": "@jupyter-widgets/base",
      "_view_module_version": "1.2.0",
      "_view_name": "StyleView",
      "description_width": ""
     }
    },
    "dddcb90d7bed4f5194af3bc30894300c": {
     "model_module": "@jupyter-widgets/controls",
     "model_module_version": "1.5.0",
     "model_name": "DescriptionStyleModel",
     "state": {
      "_model_module": "@jupyter-widgets/controls",
      "_model_module_version": "1.5.0",
      "_model_name": "DescriptionStyleModel",
      "_view_count": null,
      "_view_module": "@jupyter-widgets/base",
      "_view_module_version": "1.2.0",
      "_view_name": "StyleView",
      "description_width": ""
     }
    },
    "df29560e808a4ca19ac7d38603e9c198": {
     "model_module": "@jupyter-widgets/controls",
     "model_module_version": "1.5.0",
     "model_name": "HTMLModel",
     "state": {
      "_dom_classes": [],
      "_model_module": "@jupyter-widgets/controls",
      "_model_module_version": "1.5.0",
      "_model_name": "HTMLModel",
      "_view_count": null,
      "_view_module": "@jupyter-widgets/controls",
      "_view_module_version": "1.5.0",
      "_view_name": "HTMLView",
      "description": "",
      "description_tooltip": null,
      "layout": "IPY_MODEL_1de76c53a8984a1d91d6084fbf8e683e",
      "placeholder": "​",
      "style": "IPY_MODEL_56072daab6484accb1feee4629ab18a2",
      "value": " 456k/456k [00:00&lt;00:00, 1.89MB/s]"
     }
    },
    "e663db3b311244fa8386a40eebb4d471": {
     "model_module": "@jupyter-widgets/controls",
     "model_module_version": "1.5.0",
     "model_name": "FloatProgressModel",
     "state": {
      "_dom_classes": [],
      "_model_module": "@jupyter-widgets/controls",
      "_model_module_version": "1.5.0",
      "_model_name": "FloatProgressModel",
      "_view_count": null,
      "_view_module": "@jupyter-widgets/controls",
      "_view_module_version": "1.5.0",
      "_view_name": "ProgressView",
      "bar_style": "success",
      "description": "",
      "description_tooltip": null,
      "layout": "IPY_MODEL_31c8ed73ab9448caaeb6adb1be1e18df",
      "max": 456318,
      "min": 0,
      "orientation": "horizontal",
      "style": "IPY_MODEL_4391473ac10a418db4170b3ea612d6a1",
      "value": 456318
     }
    },
    "e6b385c275164230bdf427e3879fee4b": {
     "model_module": "@jupyter-widgets/controls",
     "model_module_version": "1.5.0",
     "model_name": "DescriptionStyleModel",
     "state": {
      "_model_module": "@jupyter-widgets/controls",
      "_model_module_version": "1.5.0",
      "_model_name": "DescriptionStyleModel",
      "_view_count": null,
      "_view_module": "@jupyter-widgets/base",
      "_view_module_version": "1.2.0",
      "_view_name": "StyleView",
      "description_width": ""
     }
    },
    "e70c35c4506f4ba98f60dc1accf87a74": {
     "model_module": "@jupyter-widgets/controls",
     "model_module_version": "1.5.0",
     "model_name": "HTMLModel",
     "state": {
      "_dom_classes": [],
      "_model_module": "@jupyter-widgets/controls",
      "_model_module_version": "1.5.0",
      "_model_name": "HTMLModel",
      "_view_count": null,
      "_view_module": "@jupyter-widgets/controls",
      "_view_module_version": "1.5.0",
      "_view_name": "HTMLView",
      "description": "",
      "description_tooltip": null,
      "layout": "IPY_MODEL_02f0c4cfb1ef4ba1ae93e97a50dd8ea2",
      "placeholder": "​",
      "style": "IPY_MODEL_fc3f2d6035cb40c8a5a5f3cd50a7cffb",
      "value": "config.json: 100%"
     }
    },
    "e780005794384f24bf4bf3db151bdf02": {
     "model_module": "@jupyter-widgets/controls",
     "model_module_version": "1.5.0",
     "model_name": "HTMLModel",
     "state": {
      "_dom_classes": [],
      "_model_module": "@jupyter-widgets/controls",
      "_model_module_version": "1.5.0",
      "_model_name": "HTMLModel",
      "_view_count": null,
      "_view_module": "@jupyter-widgets/controls",
      "_view_module_version": "1.5.0",
      "_view_name": "HTMLView",
      "description": "",
      "description_tooltip": null,
      "layout": "IPY_MODEL_4f2d60a1553940399117af568d4c2287",
      "placeholder": "​",
      "style": "IPY_MODEL_74b14093825944eaa5b78f890078b549",
      "value": " 25.0/25.0 [00:00&lt;00:00, 1.58kB/s]"
     }
    },
    "e87ea3d90f8448c8aa352821b6a39bf6": {
     "model_module": "@jupyter-widgets/base",
     "model_module_version": "1.2.0",
     "model_name": "LayoutModel",
     "state": {
      "_model_module": "@jupyter-widgets/base",
      "_model_module_version": "1.2.0",
      "_model_name": "LayoutModel",
      "_view_count": null,
      "_view_module": "@jupyter-widgets/base",
      "_view_module_version": "1.2.0",
      "_view_name": "LayoutView",
      "align_content": null,
      "align_items": null,
      "align_self": null,
      "border": null,
      "bottom": null,
      "display": null,
      "flex": null,
      "flex_flow": null,
      "grid_area": null,
      "grid_auto_columns": null,
      "grid_auto_flow": null,
      "grid_auto_rows": null,
      "grid_column": null,
      "grid_gap": null,
      "grid_row": null,
      "grid_template_areas": null,
      "grid_template_columns": null,
      "grid_template_rows": null,
      "height": null,
      "justify_content": null,
      "justify_items": null,
      "left": null,
      "margin": null,
      "max_height": null,
      "max_width": null,
      "min_height": null,
      "min_width": null,
      "object_fit": null,
      "object_position": null,
      "order": null,
      "overflow": null,
      "overflow_x": null,
      "overflow_y": null,
      "padding": null,
      "right": null,
      "top": null,
      "visibility": null,
      "width": null
     }
    },
    "ed0126d7c5114ae3a79d4ff6d789b43f": {
     "model_module": "@jupyter-widgets/controls",
     "model_module_version": "1.5.0",
     "model_name": "DescriptionStyleModel",
     "state": {
      "_model_module": "@jupyter-widgets/controls",
      "_model_module_version": "1.5.0",
      "_model_name": "DescriptionStyleModel",
      "_view_count": null,
      "_view_module": "@jupyter-widgets/base",
      "_view_module_version": "1.2.0",
      "_view_name": "StyleView",
      "description_width": ""
     }
    },
    "f0e47b3228ee48a4a321c449c80adc93": {
     "model_module": "@jupyter-widgets/base",
     "model_module_version": "1.2.0",
     "model_name": "LayoutModel",
     "state": {
      "_model_module": "@jupyter-widgets/base",
      "_model_module_version": "1.2.0",
      "_model_name": "LayoutModel",
      "_view_count": null,
      "_view_module": "@jupyter-widgets/base",
      "_view_module_version": "1.2.0",
      "_view_name": "LayoutView",
      "align_content": null,
      "align_items": null,
      "align_self": null,
      "border": null,
      "bottom": null,
      "display": null,
      "flex": null,
      "flex_flow": null,
      "grid_area": null,
      "grid_auto_columns": null,
      "grid_auto_flow": null,
      "grid_auto_rows": null,
      "grid_column": null,
      "grid_gap": null,
      "grid_row": null,
      "grid_template_areas": null,
      "grid_template_columns": null,
      "grid_template_rows": null,
      "height": null,
      "justify_content": null,
      "justify_items": null,
      "left": null,
      "margin": null,
      "max_height": null,
      "max_width": null,
      "min_height": null,
      "min_width": null,
      "object_fit": null,
      "object_position": null,
      "order": null,
      "overflow": null,
      "overflow_x": null,
      "overflow_y": null,
      "padding": null,
      "right": null,
      "top": null,
      "visibility": null,
      "width": null
     }
    },
    "f5775be9c139494587fa81a0ce8a0975": {
     "model_module": "@jupyter-widgets/controls",
     "model_module_version": "1.5.0",
     "model_name": "FloatProgressModel",
     "state": {
      "_dom_classes": [],
      "_model_module": "@jupyter-widgets/controls",
      "_model_module_version": "1.5.0",
      "_model_name": "FloatProgressModel",
      "_view_count": null,
      "_view_module": "@jupyter-widgets/controls",
      "_view_module_version": "1.5.0",
      "_view_name": "ProgressView",
      "bar_style": "success",
      "description": "",
      "description_tooltip": null,
      "layout": "IPY_MODEL_9e608ffc047242569668657aebf4a396",
      "max": 456318,
      "min": 0,
      "orientation": "horizontal",
      "style": "IPY_MODEL_0e7af692cc644655a9cf098198957d6c",
      "value": 456318
     }
    },
    "f5c26665262f4aa9b6945fc02b2b02a1": {
     "model_module": "@jupyter-widgets/controls",
     "model_module_version": "1.5.0",
     "model_name": "HTMLModel",
     "state": {
      "_dom_classes": [],
      "_model_module": "@jupyter-widgets/controls",
      "_model_module_version": "1.5.0",
      "_model_name": "HTMLModel",
      "_view_count": null,
      "_view_module": "@jupyter-widgets/controls",
      "_view_module_version": "1.5.0",
      "_view_name": "HTMLView",
      "description": "",
      "description_tooltip": null,
      "layout": "IPY_MODEL_4c935395bbbe444b81e1b07963700803",
      "placeholder": "​",
      "style": "IPY_MODEL_b8bb04634f804a4fa9a7076ab8031b81",
      "value": "vocab.json: 100%"
     }
    },
    "f737fd4951cb49d683d13d79912708ef": {
     "model_module": "@jupyter-widgets/controls",
     "model_module_version": "1.5.0",
     "model_name": "HTMLModel",
     "state": {
      "_dom_classes": [],
      "_model_module": "@jupyter-widgets/controls",
      "_model_module_version": "1.5.0",
      "_model_name": "HTMLModel",
      "_view_count": null,
      "_view_module": "@jupyter-widgets/controls",
      "_view_module_version": "1.5.0",
      "_view_name": "HTMLView",
      "description": "",
      "description_tooltip": null,
      "layout": "IPY_MODEL_488cf115ffa349e28e39f6cf3f82f862",
      "placeholder": "​",
      "style": "IPY_MODEL_42d07910c25843e888084fd027b073b5",
      "value": "tokenizer_config.json: 100%"
     }
    },
    "fc3f2d6035cb40c8a5a5f3cd50a7cffb": {
     "model_module": "@jupyter-widgets/controls",
     "model_module_version": "1.5.0",
     "model_name": "DescriptionStyleModel",
     "state": {
      "_model_module": "@jupyter-widgets/controls",
      "_model_module_version": "1.5.0",
      "_model_name": "DescriptionStyleModel",
      "_view_count": null,
      "_view_module": "@jupyter-widgets/base",
      "_view_module_version": "1.2.0",
      "_view_name": "StyleView",
      "description_width": ""
     }
    },
    "fd33574f65354fffaa35840b6a72ce96": {
     "model_module": "@jupyter-widgets/base",
     "model_module_version": "1.2.0",
     "model_name": "LayoutModel",
     "state": {
      "_model_module": "@jupyter-widgets/base",
      "_model_module_version": "1.2.0",
      "_model_name": "LayoutModel",
      "_view_count": null,
      "_view_module": "@jupyter-widgets/base",
      "_view_module_version": "1.2.0",
      "_view_name": "LayoutView",
      "align_content": null,
      "align_items": null,
      "align_self": null,
      "border": null,
      "bottom": null,
      "display": null,
      "flex": null,
      "flex_flow": null,
      "grid_area": null,
      "grid_auto_columns": null,
      "grid_auto_flow": null,
      "grid_auto_rows": null,
      "grid_column": null,
      "grid_gap": null,
      "grid_row": null,
      "grid_template_areas": null,
      "grid_template_columns": null,
      "grid_template_rows": null,
      "height": null,
      "justify_content": null,
      "justify_items": null,
      "left": null,
      "margin": null,
      "max_height": null,
      "max_width": null,
      "min_height": null,
      "min_width": null,
      "object_fit": null,
      "object_position": null,
      "order": null,
      "overflow": null,
      "overflow_x": null,
      "overflow_y": null,
      "padding": null,
      "right": null,
      "top": null,
      "visibility": null,
      "width": null
     }
    },
    "fe98f1d0f6c04361823e7c57d7c818d7": {
     "model_module": "@jupyter-widgets/base",
     "model_module_version": "1.2.0",
     "model_name": "LayoutModel",
     "state": {
      "_model_module": "@jupyter-widgets/base",
      "_model_module_version": "1.2.0",
      "_model_name": "LayoutModel",
      "_view_count": null,
      "_view_module": "@jupyter-widgets/base",
      "_view_module_version": "1.2.0",
      "_view_name": "LayoutView",
      "align_content": null,
      "align_items": null,
      "align_self": null,
      "border": null,
      "bottom": null,
      "display": null,
      "flex": null,
      "flex_flow": null,
      "grid_area": null,
      "grid_auto_columns": null,
      "grid_auto_flow": null,
      "grid_auto_rows": null,
      "grid_column": null,
      "grid_gap": null,
      "grid_row": null,
      "grid_template_areas": null,
      "grid_template_columns": null,
      "grid_template_rows": null,
      "height": null,
      "justify_content": null,
      "justify_items": null,
      "left": null,
      "margin": null,
      "max_height": null,
      "max_width": null,
      "min_height": null,
      "min_width": null,
      "object_fit": null,
      "object_position": null,
      "order": null,
      "overflow": null,
      "overflow_x": null,
      "overflow_y": null,
      "padding": null,
      "right": null,
      "top": null,
      "visibility": null,
      "width": null
     }
    }
   }
  }
 },
 "nbformat": 4,
 "nbformat_minor": 1
}
